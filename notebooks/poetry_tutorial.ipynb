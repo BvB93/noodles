{
 "cells": [
  {
   "cell_type": "markdown",
   "metadata": {},
   "source": [
    "Real World Tutorial 1: Translating Poetry\n",
    "=========================================\n",
    "\n",
    "First example\n",
    "-------------\n",
    "\n",
    "We build workflows by calling functions. The simplest example of this\n",
    "is the \"diamond workflow\":"
   ]
  },
  {
   "cell_type": "code",
   "execution_count": 1,
   "metadata": {},
   "outputs": [
    {
     "name": "stdout",
     "output_type": "stream",
     "text": [
      "The answer is 42.\n"
     ]
    }
   ],
   "source": [
    "from noodles import run_single\n",
    "from noodles.tutorial import (add, sub, mul)\n",
    "\n",
    "u = add(5, 4)\n",
    "v = sub(u, 3)\n",
    "w = sub(u, 2)\n",
    "x = mul(v, w)\n",
    "\n",
    "answer = run_single(x)\n",
    "\n",
    "print(\"The answer is {0}.\".format(answer))"
   ]
  },
  {
   "cell_type": "markdown",
   "metadata": {},
   "source": [
    "That looks like any other Python code! But this example is a bit silly.\n",
    "How do we leverage Noodles to earn an honest living? Here's a slightly less\n",
    "silly example (but only just!). We will build a small translation engine\n",
    "that translates sentences by submitting each word to an online dictionary\n",
    "over a Rest API. To do this we make loops (\"For thou shalt make loops of \n",
    "blue\"). First we build the program as you would do in Python, then we\n",
    "sprinkle some Noodles magic and make it work parallel! Furthermore, we'll\n",
    "see how to:\n",
    "\n",
    "    * make more loops\n",
    "    * cache results for reuse"
   ]
  },
  {
   "cell_type": "markdown",
   "metadata": {
    "collapsed": true
   },
   "source": [
    "## Making loops\n",
    "\n",
    "Thats all swell, but how do we make a parallel loop? Let's look at a `map` operation; in Python there are several ways to perform a function on all elements in an array. For this example, we will translate some words using the Glosbe service, which has a nice REST interface. We first build some functionality to use this interface."
   ]
  },
  {
   "cell_type": "code",
   "execution_count": 2,
   "metadata": {
    "collapsed": true
   },
   "outputs": [],
   "source": [
    "import urllib.request\n",
    "import json\n",
    "import re\n",
    "\n",
    "\n",
    "class Translate:\n",
    "    \"\"\"Translate words and sentences in the worst possible way. The Glosbe dictionary\n",
    "    has a nice REST interface that we query for a phrase. We then take the first result.\n",
    "    To translate a sentence, we cut it in pieces, translate it and paste it back into\n",
    "    a Frankenstein monster.\"\"\"\n",
    "    def __init__(self, src_lang='en', tgt_lang='fy'):\n",
    "        self.src = src_lang\n",
    "        self.tgt = tgt_lang\n",
    "        self.url = 'https://glosbe.com/gapi/translate?' \\\n",
    "                   'from={src}&dest={tgt}&' \\\n",
    "                   'phrase={{phrase}}&format=json'.format(\n",
    "                        src=src_lang, tgt=tgt_lang)\n",
    "    \n",
    "    def query_phrase(self, phrase):\n",
    "        with urllib.request.urlopen(self.url.format(phrase=phrase.lower())) as response:\n",
    "            translation = json.loads(response.read().decode())\n",
    "        return translation\n",
    "\n",
    "    def word(self, phrase):\n",
    "        translation = self.query_phrase(phrase)\n",
    "        #translation = {'tuc': [{'phrase': {'text': phrase.lower()[::-1]}}]}\n",
    "        if len(translation['tuc']) > 0 and 'phrase' in translation['tuc'][0]:\n",
    "            result = translation['tuc'][0]['phrase']['text']\n",
    "            if phrase[0].isupper():\n",
    "                return result.title()\n",
    "            else:\n",
    "                return result            \n",
    "        else:\n",
    "            return \"<\" + phrase + \">\"\n",
    "    \n",
    "    def sentence(self, phrase):\n",
    "        words = re.sub(\"[^\\w]\", \" \", phrase).split()\n",
    "        space = re.sub(\"[\\w]+\", \"{}\", phrase)\n",
    "        return space.format(*map(self.word, words))"
   ]
  },
  {
   "cell_type": "markdown",
   "metadata": {},
   "source": [
    "We start with a list of strings that desparately need translation. And add a little\n",
    "routine to print it in a gracious manner."
   ]
  },
  {
   "cell_type": "code",
   "execution_count": 3,
   "metadata": {},
   "outputs": [
    {
     "name": "stdout",
     "output_type": "stream",
     "text": [
      "Original:\n",
      "      If music be the food of love, play on,\n",
      "      Give me excess of it; that surfeiting,\n",
      "      The appetite may sicken, and so die.\n",
      "\n"
     ]
    }
   ],
   "source": [
    "shakespeare = [\n",
    "    \"If music be the food of love, play on,\",\n",
    "    \"Give me excess of it; that surfeiting,\",\n",
    "    \"The appetite may sicken, and so die.\"]\n",
    "\n",
    "def print_poem(intro, poem):\n",
    "    print(intro)\n",
    "    for line in poem:\n",
    "        print(\"     \", line)\n",
    "    print()\n",
    "\n",
    "print_poem(\"Original:\", shakespeare)"
   ]
  },
  {
   "cell_type": "markdown",
   "metadata": {},
   "source": [
    "Beginning Python programmers like to append things; this is not how you are\n",
    "supposed to program in Python; if you do, please go and read Jeff Knupp's *Writing Idiomatic Python*."
   ]
  },
  {
   "cell_type": "code",
   "execution_count": 4,
   "metadata": {},
   "outputs": [
    {
     "name": "stdout",
     "output_type": "stream",
     "text": [
      "Auf Deutsch:\n",
      "      Wenn Musik sein der Essen von Minne, spielen an,\n",
      "      Geben ich Übermaß von es; das übersättigend,\n",
      "      Der Appetit dürfen erkranken, und so sterben.\n",
      "\n"
     ]
    }
   ],
   "source": [
    "shakespeare_auf_deutsch = []\n",
    "for line in shakespeare:\n",
    "    shakespeare_auf_deutsch.append(\n",
    "        Translate('en', 'de').sentence(line))\n",
    "print_poem(\"Auf Deutsch:\", shakespeare_auf_deutsch)"
   ]
  },
  {
   "cell_type": "markdown",
   "metadata": {},
   "source": [
    "Rather use a comprehension like so:"
   ]
  },
  {
   "cell_type": "code",
   "execution_count": 5,
   "metadata": {},
   "outputs": [
    {
     "name": "stdout",
     "output_type": "stream",
     "text": [
      "Yn it Frysk:\n",
      "      At muzyk wêze de fiedsel fan leafde, boartsje oan,\n",
      "      Jaan <me> by fersin fan it; dat <surfeiting>,\n",
      "      De <appetite> maaie <sicken>, en dus deagean.\n",
      "\n"
     ]
    }
   ],
   "source": [
    "shakespeare_ynt_frysk = \\\n",
    "    (Translate('en', 'fy').sentence(line) for line in shakespeare)\n",
    "print_poem(\"Yn it Frysk:\", shakespeare_ynt_frysk)"
   ]
  },
  {
   "cell_type": "markdown",
   "metadata": {},
   "source": [
    "Or use `map`:"
   ]
  },
  {
   "cell_type": "code",
   "execution_count": 6,
   "metadata": {},
   "outputs": [
    {
     "name": "stdout",
     "output_type": "stream",
     "text": [
      "På Dansk:\n",
      "      Hvis musik være de mad af kærlighed, spil på,\n",
      "      Give mig udskejelser af det; som <surfeiting>,\n",
      "      De appetit må <sicken>, og så dø.\n",
      "\n"
     ]
    }
   ],
   "source": [
    "shakespeare_pa_dansk = \\\n",
    "    map(Translate('en', 'da').sentence, shakespeare)\n",
    "print_poem(\"På Dansk:\", shakespeare_pa_dansk)"
   ]
  },
  {
   "cell_type": "markdown",
   "metadata": {},
   "source": [
    "## Noodlify!\n",
    "If your connection is a bit slow, you may find that the translations take a while to process. Wouldn't it be nice to do it in parallel? How much code would we have to change to get there in Noodles? Let's take the slow part of the program and add a `@schedule` decorator, and run! Sadly, it is not that simple. We can add `@schedule` to the `word` method. This means that it will return a promise. \n",
    "\n",
    "* Rule: *Functions that take promises need to be scheduled functions, or refer to a scheduled function at some level.* \n",
    "\n",
    "We could write\n",
    "\n",
    "    return schedule(space.format)(*(self.word(w) for w in words))\n",
    "    \n",
    "in the last line of the `sentence` method, but the string format method doesn't support wrapping. We rely on getting the signature of a function by calling `inspect.signature`. In some cases of build-in function this raises an exception. We may find a work around for these cases in future versions of Noodles. For the moment we'll have to define a little wrapper function."
   ]
  },
  {
   "cell_type": "code",
   "execution_count": 7,
   "metadata": {
    "collapsed": true
   },
   "outputs": [],
   "source": [
    "from noodles import schedule\n",
    "\n",
    "\n",
    "@schedule\n",
    "def format_string(s, *args, **kwargs):\n",
    "    return s.format(*args, **kwargs)\n",
    "\n",
    "\n",
    "import urllib.request\n",
    "import json\n",
    "import re\n",
    "\n",
    "\n",
    "class Translate:\n",
    "    \"\"\"Translate words and sentences in the worst possible way. The Glosbe dictionary\n",
    "    has a nice REST interface that we query for a phrase. We then take the first result.\n",
    "    To translate a sentence, we cut it in pieces, translate it and paste it back into\n",
    "    a Frankenstein monster.\"\"\"\n",
    "    def __init__(self, src_lang='en', tgt_lang='fy'):\n",
    "        self.src = src_lang\n",
    "        self.tgt = tgt_lang\n",
    "        self.url = 'https://glosbe.com/gapi/translate?' \\\n",
    "                   'from={src}&dest={tgt}&' \\\n",
    "                   'phrase={{phrase}}&format=json'.format(\n",
    "                        src=src_lang, tgt=tgt_lang)\n",
    "    \n",
    "    def query_phrase(self, phrase):\n",
    "        with urllib.request.urlopen(self.url.format(phrase=phrase.lower())) as response:\n",
    "            translation = json.loads(response.read().decode())\n",
    "        return translation\n",
    "    \n",
    "    @schedule\n",
    "    def word(self, phrase):\n",
    "        #translation = {'tuc': [{'phrase': {'text': phrase.lower()[::-1]}}]}\n",
    "        translation = self.query_phrase(phrase)\n",
    "        \n",
    "        if len(translation['tuc']) > 0 and 'phrase' in translation['tuc'][0]:\n",
    "            result = translation['tuc'][0]['phrase']['text']\n",
    "            if phrase[0].isupper():\n",
    "                return result.title()\n",
    "            else:\n",
    "                return result            \n",
    "        else:\n",
    "            return \"<\" + phrase + \">\"\n",
    "        \n",
    "    def sentence(self, phrase):\n",
    "        words = re.sub(\"[^\\w]\", \" \", phrase).split()\n",
    "        space = re.sub(\"[\\w]+\", \"{}\", phrase)\n",
    "        return format_string(space, *map(self.word, words))\n",
    "    \n",
    "    def __str__(self):\n",
    "        return \"[{} -> {}]\".format(self.src, self.tgt)\n",
    "    \n",
    "    def __serialize__(self, pack):\n",
    "        return pack({'src_lang': self.src,\n",
    "                     'tgt_lang': self.tgt})\n",
    "\n",
    "    @classmethod\n",
    "    def __construct__(cls, msg):\n",
    "        return cls(**msg)"
   ]
  },
  {
   "cell_type": "markdown",
   "metadata": {},
   "source": [
    "Let's take stock of the mutations to the original. We've added a `@schedule` decorator to `word`, and changed a function call in `sentence`. Also we added the `__str__` method; this is only needed to plot the workflow graph. Let's run the new script."
   ]
  },
  {
   "cell_type": "code",
   "execution_count": 8,
   "metadata": {},
   "outputs": [
    {
     "name": "stdout",
     "output_type": "stream",
     "text": [
      "Shakespeare en Esperanto:\n",
      "      Se muziko esti la manĝaĵo de ami, ludi sur,\n",
      "      Doni mi eksceso de ĝi; ke <surfeiting>,\n",
      "      La apetito povi naŭzi, kaj tiel morti.\n",
      "\n"
     ]
    }
   ],
   "source": [
    "from noodles import gather, run_parallel\n",
    "from noodles.tutorial import get_workflow_graph\n",
    "\n",
    "shakespeare_en_esperanto = \\\n",
    "    map(Translate('en', 'eo').sentence, shakespeare)\n",
    "\n",
    "wf = gather(*shakespeare_en_esperanto)\n",
    "workflow_graph = get_workflow_graph(wf._workflow)\n",
    "result = run_parallel(wf, n_threads=8)\n",
    "print_poem(\"Shakespeare en Esperanto:\", result)"
   ]
  },
  {
   "cell_type": "markdown",
   "metadata": {},
   "source": [
    "The last peculiar thing that you may notice, is the `gather` function. It collects the promises that `map` generates and creates a single new promise. The definition of `gather` is very simple:\n",
    "    \n",
    "    @schedule\n",
    "    def gather(*lst):\n",
    "        return lst\n",
    "\n",
    "The workflow graph of the Esperanto translator script looks like this:"
   ]
  },
  {
   "cell_type": "code",
   "execution_count": 9,
   "metadata": {},
   "outputs": [
    {
     "data": {
      "image/svg+xml": [
       "<?xml version=\"1.0\" encoding=\"UTF-8\" standalone=\"no\"?>\n",
       "<!DOCTYPE svg PUBLIC \"-//W3C//DTD SVG 1.1//EN\"\n",
       " \"http://www.w3.org/Graphics/SVG/1.1/DTD/svg11.dtd\">\n",
       "<!-- Generated by graphviz version 2.38.0 (20140413.2041)\n",
       " -->\n",
       "<!-- Title: %3 Pages: 1 -->\n",
       "<svg width=\"720pt\" height=\"48pt\"\n",
       " viewBox=\"0.00 0.00 720.00 47.61\" xmlns=\"http://www.w3.org/2000/svg\" xmlns:xlink=\"http://www.w3.org/1999/xlink\">\n",
       "<g id=\"graph0\" class=\"graph\" transform=\"scale(0.175535 0.175535) rotate(0) translate(4 267.22)\">\n",
       "<title>%3</title>\n",
       "<polygon fill=\"white\" stroke=\"none\" points=\"-4,4 -4,-267.22 4097.74,-267.22 4097.74,4 -4,4\"/>\n",
       "<!-- 140504116175424 -->\n",
       "<g id=\"node1\" class=\"node\"><title>140504116175424</title>\n",
       "<ellipse fill=\"none\" stroke=\"black\" cx=\"3827.54\" cy=\"-236.35\" rx=\"89.6056\" ry=\"26.7407\"/>\n",
       "<text text-anchor=\"middle\" x=\"3827.54\" y=\"-240.15\" font-family=\"Times,serif\" font-size=\"14.00\">word </text>\n",
       "<text text-anchor=\"middle\" x=\"3827.54\" y=\"-225.15\" font-family=\"Times,serif\" font-size=\"14.00\"> ([en &#45;&gt; eo], excess)</text>\n",
       "</g>\n",
       "<!-- 140504104094632 -->\n",
       "<g id=\"node8\" class=\"node\"><title>140504104094632</title>\n",
       "<ellipse fill=\"none\" stroke=\"black\" cx=\"3401.54\" cy=\"-131.61\" rx=\"216.249\" ry=\"26.7407\"/>\n",
       "<text text-anchor=\"middle\" x=\"3401.54\" y=\"-135.41\" font-family=\"Times,serif\" font-size=\"14.00\">format_string </text>\n",
       "<text text-anchor=\"middle\" x=\"3401.54\" y=\"-120.41\" font-family=\"Times,serif\" font-size=\"14.00\"> ({} {} {} {} {}; {} {},, —, —, —, —, —, —, —)</text>\n",
       "</g>\n",
       "<!-- 140504116175424&#45;&gt;140504104094632 -->\n",
       "<g id=\"edge1\" class=\"edge\"><title>140504116175424&#45;&gt;140504104094632</title>\n",
       "<path fill=\"none\" stroke=\"black\" d=\"M3761.83,-217.937C3750.73,-215.065 3739.32,-212.154 3728.54,-209.48 3656.54,-191.614 3575.37,-172.525 3511.9,-157.839\"/>\n",
       "<polygon fill=\"black\" stroke=\"black\" points=\"3512.41,-154.363 3501.87,-155.521 3510.83,-161.183 3512.41,-154.363\"/>\n",
       "<text text-anchor=\"middle\" x=\"3660.04\" y=\"-180.28\" font-family=\"Times,serif\" font-size=\"14.00\">args</text>\n",
       "</g>\n",
       "<!-- 140504104093344 -->\n",
       "<g id=\"node2\" class=\"node\"><title>140504104093344</title>\n",
       "<ellipse fill=\"none\" stroke=\"black\" cx=\"2189.54\" cy=\"-236.35\" rx=\"88.2768\" ry=\"26.7407\"/>\n",
       "<text text-anchor=\"middle\" x=\"2189.54\" y=\"-240.15\" font-family=\"Times,serif\" font-size=\"14.00\">word </text>\n",
       "<text text-anchor=\"middle\" x=\"2189.54\" y=\"-225.15\" font-family=\"Times,serif\" font-size=\"14.00\"> ([en &#45;&gt; eo], music)</text>\n",
       "</g>\n",
       "<!-- 140504104092784 -->\n",
       "<g id=\"node14\" class=\"node\"><title>140504104092784</title>\n",
       "<ellipse fill=\"none\" stroke=\"black\" cx=\"2011.54\" cy=\"-131.61\" rx=\"271.558\" ry=\"26.7407\"/>\n",
       "<text text-anchor=\"middle\" x=\"2011.54\" y=\"-135.41\" font-family=\"Times,serif\" font-size=\"14.00\">format_string </text>\n",
       "<text text-anchor=\"middle\" x=\"2011.54\" y=\"-120.41\" font-family=\"Times,serif\" font-size=\"14.00\"> ({} {} {} {} {} {} {}, {} {},, —, —, —, —, —, —, —, —, —)</text>\n",
       "</g>\n",
       "<!-- 140504104093344&#45;&gt;140504104092784 -->\n",
       "<g id=\"edge2\" class=\"edge\"><title>140504104093344&#45;&gt;140504104092784</title>\n",
       "<path fill=\"none\" stroke=\"black\" d=\"M2149.59,-212.293C2124.64,-197.889 2092.2,-179.165 2065.03,-163.487\"/>\n",
       "<polygon fill=\"black\" stroke=\"black\" points=\"2066.45,-160.265 2056.04,-158.297 2062.95,-166.328 2066.45,-160.265\"/>\n",
       "<text text-anchor=\"middle\" x=\"2123.04\" y=\"-180.28\" font-family=\"Times,serif\" font-size=\"14.00\">args</text>\n",
       "</g>\n",
       "<!-- 140504116176264 -->\n",
       "<g id=\"node3\" class=\"node\"><title>140504116176264</title>\n",
       "<ellipse fill=\"none\" stroke=\"black\" cx=\"2011.54\" cy=\"-26.8701\" rx=\"61.5366\" ry=\"26.7407\"/>\n",
       "<text text-anchor=\"middle\" x=\"2011.54\" y=\"-30.6701\" font-family=\"Times,serif\" font-size=\"14.00\">gather </text>\n",
       "<text text-anchor=\"middle\" x=\"2011.54\" y=\"-15.6701\" font-family=\"Times,serif\" font-size=\"14.00\"> (—, —, —)</text>\n",
       "</g>\n",
       "<!-- 140504116174976 -->\n",
       "<g id=\"node4\" class=\"node\"><title>140504116174976</title>\n",
       "<ellipse fill=\"none\" stroke=\"black\" cx=\"4014.54\" cy=\"-236.35\" rx=\"79.3924\" ry=\"26.7407\"/>\n",
       "<text text-anchor=\"middle\" x=\"4014.54\" y=\"-240.15\" font-family=\"Times,serif\" font-size=\"14.00\">word </text>\n",
       "<text text-anchor=\"middle\" x=\"4014.54\" y=\"-225.15\" font-family=\"Times,serif\" font-size=\"14.00\"> ([en &#45;&gt; eo], that)</text>\n",
       "</g>\n",
       "<!-- 140504116174976&#45;&gt;140504104094632 -->\n",
       "<g id=\"edge3\" class=\"edge\"><title>140504116174976&#45;&gt;140504104094632</title>\n",
       "<path fill=\"none\" stroke=\"black\" d=\"M3958.04,-217.469C3947.63,-214.538 3936.81,-211.729 3926.54,-209.48 3808.54,-183.631 3673.67,-164.094 3570.18,-151.185\"/>\n",
       "<polygon fill=\"black\" stroke=\"black\" points=\"3570.3,-147.673 3559.95,-149.917 3569.44,-154.62 3570.3,-147.673\"/>\n",
       "<text text-anchor=\"middle\" x=\"3838.04\" y=\"-180.28\" font-family=\"Times,serif\" font-size=\"14.00\">args</text>\n",
       "</g>\n",
       "<!-- 140504116175592 -->\n",
       "<g id=\"node5\" class=\"node\"><title>140504116175592</title>\n",
       "<ellipse fill=\"none\" stroke=\"black\" cx=\"1173.54\" cy=\"-236.35\" rx=\"82.0488\" ry=\"26.7407\"/>\n",
       "<text text-anchor=\"middle\" x=\"1173.54\" y=\"-240.15\" font-family=\"Times,serif\" font-size=\"14.00\">word </text>\n",
       "<text text-anchor=\"middle\" x=\"1173.54\" y=\"-225.15\" font-family=\"Times,serif\" font-size=\"14.00\"> ([en &#45;&gt; eo], may)</text>\n",
       "</g>\n",
       "<!-- 140504116177440 -->\n",
       "<g id=\"node11\" class=\"node\"><title>140504116177440</title>\n",
       "<ellipse fill=\"none\" stroke=\"black\" cx=\"709.539\" cy=\"-131.61\" rx=\"216.249\" ry=\"26.7407\"/>\n",
       "<text text-anchor=\"middle\" x=\"709.539\" y=\"-135.41\" font-family=\"Times,serif\" font-size=\"14.00\">format_string </text>\n",
       "<text text-anchor=\"middle\" x=\"709.539\" y=\"-120.41\" font-family=\"Times,serif\" font-size=\"14.00\"> ({} {} {} {}, {} {} {}., —, —, —, —, —, —, —)</text>\n",
       "</g>\n",
       "<!-- 140504116175592&#45;&gt;140504116177440 -->\n",
       "<g id=\"edge4\" class=\"edge\"><title>140504116175592&#45;&gt;140504116177440</title>\n",
       "<path fill=\"none\" stroke=\"black\" d=\"M1113.82,-217.899C1103.11,-214.957 1092.02,-212.033 1081.54,-209.48 999.996,-189.616 907.593,-170.505 835.28,-156.307\"/>\n",
       "<polygon fill=\"black\" stroke=\"black\" points=\"835.699,-152.823 825.213,-154.337 834.355,-159.692 835.699,-152.823\"/>\n",
       "<text text-anchor=\"middle\" x=\"1012.04\" y=\"-180.28\" font-family=\"Times,serif\" font-size=\"14.00\">args</text>\n",
       "</g>\n",
       "<!-- 140504125357136 -->\n",
       "<g id=\"node6\" class=\"node\"><title>140504125357136</title>\n",
       "<ellipse fill=\"none\" stroke=\"black\" cx=\"2377.54\" cy=\"-236.35\" rx=\"81.135\" ry=\"26.7407\"/>\n",
       "<text text-anchor=\"middle\" x=\"2377.54\" y=\"-240.15\" font-family=\"Times,serif\" font-size=\"14.00\">word </text>\n",
       "<text text-anchor=\"middle\" x=\"2377.54\" y=\"-225.15\" font-family=\"Times,serif\" font-size=\"14.00\"> ([en &#45;&gt; eo], love)</text>\n",
       "</g>\n",
       "<!-- 140504125357136&#45;&gt;140504104092784 -->\n",
       "<g id=\"edge5\" class=\"edge\"><title>140504125357136&#45;&gt;140504104092784</title>\n",
       "<path fill=\"none\" stroke=\"black\" d=\"M2317.34,-218.197C2307.07,-215.28 2296.5,-212.288 2286.54,-209.48 2227.7,-192.892 2161.73,-174.447 2109.16,-159.784\"/>\n",
       "<polygon fill=\"black\" stroke=\"black\" points=\"2110.07,-156.406 2099.5,-157.091 2108.19,-163.149 2110.07,-156.406\"/>\n",
       "<text text-anchor=\"middle\" x=\"2231.04\" y=\"-180.28\" font-family=\"Times,serif\" font-size=\"14.00\">args</text>\n",
       "</g>\n",
       "<!-- 140504125357752 -->\n",
       "<g id=\"node7\" class=\"node\"><title>140504125357752</title>\n",
       "<ellipse fill=\"none\" stroke=\"black\" cx=\"2915.54\" cy=\"-236.35\" rx=\"77.1494\" ry=\"26.7407\"/>\n",
       "<text text-anchor=\"middle\" x=\"2915.54\" y=\"-240.15\" font-family=\"Times,serif\" font-size=\"14.00\">word </text>\n",
       "<text text-anchor=\"middle\" x=\"2915.54\" y=\"-225.15\" font-family=\"Times,serif\" font-size=\"14.00\"> ([en &#45;&gt; eo], me)</text>\n",
       "</g>\n",
       "<!-- 140504125357752&#45;&gt;140504104094632 -->\n",
       "<g id=\"edge6\" class=\"edge\"><title>140504125357752&#45;&gt;140504104094632</title>\n",
       "<path fill=\"none\" stroke=\"black\" d=\"M2971.29,-217.677C2981.31,-214.758 2991.7,-211.899 3001.54,-209.48 3088.63,-188.072 3187.6,-169.009 3265.31,-155.222\"/>\n",
       "<polygon fill=\"black\" stroke=\"black\" points=\"3265.92,-158.668 3275.16,-153.482 3264.7,-151.775 3265.92,-158.668\"/>\n",
       "<text text-anchor=\"middle\" x=\"3156.04\" y=\"-180.28\" font-family=\"Times,serif\" font-size=\"14.00\">args</text>\n",
       "</g>\n",
       "<!-- 140504104094632&#45;&gt;140504116176264 -->\n",
       "<g id=\"edge7\" class=\"edge\"><title>140504104094632&#45;&gt;140504116176264</title>\n",
       "<path fill=\"none\" stroke=\"black\" d=\"M3219.11,-117.126C2908.56,-94.1719 2290.57,-48.4941 2082.09,-33.0849\"/>\n",
       "<polygon fill=\"black\" stroke=\"black\" points=\"2082.12,-29.5773 2071.89,-32.3306 2081.6,-36.5583 2082.12,-29.5773\"/>\n",
       "<text text-anchor=\"middle\" x=\"2794.04\" y=\"-75.5401\" font-family=\"Times,serif\" font-size=\"14.00\">a</text>\n",
       "</g>\n",
       "<!-- 140504116175816 -->\n",
       "<g id=\"node9\" class=\"node\"><title>140504116175816</title>\n",
       "<ellipse fill=\"none\" stroke=\"black\" cx=\"3111.54\" cy=\"-236.35\" rx=\"101.233\" ry=\"26.7407\"/>\n",
       "<text text-anchor=\"middle\" x=\"3111.54\" y=\"-240.15\" font-family=\"Times,serif\" font-size=\"14.00\">word </text>\n",
       "<text text-anchor=\"middle\" x=\"3111.54\" y=\"-225.15\" font-family=\"Times,serif\" font-size=\"14.00\"> ([en &#45;&gt; eo], surfeiting)</text>\n",
       "</g>\n",
       "<!-- 140504116175816&#45;&gt;140504104094632 -->\n",
       "<g id=\"edge8\" class=\"edge\"><title>140504116175816&#45;&gt;140504104094632</title>\n",
       "<path fill=\"none\" stroke=\"black\" d=\"M3170.57,-214.435C3214.51,-198.869 3274.93,-177.464 3322.96,-160.451\"/>\n",
       "<polygon fill=\"black\" stroke=\"black\" points=\"3324.13,-163.748 3332.39,-157.11 3321.79,-157.15 3324.13,-163.748\"/>\n",
       "<text text-anchor=\"middle\" x=\"3286.04\" y=\"-180.28\" font-family=\"Times,serif\" font-size=\"14.00\">args</text>\n",
       "</g>\n",
       "<!-- 140504125357584 -->\n",
       "<g id=\"node10\" class=\"node\"><title>140504125357584</title>\n",
       "<ellipse fill=\"none\" stroke=\"black\" cx=\"3314.54\" cy=\"-236.35\" rx=\"83.3772\" ry=\"26.7407\"/>\n",
       "<text text-anchor=\"middle\" x=\"3314.54\" y=\"-240.15\" font-family=\"Times,serif\" font-size=\"14.00\">word </text>\n",
       "<text text-anchor=\"middle\" x=\"3314.54\" y=\"-225.15\" font-family=\"Times,serif\" font-size=\"14.00\"> ([en &#45;&gt; eo], Give)</text>\n",
       "</g>\n",
       "<!-- 140504125357584&#45;&gt;140504104094632 -->\n",
       "<g id=\"edge9\" class=\"edge\"><title>140504125357584&#45;&gt;140504104094632</title>\n",
       "<path fill=\"none\" stroke=\"black\" d=\"M3335.82,-210.217C3347.03,-196.984 3360.92,-180.577 3373.04,-166.261\"/>\n",
       "<polygon fill=\"black\" stroke=\"black\" points=\"3375.78,-168.45 3379.57,-158.557 3370.43,-163.926 3375.78,-168.45\"/>\n",
       "<text text-anchor=\"middle\" x=\"3375.04\" y=\"-180.28\" font-family=\"Times,serif\" font-size=\"14.00\">args</text>\n",
       "</g>\n",
       "<!-- 140504116177440&#45;&gt;140504116176264 -->\n",
       "<g id=\"edge10\" class=\"edge\"><title>140504116177440&#45;&gt;140504116176264</title>\n",
       "<path fill=\"none\" stroke=\"black\" d=\"M888.528,-116.486C1179.73,-93.5077 1743.41,-49.0278 1941.02,-33.4345\"/>\n",
       "<polygon fill=\"black\" stroke=\"black\" points=\"1941.58,-36.9014 1951.27,-32.6255 1941.03,-29.9231 1941.58,-36.9014\"/>\n",
       "<text text-anchor=\"middle\" x=\"1442.04\" y=\"-75.5401\" font-family=\"Times,serif\" font-size=\"14.00\">a</text>\n",
       "</g>\n",
       "<!-- 140504125356184 -->\n",
       "<g id=\"node12\" class=\"node\"><title>140504125356184</title>\n",
       "<ellipse fill=\"none\" stroke=\"black\" cx=\"2558.54\" cy=\"-236.35\" rx=\"82.0488\" ry=\"26.7407\"/>\n",
       "<text text-anchor=\"middle\" x=\"2558.54\" y=\"-240.15\" font-family=\"Times,serif\" font-size=\"14.00\">word </text>\n",
       "<text text-anchor=\"middle\" x=\"2558.54\" y=\"-225.15\" font-family=\"Times,serif\" font-size=\"14.00\"> ([en &#45;&gt; eo], food)</text>\n",
       "</g>\n",
       "<!-- 140504125356184&#45;&gt;140504104092784 -->\n",
       "<g id=\"edge11\" class=\"edge\"><title>140504125356184&#45;&gt;140504104092784</title>\n",
       "<path fill=\"none\" stroke=\"black\" d=\"M2499.55,-217.562C2488.95,-214.656 2477.95,-211.831 2467.54,-209.48 2370.64,-187.609 2260.89,-168.923 2173.34,-155.451\"/>\n",
       "<polygon fill=\"black\" stroke=\"black\" points=\"2173.73,-151.971 2163.32,-153.917 2172.67,-158.89 2173.73,-151.971\"/>\n",
       "<text text-anchor=\"middle\" x=\"2393.04\" y=\"-180.28\" font-family=\"Times,serif\" font-size=\"14.00\">args</text>\n",
       "</g>\n",
       "<!-- 140504125355680 -->\n",
       "<g id=\"node13\" class=\"node\"><title>140504125355680</title>\n",
       "<ellipse fill=\"none\" stroke=\"black\" cx=\"2739.54\" cy=\"-236.35\" rx=\"81.135\" ry=\"26.7407\"/>\n",
       "<text text-anchor=\"middle\" x=\"2739.54\" y=\"-240.15\" font-family=\"Times,serif\" font-size=\"14.00\">word </text>\n",
       "<text text-anchor=\"middle\" x=\"2739.54\" y=\"-225.15\" font-family=\"Times,serif\" font-size=\"14.00\"> ([en &#45;&gt; eo], play)</text>\n",
       "</g>\n",
       "<!-- 140504125355680&#45;&gt;140504104092784 -->\n",
       "<g id=\"edge12\" class=\"edge\"><title>140504125355680&#45;&gt;140504104092784</title>\n",
       "<path fill=\"none\" stroke=\"black\" d=\"M2681.75,-217.414C2671.11,-214.489 2660.04,-211.696 2649.54,-209.48 2512.17,-180.489 2355.69,-161.426 2232.07,-149.535\"/>\n",
       "<polygon fill=\"black\" stroke=\"black\" points=\"2232.39,-146.049 2222.11,-148.584 2231.73,-153.017 2232.39,-146.049\"/>\n",
       "<text text-anchor=\"middle\" x=\"2558.04\" y=\"-180.28\" font-family=\"Times,serif\" font-size=\"14.00\">args</text>\n",
       "</g>\n",
       "<!-- 140504104092784&#45;&gt;140504116176264 -->\n",
       "<g id=\"edge13\" class=\"edge\"><title>140504104092784&#45;&gt;140504116176264</title>\n",
       "<path fill=\"none\" stroke=\"black\" d=\"M2011.54,-104.685C2011.54,-92.3951 2011.54,-77.5066 2011.54,-64.1214\"/>\n",
       "<polygon fill=\"black\" stroke=\"black\" points=\"2015.04,-63.7874 2011.54,-53.7874 2008.04,-63.7875 2015.04,-63.7874\"/>\n",
       "<text text-anchor=\"middle\" x=\"2015.04\" y=\"-75.5401\" font-family=\"Times,serif\" font-size=\"14.00\">a</text>\n",
       "</g>\n",
       "<!-- 140504116078856 -->\n",
       "<g id=\"node15\" class=\"node\"><title>140504116078856</title>\n",
       "<ellipse fill=\"none\" stroke=\"black\" cx=\"73.5391\" cy=\"-236.35\" rx=\"73.5782\" ry=\"26.7407\"/>\n",
       "<text text-anchor=\"middle\" x=\"73.5391\" y=\"-240.15\" font-family=\"Times,serif\" font-size=\"14.00\">word </text>\n",
       "<text text-anchor=\"middle\" x=\"73.5391\" y=\"-225.15\" font-family=\"Times,serif\" font-size=\"14.00\"> ([en &#45;&gt; eo], so)</text>\n",
       "</g>\n",
       "<!-- 140504116078856&#45;&gt;140504116177440 -->\n",
       "<g id=\"edge14\" class=\"edge\"><title>140504116078856&#45;&gt;140504116177440</title>\n",
       "<path fill=\"none\" stroke=\"black\" d=\"M126.121,-217.355C135.827,-214.436 145.931,-211.661 155.539,-209.48 279.506,-181.348 421.561,-161.886 530.785,-149.584\"/>\n",
       "<polygon fill=\"black\" stroke=\"black\" points=\"531.367,-153.041 540.917,-148.453 530.591,-146.084 531.367,-153.041\"/>\n",
       "<text text-anchor=\"middle\" x=\"333.039\" y=\"-180.28\" font-family=\"Times,serif\" font-size=\"14.00\">args</text>\n",
       "</g>\n",
       "<!-- 140504104093736 -->\n",
       "<g id=\"node16\" class=\"node\"><title>140504104093736</title>\n",
       "<ellipse fill=\"none\" stroke=\"black\" cx=\"1347.54\" cy=\"-236.35\" rx=\"73.5782\" ry=\"26.7407\"/>\n",
       "<text text-anchor=\"middle\" x=\"1347.54\" y=\"-240.15\" font-family=\"Times,serif\" font-size=\"14.00\">word </text>\n",
       "<text text-anchor=\"middle\" x=\"1347.54\" y=\"-225.15\" font-family=\"Times,serif\" font-size=\"14.00\"> ([en &#45;&gt; eo], be)</text>\n",
       "</g>\n",
       "<!-- 140504104093736&#45;&gt;140504104092784 -->\n",
       "<g id=\"edge15\" class=\"edge\"><title>140504104093736&#45;&gt;140504104092784</title>\n",
       "<path fill=\"none\" stroke=\"black\" d=\"M1400.33,-217.5C1410.29,-214.532 1420.67,-211.701 1430.54,-209.48 1552.67,-181.987 1691.61,-163.165 1802.99,-151.03\"/>\n",
       "<polygon fill=\"black\" stroke=\"black\" points=\"1803.43,-154.503 1813,-149.949 1802.68,-147.543 1803.43,-154.503\"/>\n",
       "<text text-anchor=\"middle\" x=\"1617.04\" y=\"-180.28\" font-family=\"Times,serif\" font-size=\"14.00\">args</text>\n",
       "</g>\n",
       "<!-- 140504116176096 -->\n",
       "<g id=\"node17\" class=\"node\"><title>140504116176096</title>\n",
       "<ellipse fill=\"none\" stroke=\"black\" cx=\"244.539\" cy=\"-236.35\" rx=\"79.8062\" ry=\"26.7407\"/>\n",
       "<text text-anchor=\"middle\" x=\"244.539\" y=\"-240.15\" font-family=\"Times,serif\" font-size=\"14.00\">word </text>\n",
       "<text text-anchor=\"middle\" x=\"244.539\" y=\"-225.15\" font-family=\"Times,serif\" font-size=\"14.00\"> ([en &#45;&gt; eo], The)</text>\n",
       "</g>\n",
       "<!-- 140504116176096&#45;&gt;140504116177440 -->\n",
       "<g id=\"edge16\" class=\"edge\"><title>140504116176096&#45;&gt;140504116177440</title>\n",
       "<path fill=\"none\" stroke=\"black\" d=\"M302.762,-217.692C312.98,-214.803 323.542,-211.951 333.539,-209.48 415.547,-189.214 508.551,-170.167 581.544,-156.102\"/>\n",
       "<polygon fill=\"black\" stroke=\"black\" points=\"582.547,-159.474 591.707,-154.151 581.227,-152.599 582.547,-159.474\"/>\n",
       "<text text-anchor=\"middle\" x=\"490.039\" y=\"-180.28\" font-family=\"Times,serif\" font-size=\"14.00\">args</text>\n",
       "</g>\n",
       "<!-- 140504116175088 -->\n",
       "<g id=\"node18\" class=\"node\"><title>140504116175088</title>\n",
       "<ellipse fill=\"none\" stroke=\"black\" cx=\"3488.54\" cy=\"-236.35\" rx=\"72.6644\" ry=\"26.7407\"/>\n",
       "<text text-anchor=\"middle\" x=\"3488.54\" y=\"-240.15\" font-family=\"Times,serif\" font-size=\"14.00\">word </text>\n",
       "<text text-anchor=\"middle\" x=\"3488.54\" y=\"-225.15\" font-family=\"Times,serif\" font-size=\"14.00\"> ([en &#45;&gt; eo], of)</text>\n",
       "</g>\n",
       "<!-- 140504116175088&#45;&gt;140504104094632 -->\n",
       "<g id=\"edge17\" class=\"edge\"><title>140504116175088&#45;&gt;140504104094632</title>\n",
       "<path fill=\"none\" stroke=\"black\" d=\"M3467.48,-210.48C3456.28,-197.251 3442.34,-180.794 3430.17,-166.422\"/>\n",
       "<polygon fill=\"black\" stroke=\"black\" points=\"3432.75,-164.055 3423.62,-158.685 3427.41,-168.579 3432.75,-164.055\"/>\n",
       "<text text-anchor=\"middle\" x=\"3462.04\" y=\"-180.28\" font-family=\"Times,serif\" font-size=\"14.00\">args</text>\n",
       "</g>\n",
       "<!-- 140504104093288 -->\n",
       "<g id=\"node19\" class=\"node\"><title>140504104093288</title>\n",
       "<ellipse fill=\"none\" stroke=\"black\" cx=\"1515.54\" cy=\"-236.35\" rx=\"76.2353\" ry=\"26.7407\"/>\n",
       "<text text-anchor=\"middle\" x=\"1515.54\" y=\"-240.15\" font-family=\"Times,serif\" font-size=\"14.00\">word </text>\n",
       "<text text-anchor=\"middle\" x=\"1515.54\" y=\"-225.15\" font-family=\"Times,serif\" font-size=\"14.00\"> ([en &#45;&gt; eo], the)</text>\n",
       "</g>\n",
       "<!-- 140504104093288&#45;&gt;140504104092784 -->\n",
       "<g id=\"edge18\" class=\"edge\"><title>140504104093288&#45;&gt;140504104092784</title>\n",
       "<path fill=\"none\" stroke=\"black\" d=\"M1570.62,-217.62C1580.53,-214.707 1590.8,-211.865 1600.54,-209.48 1686.58,-188.409 1783.98,-169.959 1862.36,-156.42\"/>\n",
       "<polygon fill=\"black\" stroke=\"black\" points=\"1863.05,-159.853 1872.31,-154.71 1861.87,-152.954 1863.05,-159.853\"/>\n",
       "<text text-anchor=\"middle\" x=\"1759.04\" y=\"-180.28\" font-family=\"Times,serif\" font-size=\"14.00\">args</text>\n",
       "</g>\n",
       "<!-- 140504116080200 -->\n",
       "<g id=\"node20\" class=\"node\"><title>140504116080200</title>\n",
       "<ellipse fill=\"none\" stroke=\"black\" cx=\"431.539\" cy=\"-236.35\" rx=\"89.191\" ry=\"26.7407\"/>\n",
       "<text text-anchor=\"middle\" x=\"431.539\" y=\"-240.15\" font-family=\"Times,serif\" font-size=\"14.00\">word </text>\n",
       "<text text-anchor=\"middle\" x=\"431.539\" y=\"-225.15\" font-family=\"Times,serif\" font-size=\"14.00\"> ([en &#45;&gt; eo], sicken)</text>\n",
       "</g>\n",
       "<!-- 140504116080200&#45;&gt;140504116177440 -->\n",
       "<g id=\"edge19\" class=\"edge\"><title>140504116080200&#45;&gt;140504116177440</title>\n",
       "<path fill=\"none\" stroke=\"black\" d=\"M486.463,-215.052C528.506,-199.514 586.987,-177.902 633.523,-160.703\"/>\n",
       "<polygon fill=\"black\" stroke=\"black\" points=\"634.796,-163.964 642.962,-157.215 632.369,-157.399 634.796,-163.964\"/>\n",
       "<text text-anchor=\"middle\" x=\"599.039\" y=\"-180.28\" font-family=\"Times,serif\" font-size=\"14.00\">args</text>\n",
       "</g>\n",
       "<!-- 140504116079640 -->\n",
       "<g id=\"node21\" class=\"node\"><title>140504116079640</title>\n",
       "<ellipse fill=\"none\" stroke=\"black\" cx=\"614.539\" cy=\"-236.35\" rx=\"76.2353\" ry=\"26.7407\"/>\n",
       "<text text-anchor=\"middle\" x=\"614.539\" y=\"-240.15\" font-family=\"Times,serif\" font-size=\"14.00\">word </text>\n",
       "<text text-anchor=\"middle\" x=\"614.539\" y=\"-225.15\" font-family=\"Times,serif\" font-size=\"14.00\"> ([en &#45;&gt; eo], die)</text>\n",
       "</g>\n",
       "<!-- 140504116079640&#45;&gt;140504116177440 -->\n",
       "<g id=\"edge20\" class=\"edge\"><title>140504116079640&#45;&gt;140504116177440</title>\n",
       "<path fill=\"none\" stroke=\"black\" d=\"M637.536,-210.48C649.975,-197.028 665.5,-180.237 678.947,-165.695\"/>\n",
       "<polygon fill=\"black\" stroke=\"black\" points=\"681.543,-168.043 685.762,-158.325 676.403,-163.291 681.543,-168.043\"/>\n",
       "<text text-anchor=\"middle\" x=\"680.039\" y=\"-180.28\" font-family=\"Times,serif\" font-size=\"14.00\">args</text>\n",
       "</g>\n",
       "<!-- 140504116176376 -->\n",
       "<g id=\"node22\" class=\"node\"><title>140504116176376</title>\n",
       "<ellipse fill=\"none\" stroke=\"black\" cx=\"3649.54\" cy=\"-236.35\" rx=\"70.0071\" ry=\"26.7407\"/>\n",
       "<text text-anchor=\"middle\" x=\"3649.54\" y=\"-240.15\" font-family=\"Times,serif\" font-size=\"14.00\">word </text>\n",
       "<text text-anchor=\"middle\" x=\"3649.54\" y=\"-225.15\" font-family=\"Times,serif\" font-size=\"14.00\"> ([en &#45;&gt; eo], it)</text>\n",
       "</g>\n",
       "<!-- 140504116176376&#45;&gt;140504104094632 -->\n",
       "<g id=\"edge21\" class=\"edge\"><title>140504116176376&#45;&gt;140504104094632</title>\n",
       "<path fill=\"none\" stroke=\"black\" d=\"M3603.18,-216.146C3566.04,-200.757 3513.34,-178.924 3471.13,-161.438\"/>\n",
       "<polygon fill=\"black\" stroke=\"black\" points=\"3472.32,-158.144 3461.74,-157.55 3469.64,-164.611 3472.32,-158.144\"/>\n",
       "<text text-anchor=\"middle\" x=\"3552.04\" y=\"-180.28\" font-family=\"Times,serif\" font-size=\"14.00\">args</text>\n",
       "</g>\n",
       "<!-- 140504116175704 -->\n",
       "<g id=\"node23\" class=\"node\"><title>140504116175704</title>\n",
       "<ellipse fill=\"none\" stroke=\"black\" cx=\"803.539\" cy=\"-236.35\" rx=\"94.5053\" ry=\"26.7407\"/>\n",
       "<text text-anchor=\"middle\" x=\"803.539\" y=\"-240.15\" font-family=\"Times,serif\" font-size=\"14.00\">word </text>\n",
       "<text text-anchor=\"middle\" x=\"803.539\" y=\"-225.15\" font-family=\"Times,serif\" font-size=\"14.00\"> ([en &#45;&gt; eo], appetite)</text>\n",
       "</g>\n",
       "<!-- 140504116175704&#45;&gt;140504116177440 -->\n",
       "<g id=\"edge22\" class=\"edge\"><title>140504116175704&#45;&gt;140504116177440</title>\n",
       "<path fill=\"none\" stroke=\"black\" d=\"M780.544,-210.217C768.437,-196.984 753.425,-180.577 740.327,-166.261\"/>\n",
       "<polygon fill=\"black\" stroke=\"black\" points=\"742.611,-163.572 733.278,-158.557 737.446,-168.297 742.611,-163.572\"/>\n",
       "<text text-anchor=\"middle\" x=\"774.039\" y=\"-180.28\" font-family=\"Times,serif\" font-size=\"14.00\">args</text>\n",
       "</g>\n",
       "<!-- 140504116080256 -->\n",
       "<g id=\"node24\" class=\"node\"><title>140504116080256</title>\n",
       "<ellipse fill=\"none\" stroke=\"black\" cx=\"994.539\" cy=\"-236.35\" rx=\"78.4777\" ry=\"26.7407\"/>\n",
       "<text text-anchor=\"middle\" x=\"994.539\" y=\"-240.15\" font-family=\"Times,serif\" font-size=\"14.00\">word </text>\n",
       "<text text-anchor=\"middle\" x=\"994.539\" y=\"-225.15\" font-family=\"Times,serif\" font-size=\"14.00\"> ([en &#45;&gt; eo], and)</text>\n",
       "</g>\n",
       "<!-- 140504116080256&#45;&gt;140504116177440 -->\n",
       "<g id=\"edge23\" class=\"edge\"><title>140504116080256&#45;&gt;140504116177440</title>\n",
       "<path fill=\"none\" stroke=\"black\" d=\"M941.934,-216.386C898.583,-200.759 836.471,-178.368 787.365,-160.666\"/>\n",
       "<polygon fill=\"black\" stroke=\"black\" points=\"788.321,-157.29 777.727,-157.191 785.947,-163.875 788.321,-157.29\"/>\n",
       "<text text-anchor=\"middle\" x=\"881.039\" y=\"-180.28\" font-family=\"Times,serif\" font-size=\"14.00\">args</text>\n",
       "</g>\n",
       "<!-- 140504125355568 -->\n",
       "<g id=\"node25\" class=\"node\"><title>140504125355568</title>\n",
       "<ellipse fill=\"none\" stroke=\"black\" cx=\"1682.54\" cy=\"-236.35\" rx=\"72.6644\" ry=\"26.7407\"/>\n",
       "<text text-anchor=\"middle\" x=\"1682.54\" y=\"-240.15\" font-family=\"Times,serif\" font-size=\"14.00\">word </text>\n",
       "<text text-anchor=\"middle\" x=\"1682.54\" y=\"-225.15\" font-family=\"Times,serif\" font-size=\"14.00\"> ([en &#45;&gt; eo], of)</text>\n",
       "</g>\n",
       "<!-- 140504125355568&#45;&gt;140504104092784 -->\n",
       "<g id=\"edge24\" class=\"edge\"><title>140504125355568&#45;&gt;140504104092784</title>\n",
       "<path fill=\"none\" stroke=\"black\" d=\"M1736.78,-218.204C1746.04,-215.287 1755.56,-212.292 1764.54,-209.48 1816.65,-193.151 1874.99,-174.99 1921.88,-160.423\"/>\n",
       "<polygon fill=\"black\" stroke=\"black\" points=\"1923.19,-163.68 1931.7,-157.371 1921.11,-156.995 1923.19,-163.68\"/>\n",
       "<text text-anchor=\"middle\" x=\"1878.04\" y=\"-180.28\" font-family=\"Times,serif\" font-size=\"14.00\">args</text>\n",
       "</g>\n",
       "<!-- 140504125357304 -->\n",
       "<g id=\"node26\" class=\"node\"><title>140504125357304</title>\n",
       "<ellipse fill=\"none\" stroke=\"black\" cx=\"1847.54\" cy=\"-236.35\" rx=\"74.4932\" ry=\"26.7407\"/>\n",
       "<text text-anchor=\"middle\" x=\"1847.54\" y=\"-240.15\" font-family=\"Times,serif\" font-size=\"14.00\">word </text>\n",
       "<text text-anchor=\"middle\" x=\"1847.54\" y=\"-225.15\" font-family=\"Times,serif\" font-size=\"14.00\"> ([en &#45;&gt; eo], on)</text>\n",
       "</g>\n",
       "<!-- 140504125357304&#45;&gt;140504104092784 -->\n",
       "<g id=\"edge25\" class=\"edge\"><title>140504125357304&#45;&gt;140504104092784</title>\n",
       "<path fill=\"none\" stroke=\"black\" d=\"M1883.53,-212.804C1906.56,-198.379 1936.74,-179.47 1962.01,-163.637\"/>\n",
       "<polygon fill=\"black\" stroke=\"black\" points=\"1964.11,-166.452 1970.73,-158.177 1960.39,-160.52 1964.11,-166.452\"/>\n",
       "<text text-anchor=\"middle\" x=\"1951.04\" y=\"-180.28\" font-family=\"Times,serif\" font-size=\"14.00\">args</text>\n",
       "</g>\n",
       "<!-- 140504104092952 -->\n",
       "<g id=\"node27\" class=\"node\"><title>140504104092952</title>\n",
       "<ellipse fill=\"none\" stroke=\"black\" cx=\"2011.54\" cy=\"-236.35\" rx=\"71.3357\" ry=\"26.7407\"/>\n",
       "<text text-anchor=\"middle\" x=\"2011.54\" y=\"-240.15\" font-family=\"Times,serif\" font-size=\"14.00\">word </text>\n",
       "<text text-anchor=\"middle\" x=\"2011.54\" y=\"-225.15\" font-family=\"Times,serif\" font-size=\"14.00\"> ([en &#45;&gt; eo], If)</text>\n",
       "</g>\n",
       "<!-- 140504104092952&#45;&gt;140504104092784 -->\n",
       "<g id=\"edge26\" class=\"edge\"><title>140504104092952&#45;&gt;140504104092784</title>\n",
       "<path fill=\"none\" stroke=\"black\" d=\"M2011.54,-209.425C2011.54,-197.135 2011.54,-182.247 2011.54,-168.862\"/>\n",
       "<polygon fill=\"black\" stroke=\"black\" points=\"2015.04,-168.528 2011.54,-158.528 2008.04,-168.528 2015.04,-168.528\"/>\n",
       "<text text-anchor=\"middle\" x=\"2023.04\" y=\"-180.28\" font-family=\"Times,serif\" font-size=\"14.00\">args</text>\n",
       "</g>\n",
       "</g>\n",
       "</svg>\n"
      ],
      "text/plain": [
       "<graphviz.dot.Digraph at 0x7fc9a936c898>"
      ]
     },
     "execution_count": 9,
     "metadata": {},
     "output_type": "execute_result"
    }
   ],
   "source": [
    "workflow_graph.attr(size='10')\n",
    "workflow_graph"
   ]
  },
  {
   "cell_type": "markdown",
   "metadata": {},
   "source": [
    "## Dealing with repetition\n",
    "In the following example we have a line with some repetition. It would be a shame to look up the repeated words twice, wouldn't it? Let's build a little counter routine to check if everything is working."
   ]
  },
  {
   "cell_type": "code",
   "execution_count": 10,
   "metadata": {},
   "outputs": [
    {
     "data": {
      "text/plain": [
       "'Mon <Gott>, mon <Gott>, pourquoi as Tu me quitter?'"
      ]
     },
     "execution_count": 10,
     "metadata": {},
     "output_type": "execute_result"
    }
   ],
   "source": [
    "line = \"Mein Gott, mein Gott, warum hast Du mich verlassen?\"\n",
    "run_parallel(Translate('de', 'fr').sentence(line), n_threads=4)"
   ]
  },
  {
   "cell_type": "markdown",
   "metadata": {
    "collapsed": true
   },
   "source": [
    "To see how this program is being run, we monitor the job submission, retrieval and result storage in a `JobKeeper` instance."
   ]
  },
  {
   "cell_type": "code",
   "execution_count": 11,
   "metadata": {},
   "outputs": [
    {
     "data": {
      "text/plain": [
       "'Mon <Gott>, mon <Gott>, pourquoi as Tu me quitter?'"
      ]
     },
     "execution_count": 11,
     "metadata": {},
     "output_type": "execute_result"
    }
   ],
   "source": [
    "from noodles.run.job_keeper import JobKeeper\n",
    "from noodles.run.run_with_prov import run_parallel\n",
    "from noodles import serial\n",
    "\n",
    "J = JobKeeper(keep=True)\n",
    "wf = Translate('de', 'fr').sentence(line)\n",
    "run_parallel(wf,\n",
    "             n_threads=4, registry=serial.base,\n",
    "             jobdb_file='matthew.json', job_keeper=J)"
   ]
  },
  {
   "cell_type": "markdown",
   "metadata": {},
   "source": [
    "Now we can see how the results were obtained by inspecting the\n",
    "``JobKeeper`` object. Running the first time, you may see that\n",
    "some jobs *attached* themselves to other jobs as they are identical.\n",
    "\n",
    "Then try running above cell again. All the results should be cached\n",
    "in the `matthew.json` file, and no queries are send to Glosbe, saving\n",
    "us from certain doom of IP black listing."
   ]
  },
  {
   "cell_type": "code",
   "execution_count": 12,
   "metadata": {},
   "outputs": [
    {
     "name": "stdout",
     "output_type": "stream",
     "text": [
      "2017-09-19T15:01:10Z: [register]       - None\n",
      "2017-09-19T15:01:10Z: [retrieved]      - mon\n",
      "-------------------------------------\n",
      "2017-09-19T15:01:10Z: [register]       - None\n",
      "2017-09-19T15:01:10Z: [retrieved]      - pourquoi\n",
      "-------------------------------------\n",
      "2017-09-19T15:01:10Z: [register]       - None\n",
      "2017-09-19T15:01:10Z: [retrieved]      - me\n",
      "-------------------------------------\n",
      "2017-09-19T15:01:10Z: [register]       - None\n",
      "2017-09-19T15:01:10Z: [retrieved]      - Mon <Gott>, mon <Gott>, pourquoi as Tu me quitter?\n",
      "-------------------------------------\n",
      "2017-09-19T15:01:10Z: [register]       - None\n",
      "2017-09-19T15:01:10Z: [retrieved]      - Tu\n",
      "-------------------------------------\n",
      "2017-09-19T15:01:10Z: [register]       - None\n",
      "2017-09-19T15:01:10Z: [retrieved]      - Mon\n",
      "-------------------------------------\n",
      "2017-09-19T15:01:10Z: [register]       - None\n",
      "2017-09-19T15:01:10Z: [retrieved]      - <Gott>\n",
      "-------------------------------------\n",
      "2017-09-19T15:01:10Z: [register]       - None\n",
      "2017-09-19T15:01:10Z: [retrieved]      - quitter\n",
      "-------------------------------------\n",
      "2017-09-19T15:01:10Z: [register]       - None\n",
      "2017-09-19T15:01:10Z: [retrieved]      - <Gott>\n",
      "-------------------------------------\n",
      "2017-09-19T15:01:10Z: [register]       - None\n",
      "2017-09-19T15:01:10Z: [retrieved]      - as\n",
      "-------------------------------------\n"
     ]
    }
   ],
   "source": [
    "from itertools import starmap\n",
    "import time\n",
    "\n",
    "def format_log_entry(tm, what, data, msg):\n",
    "    return \"{}: {:16} - {}\".format(\n",
    "        time.strftime('%Y-%m-%dT%H:%M:%SZ', time.gmtime(tm)),\n",
    "        '[' + what + ']',\n",
    "        data)\n",
    "\n",
    "for k,j in J.items():\n",
    "    print('\\n'.join(starmap(format_log_entry, j.log)))\n",
    "    print(\"-------------------------------------\")"
   ]
  }
 ],
 "metadata": {
  "kernelspec": {
   "display_name": "Python 3",
   "language": "python",
   "name": "python3"
  },
  "language_info": {
   "codemirror_mode": {
    "name": "ipython",
    "version": 3
   },
   "file_extension": ".py",
   "mimetype": "text/x-python",
   "name": "python",
   "nbconvert_exporter": "python",
   "pygments_lexer": "ipython3",
   "version": "3.6.2"
  }
 },
 "nbformat": 4,
 "nbformat_minor": 1
}

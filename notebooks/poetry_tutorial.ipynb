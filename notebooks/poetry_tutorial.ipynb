{
 "cells": [
  {
   "cell_type": "markdown",
   "metadata": {},
   "source": [
    "Real World Tutorial 1: Translating Poetry\n",
    "=========================================\n",
    "\n",
    "First example\n",
    "-------------\n",
    "\n",
    "We build workflows by calling functions. The simplest example of this\n",
    "is the \"diamond workflow\":"
   ]
  },
  {
   "cell_type": "code",
   "execution_count": 1,
   "metadata": {},
   "outputs": [
    {
     "name": "stdout",
     "output_type": "stream",
     "text": [
      "The answer is 42.\n"
     ]
    }
   ],
   "source": [
    "from noodles import run_single\n",
    "from noodles.tutorial import (add, sub, mul)\n",
    "\n",
    "u = add(5, 4)\n",
    "v = sub(u, 3)\n",
    "w = sub(u, 2)\n",
    "x = mul(v, w)\n",
    "\n",
    "answer = run_single(x)\n",
    "\n",
    "print(\"The answer is {0}.\".format(answer))"
   ]
  },
  {
   "cell_type": "markdown",
   "metadata": {},
   "source": [
    "That looks like any other Python code! But this example is a bit silly.\n",
    "How do we leverage Noodles to earn an honest living? Here's a slightly less\n",
    "silly example (but only just!). We will build a small translation engine\n",
    "that translates sentences by submitting each word to an online dictionary\n",
    "over a Rest API. To do this we make loops (\"For thou shalt make loops of \n",
    "blue\"). First we build the program as you would do in Python, then we\n",
    "sprinkle some Noodles magic and make it work parallel! Furthermore, we'll\n",
    "see how to:\n",
    "\n",
    "* make more loops\n",
    "* cache results for reuse"
   ]
  },
  {
   "cell_type": "markdown",
   "metadata": {
    "collapsed": true
   },
   "source": [
    "## Making loops\n",
    "\n",
    "Thats all swell, but how do we make a parallel loop? Let's look at a `map` operation; in Python there are several ways to perform a function on all elements in an array. For this example, we will translate some words using the Glosbe service, which has a nice REST interface. We first build some functionality to use this interface."
   ]
  },
  {
   "cell_type": "code",
   "execution_count": 2,
   "metadata": {
    "collapsed": true
   },
   "outputs": [],
   "source": [
    "import urllib.request\n",
    "import json\n",
    "import re\n",
    "\n",
    "\n",
    "class Translate:\n",
    "    \"\"\"Translate words and sentences in the worst possible way. The Glosbe dictionary\n",
    "    has a nice REST interface that we query for a phrase. We then take the first result.\n",
    "    To translate a sentence, we cut it in pieces, translate it and paste it back into\n",
    "    a Frankenstein monster.\"\"\"\n",
    "    def __init__(self, src_lang='en', tgt_lang='fy'):\n",
    "        self.src = src_lang\n",
    "        self.tgt = tgt_lang\n",
    "        self.url = 'https://glosbe.com/gapi/translate?' \\\n",
    "                   'from={src}&dest={tgt}&' \\\n",
    "                   'phrase={{phrase}}&format=json'.format(\n",
    "                        src=src_lang, tgt=tgt_lang)\n",
    "    \n",
    "    def query_phrase(self, phrase):\n",
    "        with urllib.request.urlopen(self.url.format(phrase=phrase.lower())) as response:\n",
    "            translation = json.loads(response.read().decode())\n",
    "        return translation\n",
    "\n",
    "    def word(self, phrase):\n",
    "        translation = self.query_phrase(phrase)\n",
    "        #translation = {'tuc': [{'phrase': {'text': phrase.lower()[::-1]}}]}\n",
    "        if len(translation['tuc']) > 0 and 'phrase' in translation['tuc'][0]:\n",
    "            result = translation['tuc'][0]['phrase']['text']\n",
    "            if phrase[0].isupper():\n",
    "                return result.title()\n",
    "            else:\n",
    "                return result            \n",
    "        else:\n",
    "            return \"<\" + phrase + \">\"\n",
    "    \n",
    "    def sentence(self, phrase):\n",
    "        words = re.sub(\"[^\\w]\", \" \", phrase).split()\n",
    "        space = re.sub(\"[\\w]+\", \"{}\", phrase)\n",
    "        return space.format(*map(self.word, words))"
   ]
  },
  {
   "cell_type": "markdown",
   "metadata": {},
   "source": [
    "We start with a list of strings that desparately need translation. And add a little\n",
    "routine to print it in a gracious manner."
   ]
  },
  {
   "cell_type": "code",
   "execution_count": 3,
   "metadata": {},
   "outputs": [
    {
     "name": "stdout",
     "output_type": "stream",
     "text": [
      "Original:\n",
      "      If music be the food of love, play on,\n",
      "      Give me excess of it; that surfeiting,\n",
      "      The appetite may sicken, and so die.\n",
      "\n"
     ]
    }
   ],
   "source": [
    "shakespeare = [\n",
    "    \"If music be the food of love, play on,\",\n",
    "    \"Give me excess of it; that surfeiting,\",\n",
    "    \"The appetite may sicken, and so die.\"]\n",
    "\n",
    "def print_poem(intro, poem):\n",
    "    print(intro)\n",
    "    for line in poem:\n",
    "        print(\"     \", line)\n",
    "    print()\n",
    "\n",
    "print_poem(\"Original:\", shakespeare)"
   ]
  },
  {
   "cell_type": "markdown",
   "metadata": {},
   "source": [
    "Beginning Python programmers like to append things; this is not how you are\n",
    "supposed to program in Python; if you do, please go and read Jeff Knupp's *Writing Idiomatic Python*."
   ]
  },
  {
   "cell_type": "code",
   "execution_count": 4,
   "metadata": {},
   "outputs": [
    {
     "name": "stdout",
     "output_type": "stream",
     "text": [
      "Auf Deutsch:\n",
      "      Wenn Musik sein der Essen von Minne, spielen an,\n",
      "      Geben ich Übermaß von es; das übersättigend,\n",
      "      Der Appetit dürfen erkranken, und so sterben.\n",
      "\n"
     ]
    }
   ],
   "source": [
    "shakespeare_auf_deutsch = []\n",
    "for line in shakespeare:\n",
    "    shakespeare_auf_deutsch.append(\n",
    "        Translate('en', 'de').sentence(line))\n",
    "print_poem(\"Auf Deutsch:\", shakespeare_auf_deutsch)"
   ]
  },
  {
   "cell_type": "markdown",
   "metadata": {},
   "source": [
    "Rather use a comprehension like so:"
   ]
  },
  {
   "cell_type": "code",
   "execution_count": 5,
   "metadata": {},
   "outputs": [
    {
     "name": "stdout",
     "output_type": "stream",
     "text": [
      "Yn it Frysk:\n",
      "      At muzyk wêze de fiedsel fan leafde, boartsje oan,\n",
      "      Jaan <me> by fersin fan it; dat <surfeiting>,\n",
      "      De <appetite> maaie <sicken>, en dus deagean.\n",
      "\n"
     ]
    }
   ],
   "source": [
    "shakespeare_ynt_frysk = \\\n",
    "    (Translate('en', 'fy').sentence(line) for line in shakespeare)\n",
    "print_poem(\"Yn it Frysk:\", shakespeare_ynt_frysk)"
   ]
  },
  {
   "cell_type": "markdown",
   "metadata": {},
   "source": [
    "Or use `map`:"
   ]
  },
  {
   "cell_type": "code",
   "execution_count": 6,
   "metadata": {},
   "outputs": [
    {
     "name": "stdout",
     "output_type": "stream",
     "text": [
      "På Dansk:\n",
      "      Hvis musik være de mad af kærlighed, spil på,\n",
      "      Give mig udskejelser af det; som <surfeiting>,\n",
      "      De appetit må <sicken>, og så dø.\n",
      "\n"
     ]
    }
   ],
   "source": [
    "shakespeare_pa_dansk = \\\n",
    "    map(Translate('en', 'da').sentence, shakespeare)\n",
    "print_poem(\"På Dansk:\", shakespeare_pa_dansk)"
   ]
  },
  {
   "cell_type": "markdown",
   "metadata": {},
   "source": [
    "## Noodlify!\n",
    "If your connection is a bit slow, you may find that the translations take a while to process. Wouldn't it be nice to do it in parallel? How much code would we have to change to get there in Noodles? Let's take the slow part of the program and add a `@schedule` decorator, and run! Sadly, it is not that simple. We can add `@schedule` to the `word` method. This means that it will return a promise. \n",
    "\n",
    "* Rule: *Functions that take promises need to be scheduled functions, or refer to a scheduled function at some level.* \n",
    "\n",
    "We could write\n",
    "\n",
    "    return schedule(space.format)(*(self.word(w) for w in words))\n",
    "    \n",
    "in the last line of the `sentence` method, but the string format method doesn't support wrapping. We rely on getting the signature of a function by calling `inspect.signature`. In some cases of build-in function this raises an exception. We may find a work around for these cases in future versions of Noodles. For the moment we'll have to define a little wrapper function."
   ]
  },
  {
   "cell_type": "code",
   "execution_count": 7,
   "metadata": {
    "collapsed": true
   },
   "outputs": [],
   "source": [
    "from noodles import schedule\n",
    "\n",
    "\n",
    "@schedule\n",
    "def format_string(s, *args, **kwargs):\n",
    "    return s.format(*args, **kwargs)\n",
    "\n",
    "\n",
    "import urllib.request\n",
    "import json\n",
    "import re\n",
    "\n",
    "\n",
    "class Translate:\n",
    "    \"\"\"Translate words and sentences in the worst possible way. The Glosbe dictionary\n",
    "    has a nice REST interface that we query for a phrase. We then take the first result.\n",
    "    To translate a sentence, we cut it in pieces, translate it and paste it back into\n",
    "    a Frankenstein monster.\"\"\"\n",
    "    def __init__(self, src_lang='en', tgt_lang='fy'):\n",
    "        self.src = src_lang\n",
    "        self.tgt = tgt_lang\n",
    "        self.url = 'https://glosbe.com/gapi/translate?' \\\n",
    "                   'from={src}&dest={tgt}&' \\\n",
    "                   'phrase={{phrase}}&format=json'.format(\n",
    "                        src=src_lang, tgt=tgt_lang)\n",
    "    \n",
    "    def query_phrase(self, phrase):\n",
    "        with urllib.request.urlopen(self.url.format(phrase=phrase.lower())) as response:\n",
    "            translation = json.loads(response.read().decode())\n",
    "        return translation\n",
    "    \n",
    "    @schedule\n",
    "    def word(self, phrase):\n",
    "        #translation = {'tuc': [{'phrase': {'text': phrase.lower()[::-1]}}]}\n",
    "        translation = self.query_phrase(phrase)\n",
    "        \n",
    "        if len(translation['tuc']) > 0 and 'phrase' in translation['tuc'][0]:\n",
    "            result = translation['tuc'][0]['phrase']['text']\n",
    "            if phrase[0].isupper():\n",
    "                return result.title()\n",
    "            else:\n",
    "                return result            \n",
    "        else:\n",
    "            return \"<\" + phrase + \">\"\n",
    "        \n",
    "    def sentence(self, phrase):\n",
    "        words = re.sub(\"[^\\w]\", \" \", phrase).split()\n",
    "        space = re.sub(\"[\\w]+\", \"{}\", phrase)\n",
    "        return format_string(space, *map(self.word, words))\n",
    "    \n",
    "    def __str__(self):\n",
    "        return \"[{} -> {}]\".format(self.src, self.tgt)\n",
    "    \n",
    "    def __serialize__(self, pack):\n",
    "        return pack({'src_lang': self.src,\n",
    "                     'tgt_lang': self.tgt})\n",
    "\n",
    "    @classmethod\n",
    "    def __construct__(cls, msg):\n",
    "        return cls(**msg)"
   ]
  },
  {
   "cell_type": "markdown",
   "metadata": {},
   "source": [
    "Let's take stock of the mutations to the original. We've added a `@schedule` decorator to `word`, and changed a function call in `sentence`. Also we added the `__str__` method; this is only needed to plot the workflow graph. Let's run the new script."
   ]
  },
  {
   "cell_type": "code",
   "execution_count": 8,
   "metadata": {},
   "outputs": [
    {
     "name": "stdout",
     "output_type": "stream",
     "text": [
      "Shakespeare en Esperanto:\n",
      "      Se muziko esti la manĝaĵo de ami, ludi sur,\n",
      "      Doni mi eksceso de ĝi; ke <surfeiting>,\n",
      "      La apetito povi naŭzi, kaj tiel morti.\n",
      "\n"
     ]
    }
   ],
   "source": [
    "from noodles import gather, run_parallel\n",
    "from noodles.tutorial import get_workflow_graph\n",
    "\n",
    "shakespeare_en_esperanto = \\\n",
    "    map(Translate('en', 'eo').sentence, shakespeare)\n",
    "\n",
    "wf = gather(*shakespeare_en_esperanto)\n",
    "workflow_graph = get_workflow_graph(wf._workflow)\n",
    "result = run_parallel(wf, n_threads=8)\n",
    "print_poem(\"Shakespeare en Esperanto:\", result)"
   ]
  },
  {
   "cell_type": "markdown",
   "metadata": {},
   "source": [
    "The last peculiar thing that you may notice, is the `gather` function. It collects the promises that `map` generates and creates a single new promise. The definition of `gather` is very simple:\n",
    "    \n",
    "    @schedule\n",
    "    def gather(*lst):\n",
    "        return lst\n",
    "\n",
    "The workflow graph of the Esperanto translator script looks like this:"
   ]
  },
  {
   "cell_type": "code",
   "execution_count": 9,
   "metadata": {},
   "outputs": [
    {
     "data": {
      "image/svg+xml": [
       "<?xml version=\"1.0\" encoding=\"UTF-8\" standalone=\"no\"?>\n",
       "<!DOCTYPE svg PUBLIC \"-//W3C//DTD SVG 1.1//EN\"\n",
       " \"http://www.w3.org/Graphics/SVG/1.1/DTD/svg11.dtd\">\n",
       "<!-- Generated by graphviz version 2.40.1 (20161225.0304)\n",
       " -->\n",
       "<!-- Title: %3 Pages: 1 -->\n",
       "<svg width=\"720pt\" height=\"38pt\"\n",
       " viewBox=\"0.00 0.00 720.00 37.68\" xmlns=\"http://www.w3.org/2000/svg\" xmlns:xlink=\"http://www.w3.org/1999/xlink\">\n",
       "<g id=\"graph0\" class=\"graph\" transform=\"scale(.1389 .1389) rotate(0) translate(4 267.2203)\">\n",
       "<title>%3</title>\n",
       "<polygon fill=\"#ffffff\" stroke=\"transparent\" points=\"-4,4 -4,-267.2203 5178.2117,-267.2203 5178.2117,4 -4,4\"/>\n",
       "<!-- 140106312850568 -->\n",
       "<g id=\"node1\" class=\"node\">\n",
       "<title>140106312850568</title>\n",
       "<ellipse fill=\"none\" stroke=\"#000000\" cx=\"2758.2168\" cy=\"-26.8701\" rx=\"65.1077\" ry=\"26.7407\"/>\n",
       "<text text-anchor=\"middle\" x=\"2758.2168\" y=\"-30.6701\" font-family=\"Times,serif\" font-size=\"14.00\" fill=\"#000000\">gather </text>\n",
       "<text text-anchor=\"middle\" x=\"2758.2168\" y=\"-15.6701\" font-family=\"Times,serif\" font-size=\"14.00\" fill=\"#000000\"> (—, —, —)</text>\n",
       "</g>\n",
       "<!-- 140106320784408 -->\n",
       "<g id=\"node2\" class=\"node\">\n",
       "<title>140106320784408</title>\n",
       "<ellipse fill=\"none\" stroke=\"#000000\" cx=\"1085.2168\" cy=\"-131.6102\" rx=\"321.9673\" ry=\"26.7407\"/>\n",
       "<text text-anchor=\"middle\" x=\"1085.2168\" y=\"-135.4102\" font-family=\"Times,serif\" font-size=\"14.00\" fill=\"#000000\">format_string </text>\n",
       "<text text-anchor=\"middle\" x=\"1085.2168\" y=\"-120.4102\" font-family=\"Times,serif\" font-size=\"14.00\" fill=\"#000000\"> (&#39;{} {} {} {} {} {} {}, {} {},&#39;, —, —, —, —, —, —, —, —, —)</text>\n",
       "</g>\n",
       "<!-- 140106320784408&#45;&gt;140106312850568 -->\n",
       "<g id=\"edge1\" class=\"edge\">\n",
       "<title>140106320784408&#45;&gt;140106312850568</title>\n",
       "<path fill=\"none\" stroke=\"#000000\" d=\"M1342.9566,-115.4741C1732.6682,-91.0757 2451.1036,-46.0972 2683.5505,-31.5446\"/>\n",
       "<polygon fill=\"#000000\" stroke=\"#000000\" points=\"2683.8307,-35.034 2693.5925,-30.9159 2683.3933,-28.0477 2683.8307,-35.034\"/>\n",
       "<text text-anchor=\"middle\" x=\"2026.7168\" y=\"-75.5401\" font-family=\"Times,serif\" font-size=\"14.00\" fill=\"#000000\">a</text>\n",
       "</g>\n",
       "<!-- 140106320785024 -->\n",
       "<g id=\"node3\" class=\"node\">\n",
       "<title>140106320785024</title>\n",
       "<ellipse fill=\"none\" stroke=\"#000000\" cx=\"91.2168\" cy=\"-236.3503\" rx=\"91.4341\" ry=\"26.7407\"/>\n",
       "<text text-anchor=\"middle\" x=\"91.2168\" y=\"-240.1503\" font-family=\"Times,serif\" font-size=\"14.00\" fill=\"#000000\">word </text>\n",
       "<text text-anchor=\"middle\" x=\"91.2168\" y=\"-225.1503\" font-family=\"Times,serif\" font-size=\"14.00\" fill=\"#000000\"> ([en &#45;&gt; eo], &#39;If&#39;)</text>\n",
       "</g>\n",
       "<!-- 140106320785024&#45;&gt;140106320784408 -->\n",
       "<g id=\"edge2\" class=\"edge\">\n",
       "<title>140106320785024&#45;&gt;140106320784408</title>\n",
       "<path fill=\"none\" stroke=\"#000000\" d=\"M155.9535,-217.3003C167.617,-214.3425 179.7216,-211.5778 191.2168,-209.4802 387.0432,-173.7463 610.0919,-154.2845 784.409,-143.7533\"/>\n",
       "<polygon fill=\"#000000\" stroke=\"#000000\" points=\"784.7319,-147.2404 794.5053,-143.1501 784.3143,-140.2529 784.7319,-147.2404\"/>\n",
       "<text text-anchor=\"middle\" x=\"426.2168\" y=\"-180.2802\" font-family=\"Times,serif\" font-size=\"14.00\" fill=\"#000000\">args</text>\n",
       "</g>\n",
       "<!-- 140106320783848 -->\n",
       "<g id=\"node4\" class=\"node\">\n",
       "<title>140106320783848</title>\n",
       "<ellipse fill=\"none\" stroke=\"#000000\" cx=\"314.2168\" cy=\"-236.3503\" rx=\"113.6886\" ry=\"26.7407\"/>\n",
       "<text text-anchor=\"middle\" x=\"314.2168\" y=\"-240.1503\" font-family=\"Times,serif\" font-size=\"14.00\" fill=\"#000000\">word </text>\n",
       "<text text-anchor=\"middle\" x=\"314.2168\" y=\"-225.1503\" font-family=\"Times,serif\" font-size=\"14.00\" fill=\"#000000\"> ([en &#45;&gt; eo], &#39;music&#39;)</text>\n",
       "</g>\n",
       "<!-- 140106320783848&#45;&gt;140106320784408 -->\n",
       "<g id=\"edge3\" class=\"edge\">\n",
       "<title>140106320783848&#45;&gt;140106320784408</title>\n",
       "<path fill=\"none\" stroke=\"#000000\" d=\"M395.3892,-217.5058C409.2996,-214.5957 423.6421,-211.7936 437.2168,-209.4802 578.0529,-185.4791 737.3495,-166.2306 862.7586,-152.8753\"/>\n",
       "<polygon fill=\"#000000\" stroke=\"#000000\" points=\"863.2964,-156.338 872.8717,-151.8033 862.5584,-149.377 863.2964,-156.338\"/>\n",
       "<text text-anchor=\"middle\" x=\"666.2168\" y=\"-180.2802\" font-family=\"Times,serif\" font-size=\"14.00\" fill=\"#000000\">args</text>\n",
       "</g>\n",
       "<!-- 140106320784576 -->\n",
       "<g id=\"node5\" class=\"node\">\n",
       "<title>140106320784576</title>\n",
       "<ellipse fill=\"none\" stroke=\"#000000\" cx=\"541.2168\" cy=\"-236.3503\" rx=\"95.4188\" ry=\"26.7407\"/>\n",
       "<text text-anchor=\"middle\" x=\"541.2168\" y=\"-240.1503\" font-family=\"Times,serif\" font-size=\"14.00\" fill=\"#000000\">word </text>\n",
       "<text text-anchor=\"middle\" x=\"541.2168\" y=\"-225.1503\" font-family=\"Times,serif\" font-size=\"14.00\" fill=\"#000000\"> ([en &#45;&gt; eo], &#39;be&#39;)</text>\n",
       "</g>\n",
       "<!-- 140106320784576&#45;&gt;140106320784408 -->\n",
       "<g id=\"edge4\" class=\"edge\">\n",
       "<title>140106320784576&#45;&gt;140106320784408</title>\n",
       "<path fill=\"none\" stroke=\"#000000\" d=\"M610.1258,-217.7454C621.8003,-214.8237 633.8274,-211.9555 645.2168,-209.4802 737.0928,-189.513 840.595,-170.9984 924.1223,-157.0365\"/>\n",
       "<polygon fill=\"#000000\" stroke=\"#000000\" points=\"924.9185,-160.4522 934.2074,-155.3566 923.7682,-153.5473 924.9185,-160.4522\"/>\n",
       "<text text-anchor=\"middle\" x=\"818.2168\" y=\"-180.2802\" font-family=\"Times,serif\" font-size=\"14.00\" fill=\"#000000\">args</text>\n",
       "</g>\n",
       "<!-- 140106312711024 -->\n",
       "<g id=\"node6\" class=\"node\">\n",
       "<title>140106312711024</title>\n",
       "<ellipse fill=\"none\" stroke=\"#000000\" cx=\"754.2168\" cy=\"-236.3503\" rx=\"99.9045\" ry=\"26.7407\"/>\n",
       "<text text-anchor=\"middle\" x=\"754.2168\" y=\"-240.1503\" font-family=\"Times,serif\" font-size=\"14.00\" fill=\"#000000\">word </text>\n",
       "<text text-anchor=\"middle\" x=\"754.2168\" y=\"-225.1503\" font-family=\"Times,serif\" font-size=\"14.00\" fill=\"#000000\"> ([en &#45;&gt; eo], &#39;the&#39;)</text>\n",
       "</g>\n",
       "<!-- 140106312711024&#45;&gt;140106320784408 -->\n",
       "<g id=\"edge5\" class=\"edge\">\n",
       "<title>140106312711024&#45;&gt;140106320784408</title>\n",
       "<path fill=\"none\" stroke=\"#000000\" d=\"M819.2168,-215.782C868.8587,-200.0735 937.9155,-178.2215 993.2255,-160.7195\"/>\n",
       "<polygon fill=\"#000000\" stroke=\"#000000\" points=\"994.5542,-163.9701 1003.0324,-157.6162 992.4423,-157.2963 994.5542,-163.9701\"/>\n",
       "<text text-anchor=\"middle\" x=\"956.2168\" y=\"-180.2802\" font-family=\"Times,serif\" font-size=\"14.00\" fill=\"#000000\">args</text>\n",
       "</g>\n",
       "<!-- 140106312710912 -->\n",
       "<g id=\"node7\" class=\"node\">\n",
       "<title>140106312710912</title>\n",
       "<ellipse fill=\"none\" stroke=\"#000000\" cx=\"977.2168\" cy=\"-236.3503\" rx=\"105.218\" ry=\"26.7407\"/>\n",
       "<text text-anchor=\"middle\" x=\"977.2168\" y=\"-240.1503\" font-family=\"Times,serif\" font-size=\"14.00\" fill=\"#000000\">word </text>\n",
       "<text text-anchor=\"middle\" x=\"977.2168\" y=\"-225.1503\" font-family=\"Times,serif\" font-size=\"14.00\" fill=\"#000000\"> ([en &#45;&gt; eo], &#39;food&#39;)</text>\n",
       "</g>\n",
       "<!-- 140106312710912&#45;&gt;140106320784408 -->\n",
       "<g id=\"edge6\" class=\"edge\">\n",
       "<title>140106312710912&#45;&gt;140106320784408</title>\n",
       "<path fill=\"none\" stroke=\"#000000\" d=\"M1004.1911,-210.1901C1018.0242,-196.7746 1035.0452,-180.2673 1049.9103,-165.851\"/>\n",
       "<polygon fill=\"#000000\" stroke=\"#000000\" points=\"1052.717,-168.0046 1057.4589,-158.5302 1047.8436,-162.9796 1052.717,-168.0046\"/>\n",
       "<text text-anchor=\"middle\" x=\"1054.2168\" y=\"-180.2802\" font-family=\"Times,serif\" font-size=\"14.00\" fill=\"#000000\">args</text>\n",
       "</g>\n",
       "<!-- 140106312709064 -->\n",
       "<g id=\"node8\" class=\"node\">\n",
       "<title>140106312709064</title>\n",
       "<ellipse fill=\"none\" stroke=\"#000000\" cx=\"1193.2168\" cy=\"-236.3503\" rx=\"92.7622\" ry=\"26.7407\"/>\n",
       "<text text-anchor=\"middle\" x=\"1193.2168\" y=\"-240.1503\" font-family=\"Times,serif\" font-size=\"14.00\" fill=\"#000000\">word </text>\n",
       "<text text-anchor=\"middle\" x=\"1193.2168\" y=\"-225.1503\" font-family=\"Times,serif\" font-size=\"14.00\" fill=\"#000000\"> ([en &#45;&gt; eo], &#39;of&#39;)</text>\n",
       "</g>\n",
       "<!-- 140106312709064&#45;&gt;140106320784408 -->\n",
       "<g id=\"edge7\" class=\"edge\">\n",
       "<title>140106312709064&#45;&gt;140106320784408</title>\n",
       "<path fill=\"none\" stroke=\"#000000\" d=\"M1166.5201,-210.4595C1152.6901,-197.0469 1135.6175,-180.4896 1120.693,-166.0156\"/>\n",
       "<polygon fill=\"#000000\" stroke=\"#000000\" points=\"1122.7281,-163.1136 1113.1128,-158.6642 1117.8548,-168.1386 1122.7281,-163.1136\"/>\n",
       "<text text-anchor=\"middle\" x=\"1162.2168\" y=\"-180.2802\" font-family=\"Times,serif\" font-size=\"14.00\" fill=\"#000000\">args</text>\n",
       "</g>\n",
       "<!-- 140106312711864 -->\n",
       "<g id=\"node9\" class=\"node\">\n",
       "<title>140106312711864</title>\n",
       "<ellipse fill=\"none\" stroke=\"#000000\" cx=\"1408.2168\" cy=\"-236.3503\" rx=\"103.8894\" ry=\"26.7407\"/>\n",
       "<text text-anchor=\"middle\" x=\"1408.2168\" y=\"-240.1503\" font-family=\"Times,serif\" font-size=\"14.00\" fill=\"#000000\">word </text>\n",
       "<text text-anchor=\"middle\" x=\"1408.2168\" y=\"-225.1503\" font-family=\"Times,serif\" font-size=\"14.00\" fill=\"#000000\"> ([en &#45;&gt; eo], &#39;love&#39;)</text>\n",
       "</g>\n",
       "<!-- 140106312711864&#45;&gt;140106320784408 -->\n",
       "<g id=\"edge8\" class=\"edge\">\n",
       "<title>140106312711864&#45;&gt;140106320784408</title>\n",
       "<path fill=\"none\" stroke=\"#000000\" d=\"M1343.2414,-215.2806C1295.0287,-199.6465 1228.688,-178.134 1175.3485,-160.8375\"/>\n",
       "<polygon fill=\"#000000\" stroke=\"#000000\" points=\"1176.1395,-157.4146 1165.5475,-157.6592 1173.9802,-164.0732 1176.1395,-157.4146\"/>\n",
       "<text text-anchor=\"middle\" x=\"1282.2168\" y=\"-180.2802\" font-family=\"Times,serif\" font-size=\"14.00\" fill=\"#000000\">args</text>\n",
       "</g>\n",
       "<!-- 140106312710968 -->\n",
       "<g id=\"node10\" class=\"node\">\n",
       "<title>140106312710968</title>\n",
       "<ellipse fill=\"none\" stroke=\"#000000\" cx=\"1635.2168\" cy=\"-236.3503\" rx=\"104.8038\" ry=\"26.7407\"/>\n",
       "<text text-anchor=\"middle\" x=\"1635.2168\" y=\"-240.1503\" font-family=\"Times,serif\" font-size=\"14.00\" fill=\"#000000\">word </text>\n",
       "<text text-anchor=\"middle\" x=\"1635.2168\" y=\"-225.1503\" font-family=\"Times,serif\" font-size=\"14.00\" fill=\"#000000\"> ([en &#45;&gt; eo], &#39;play&#39;)</text>\n",
       "</g>\n",
       "<!-- 140106312710968&#45;&gt;140106320784408 -->\n",
       "<g id=\"edge9\" class=\"edge\">\n",
       "<title>140106312710968&#45;&gt;140106320784408</title>\n",
       "<path fill=\"none\" stroke=\"#000000\" d=\"M1559.307,-217.8475C1546.6144,-214.9293 1533.5622,-212.0356 1521.2168,-209.4802 1428.6025,-190.31 1324.3341,-171.5849 1240.9904,-157.3025\"/>\n",
       "<polygon fill=\"#000000\" stroke=\"#000000\" points=\"1241.3793,-153.8183 1230.9325,-155.5831 1240.1997,-160.7182 1241.3793,-153.8183\"/>\n",
       "<text text-anchor=\"middle\" x=\"1442.2168\" y=\"-180.2802\" font-family=\"Times,serif\" font-size=\"14.00\" fill=\"#000000\">args</text>\n",
       "</g>\n",
       "<!-- 140106312710408 -->\n",
       "<g id=\"node11\" class=\"node\">\n",
       "<title>140106312710408</title>\n",
       "<ellipse fill=\"none\" stroke=\"#000000\" cx=\"1853.2168\" cy=\"-236.3503\" rx=\"95.4188\" ry=\"26.7407\"/>\n",
       "<text text-anchor=\"middle\" x=\"1853.2168\" y=\"-240.1503\" font-family=\"Times,serif\" font-size=\"14.00\" fill=\"#000000\">word </text>\n",
       "<text text-anchor=\"middle\" x=\"1853.2168\" y=\"-225.1503\" font-family=\"Times,serif\" font-size=\"14.00\" fill=\"#000000\"> ([en &#45;&gt; eo], &#39;on&#39;)</text>\n",
       "</g>\n",
       "<!-- 140106312710408&#45;&gt;140106320784408 -->\n",
       "<g id=\"edge10\" class=\"edge\">\n",
       "<title>140106312710408&#45;&gt;140106320784408</title>\n",
       "<path fill=\"none\" stroke=\"#000000\" d=\"M1785.2642,-217.3792C1773.3145,-214.449 1760.9486,-211.6732 1749.2168,-209.4802 1608.9739,-183.2658 1450.3212,-164.2724 1323.2716,-151.6093\"/>\n",
       "<polygon fill=\"#000000\" stroke=\"#000000\" points=\"1323.3164,-148.0967 1313.0202,-150.5945 1322.6267,-155.0627 1323.3164,-148.0967\"/>\n",
       "<text text-anchor=\"middle\" x=\"1658.2168\" y=\"-180.2802\" font-family=\"Times,serif\" font-size=\"14.00\" fill=\"#000000\">args</text>\n",
       "</g>\n",
       "<!-- 140106312709736 -->\n",
       "<g id=\"node12\" class=\"node\">\n",
       "<title>140106312709736</title>\n",
       "<ellipse fill=\"none\" stroke=\"#000000\" cx=\"2758.2168\" cy=\"-131.6102\" rx=\"257.2738\" ry=\"26.7407\"/>\n",
       "<text text-anchor=\"middle\" x=\"2758.2168\" y=\"-135.4102\" font-family=\"Times,serif\" font-size=\"14.00\" fill=\"#000000\">format_string </text>\n",
       "<text text-anchor=\"middle\" x=\"2758.2168\" y=\"-120.4102\" font-family=\"Times,serif\" font-size=\"14.00\" fill=\"#000000\"> (&#39;{} {} {} {} {}; {} {},&#39;, —, —, —, —, —, —, —)</text>\n",
       "</g>\n",
       "<!-- 140106312709736&#45;&gt;140106312850568 -->\n",
       "<g id=\"edge11\" class=\"edge\">\n",
       "<title>140106312709736&#45;&gt;140106312850568</title>\n",
       "<path fill=\"none\" stroke=\"#000000\" d=\"M2758.2168,-104.637C2758.2168,-92.2976 2758.2168,-77.4761 2758.2168,-64.0972\"/>\n",
       "<polygon fill=\"#000000\" stroke=\"#000000\" points=\"2761.7169,-63.7518 2758.2168,-53.7518 2754.7169,-63.7519 2761.7169,-63.7518\"/>\n",
       "<text text-anchor=\"middle\" x=\"2762.7168\" y=\"-75.5401\" font-family=\"Times,serif\" font-size=\"14.00\" fill=\"#000000\">a</text>\n",
       "</g>\n",
       "<!-- 140106312712088 -->\n",
       "<g id=\"node13\" class=\"node\">\n",
       "<title>140106312712088</title>\n",
       "<ellipse fill=\"none\" stroke=\"#000000\" cx=\"2073.2168\" cy=\"-236.3503\" rx=\"106.1321\" ry=\"26.7407\"/>\n",
       "<text text-anchor=\"middle\" x=\"2073.2168\" y=\"-240.1503\" font-family=\"Times,serif\" font-size=\"14.00\" fill=\"#000000\">word </text>\n",
       "<text text-anchor=\"middle\" x=\"2073.2168\" y=\"-225.1503\" font-family=\"Times,serif\" font-size=\"14.00\" fill=\"#000000\"> ([en &#45;&gt; eo], &#39;Give&#39;)</text>\n",
       "</g>\n",
       "<!-- 140106312712088&#45;&gt;140106312709736 -->\n",
       "<g id=\"edge12\" class=\"edge\">\n",
       "<title>140106312712088&#45;&gt;140106312709736</title>\n",
       "<path fill=\"none\" stroke=\"#000000\" d=\"M2149.0922,-217.5618C2162.0998,-214.6452 2175.5147,-211.8265 2188.2168,-209.4802 2315.8514,-185.9045 2460.7854,-166.1981 2572.5659,-152.5078\"/>\n",
       "<polygon fill=\"#000000\" stroke=\"#000000\" points=\"2573.0921,-155.9697 2582.5948,-151.2848 2572.2446,-149.0212 2573.0921,-155.9697\"/>\n",
       "<text text-anchor=\"middle\" x=\"2407.2168\" y=\"-180.2802\" font-family=\"Times,serif\" font-size=\"14.00\" fill=\"#000000\">args</text>\n",
       "</g>\n",
       "<!-- 140106312710464 -->\n",
       "<g id=\"node14\" class=\"node\">\n",
       "<title>140106312710464</title>\n",
       "<ellipse fill=\"none\" stroke=\"#000000\" cx=\"2296.2168\" cy=\"-236.3503\" rx=\"98.9899\" ry=\"26.7407\"/>\n",
       "<text text-anchor=\"middle\" x=\"2296.2168\" y=\"-240.1503\" font-family=\"Times,serif\" font-size=\"14.00\" fill=\"#000000\">word </text>\n",
       "<text text-anchor=\"middle\" x=\"2296.2168\" y=\"-225.1503\" font-family=\"Times,serif\" font-size=\"14.00\" fill=\"#000000\"> ([en &#45;&gt; eo], &#39;me&#39;)</text>\n",
       "</g>\n",
       "<!-- 140106312710464&#45;&gt;140106312709736 -->\n",
       "<g id=\"edge13\" class=\"edge\">\n",
       "<title>140106312710464&#45;&gt;140106312709736</title>\n",
       "<path fill=\"none\" stroke=\"#000000\" d=\"M2368.7686,-218.0108C2380.6028,-215.1025 2392.7415,-212.1693 2404.2168,-209.4802 2480.5695,-191.5879 2566.4743,-172.6623 2634.5376,-157.9494\"/>\n",
       "<polygon fill=\"#000000\" stroke=\"#000000\" points=\"2635.4109,-161.3416 2644.447,-155.8099 2633.9335,-154.4993 2635.4109,-161.3416\"/>\n",
       "<text text-anchor=\"middle\" x=\"2557.2168\" y=\"-180.2802\" font-family=\"Times,serif\" font-size=\"14.00\" fill=\"#000000\">args</text>\n",
       "</g>\n",
       "<!-- 140106312711808 -->\n",
       "<g id=\"node15\" class=\"node\">\n",
       "<title>140106312711808</title>\n",
       "<ellipse fill=\"none\" stroke=\"#000000\" cx=\"2530.2168\" cy=\"-236.3503\" rx=\"117.2596\" ry=\"26.7407\"/>\n",
       "<text text-anchor=\"middle\" x=\"2530.2168\" y=\"-240.1503\" font-family=\"Times,serif\" font-size=\"14.00\" fill=\"#000000\">word </text>\n",
       "<text text-anchor=\"middle\" x=\"2530.2168\" y=\"-225.1503\" font-family=\"Times,serif\" font-size=\"14.00\" fill=\"#000000\"> ([en &#45;&gt; eo], &#39;excess&#39;)</text>\n",
       "</g>\n",
       "<!-- 140106312711808&#45;&gt;140106312709736 -->\n",
       "<g id=\"edge14\" class=\"edge\">\n",
       "<title>140106312711808&#45;&gt;140106312709736</title>\n",
       "<path fill=\"none\" stroke=\"#000000\" d=\"M2582.8109,-212.1893C2615.2855,-197.2709 2657.236,-177.9994 2691.9684,-162.0438\"/>\n",
       "<polygon fill=\"#000000\" stroke=\"#000000\" points=\"2693.4688,-165.2062 2701.0947,-157.8513 2690.5466,-158.8453 2693.4688,-165.2062\"/>\n",
       "<text text-anchor=\"middle\" x=\"2674.2168\" y=\"-180.2802\" font-family=\"Times,serif\" font-size=\"14.00\" fill=\"#000000\">args</text>\n",
       "</g>\n",
       "<!-- 140106665487888 -->\n",
       "<g id=\"node16\" class=\"node\">\n",
       "<title>140106665487888</title>\n",
       "<ellipse fill=\"none\" stroke=\"#000000\" cx=\"2758.2168\" cy=\"-236.3503\" rx=\"92.7622\" ry=\"26.7407\"/>\n",
       "<text text-anchor=\"middle\" x=\"2758.2168\" y=\"-240.1503\" font-family=\"Times,serif\" font-size=\"14.00\" fill=\"#000000\">word </text>\n",
       "<text text-anchor=\"middle\" x=\"2758.2168\" y=\"-225.1503\" font-family=\"Times,serif\" font-size=\"14.00\" fill=\"#000000\"> ([en &#45;&gt; eo], &#39;of&#39;)</text>\n",
       "</g>\n",
       "<!-- 140106665487888&#45;&gt;140106312709736 -->\n",
       "<g id=\"edge15\" class=\"edge\">\n",
       "<title>140106665487888&#45;&gt;140106312709736</title>\n",
       "<path fill=\"none\" stroke=\"#000000\" d=\"M2758.2168,-209.3771C2758.2168,-197.0377 2758.2168,-182.2162 2758.2168,-168.8373\"/>\n",
       "<polygon fill=\"#000000\" stroke=\"#000000\" points=\"2761.7169,-168.4919 2758.2168,-158.4919 2754.7169,-168.492 2761.7169,-168.4919\"/>\n",
       "<text text-anchor=\"middle\" x=\"2774.2168\" y=\"-180.2802\" font-family=\"Times,serif\" font-size=\"14.00\" fill=\"#000000\">args</text>\n",
       "</g>\n",
       "<!-- 140106312849672 -->\n",
       "<g id=\"node17\" class=\"node\">\n",
       "<title>140106312849672</title>\n",
       "<ellipse fill=\"none\" stroke=\"#000000\" cx=\"2959.2168\" cy=\"-236.3503\" rx=\"90.5193\" ry=\"26.7407\"/>\n",
       "<text text-anchor=\"middle\" x=\"2959.2168\" y=\"-240.1503\" font-family=\"Times,serif\" font-size=\"14.00\" fill=\"#000000\">word </text>\n",
       "<text text-anchor=\"middle\" x=\"2959.2168\" y=\"-225.1503\" font-family=\"Times,serif\" font-size=\"14.00\" fill=\"#000000\"> ([en &#45;&gt; eo], &#39;it&#39;)</text>\n",
       "</g>\n",
       "<!-- 140106312849672&#45;&gt;140106312709736 -->\n",
       "<g id=\"edge16\" class=\"edge\">\n",
       "<title>140106312849672&#45;&gt;140106312709736</title>\n",
       "<path fill=\"none\" stroke=\"#000000\" d=\"M2914.3586,-212.9749C2885.9258,-198.1587 2848.8167,-178.8213 2817.9098,-162.7159\"/>\n",
       "<polygon fill=\"#000000\" stroke=\"#000000\" points=\"2819.4384,-159.5658 2808.9528,-158.0485 2816.2035,-165.7735 2819.4384,-159.5658\"/>\n",
       "<text text-anchor=\"middle\" x=\"2887.2168\" y=\"-180.2802\" font-family=\"Times,serif\" font-size=\"14.00\" fill=\"#000000\">args</text>\n",
       "</g>\n",
       "<!-- 140106312850624 -->\n",
       "<g id=\"node18\" class=\"node\">\n",
       "<title>140106312850624</title>\n",
       "<ellipse fill=\"none\" stroke=\"#000000\" cx=\"3171.2168\" cy=\"-236.3503\" rx=\"103.8894\" ry=\"26.7407\"/>\n",
       "<text text-anchor=\"middle\" x=\"3171.2168\" y=\"-240.1503\" font-family=\"Times,serif\" font-size=\"14.00\" fill=\"#000000\">word </text>\n",
       "<text text-anchor=\"middle\" x=\"3171.2168\" y=\"-225.1503\" font-family=\"Times,serif\" font-size=\"14.00\" fill=\"#000000\"> ([en &#45;&gt; eo], &#39;that&#39;)</text>\n",
       "</g>\n",
       "<!-- 140106312850624&#45;&gt;140106312709736 -->\n",
       "<g id=\"edge17\" class=\"edge\">\n",
       "<title>140106312850624&#45;&gt;140106312709736</title>\n",
       "<path fill=\"none\" stroke=\"#000000\" d=\"M3096.9037,-217.5039C3032.6913,-201.2191 2939.0602,-177.4735 2866.5107,-159.0744\"/>\n",
       "<polygon fill=\"#000000\" stroke=\"#000000\" points=\"2866.9724,-155.5807 2856.4188,-156.515 2865.2515,-162.3659 2866.9724,-155.5807\"/>\n",
       "<text text-anchor=\"middle\" x=\"3006.2168\" y=\"-180.2802\" font-family=\"Times,serif\" font-size=\"14.00\" fill=\"#000000\">args</text>\n",
       "</g>\n",
       "<!-- 140106312850064 -->\n",
       "<g id=\"node19\" class=\"node\">\n",
       "<title>140106312850064</title>\n",
       "<ellipse fill=\"none\" stroke=\"#000000\" cx=\"3426.2168\" cy=\"-236.3503\" rx=\"132.8722\" ry=\"26.7407\"/>\n",
       "<text text-anchor=\"middle\" x=\"3426.2168\" y=\"-240.1503\" font-family=\"Times,serif\" font-size=\"14.00\" fill=\"#000000\">word </text>\n",
       "<text text-anchor=\"middle\" x=\"3426.2168\" y=\"-225.1503\" font-family=\"Times,serif\" font-size=\"14.00\" fill=\"#000000\"> ([en &#45;&gt; eo], &#39;surfeiting&#39;)</text>\n",
       "</g>\n",
       "<!-- 140106312850064&#45;&gt;140106312709736 -->\n",
       "<g id=\"edge18\" class=\"edge\">\n",
       "<title>140106312850064&#45;&gt;140106312709736</title>\n",
       "<path fill=\"none\" stroke=\"#000000\" d=\"M3330.4493,-217.6875C3315.0096,-214.8347 3299.1852,-212.0034 3284.2168,-209.4802 3163.9534,-189.2081 3027.7307,-169.1208 2924.0502,-154.4265\"/>\n",
       "<polygon fill=\"#000000\" stroke=\"#000000\" points=\"2924.5115,-150.957 2914.1198,-153.0214 2923.5308,-157.8879 2924.5115,-150.957\"/>\n",
       "<text text-anchor=\"middle\" x=\"3185.2168\" y=\"-180.2802\" font-family=\"Times,serif\" font-size=\"14.00\" fill=\"#000000\">args</text>\n",
       "</g>\n",
       "<!-- 140106665486712 -->\n",
       "<g id=\"node20\" class=\"node\">\n",
       "<title>140106665486712</title>\n",
       "<ellipse fill=\"none\" stroke=\"#000000\" cx=\"4293.2168\" cy=\"-131.6102\" rx=\"257.2738\" ry=\"26.7407\"/>\n",
       "<text text-anchor=\"middle\" x=\"4293.2168\" y=\"-135.4102\" font-family=\"Times,serif\" font-size=\"14.00\" fill=\"#000000\">format_string </text>\n",
       "<text text-anchor=\"middle\" x=\"4293.2168\" y=\"-120.4102\" font-family=\"Times,serif\" font-size=\"14.00\" fill=\"#000000\"> (&#39;{} {} {} {}, {} {} {}.&#39;, —, —, —, —, —, —, —)</text>\n",
       "</g>\n",
       "<!-- 140106665486712&#45;&gt;140106312850568 -->\n",
       "<g id=\"edge19\" class=\"edge\">\n",
       "<title>140106665486712&#45;&gt;140106312850568</title>\n",
       "<path fill=\"none\" stroke=\"#000000\" d=\"M4077.7605,-116.9086C3728.8065,-93.0979 3056.4928,-47.2228 2832.7118,-31.9532\"/>\n",
       "<polygon fill=\"#000000\" stroke=\"#000000\" points=\"2832.9294,-28.46 2822.7143,-31.271 2832.4528,-35.4438 2832.9294,-28.46\"/>\n",
       "<text text-anchor=\"middle\" x=\"3622.7168\" y=\"-75.5401\" font-family=\"Times,serif\" font-size=\"14.00\" fill=\"#000000\">a</text>\n",
       "</g>\n",
       "<!-- 140106312850288 -->\n",
       "<g id=\"node21\" class=\"node\">\n",
       "<title>140106312850288</title>\n",
       "<ellipse fill=\"none\" stroke=\"#000000\" cx=\"3679.2168\" cy=\"-236.3503\" rx=\"102.561\" ry=\"26.7407\"/>\n",
       "<text text-anchor=\"middle\" x=\"3679.2168\" y=\"-240.1503\" font-family=\"Times,serif\" font-size=\"14.00\" fill=\"#000000\">word </text>\n",
       "<text text-anchor=\"middle\" x=\"3679.2168\" y=\"-225.1503\" font-family=\"Times,serif\" font-size=\"14.00\" fill=\"#000000\"> ([en &#45;&gt; eo], &#39;The&#39;)</text>\n",
       "</g>\n",
       "<!-- 140106312850288&#45;&gt;140106665486712 -->\n",
       "<g id=\"edge20\" class=\"edge\">\n",
       "<title>140106312850288&#45;&gt;140106665486712</title>\n",
       "<path fill=\"none\" stroke=\"#000000\" d=\"M3753.1317,-217.7166C3765.7978,-214.7821 3778.8571,-211.9172 3791.2168,-209.4802 3901.7473,-187.6864 4026.9604,-168.2539 4124.6838,-154.2524\"/>\n",
       "<polygon fill=\"#000000\" stroke=\"#000000\" points=\"4125.2484,-157.7074 4134.6533,-152.8292 4124.259,-150.7777 4125.2484,-157.7074\"/>\n",
       "<text text-anchor=\"middle\" x=\"3986.2168\" y=\"-180.2802\" font-family=\"Times,serif\" font-size=\"14.00\" fill=\"#000000\">args</text>\n",
       "</g>\n",
       "<!-- 140106312847600 -->\n",
       "<g id=\"node22\" class=\"node\">\n",
       "<title>140106312847600</title>\n",
       "<ellipse fill=\"none\" stroke=\"#000000\" cx=\"3925.2168\" cy=\"-236.3503\" rx=\"125.316\" ry=\"26.7407\"/>\n",
       "<text text-anchor=\"middle\" x=\"3925.2168\" y=\"-240.1503\" font-family=\"Times,serif\" font-size=\"14.00\" fill=\"#000000\">word </text>\n",
       "<text text-anchor=\"middle\" x=\"3925.2168\" y=\"-225.1503\" font-family=\"Times,serif\" font-size=\"14.00\" fill=\"#000000\"> ([en &#45;&gt; eo], &#39;appetite&#39;)</text>\n",
       "</g>\n",
       "<!-- 140106312847600&#45;&gt;140106665486712 -->\n",
       "<g id=\"edge21\" class=\"edge\">\n",
       "<title>140106312847600&#45;&gt;140106665486712</title>\n",
       "<path fill=\"none\" stroke=\"#000000\" d=\"M4001.0204,-214.7751C4057.1417,-198.8018 4134.0906,-176.9006 4194.9353,-159.583\"/>\n",
       "<polygon fill=\"#000000\" stroke=\"#000000\" points=\"4195.8967,-162.9485 4204.5566,-156.8446 4193.9805,-156.2159 4195.8967,-162.9485\"/>\n",
       "<text text-anchor=\"middle\" x=\"4148.2168\" y=\"-180.2802\" font-family=\"Times,serif\" font-size=\"14.00\" fill=\"#000000\">args</text>\n",
       "</g>\n",
       "<!-- 140106312848104 -->\n",
       "<g id=\"node23\" class=\"node\">\n",
       "<title>140106312848104</title>\n",
       "<ellipse fill=\"none\" stroke=\"#000000\" cx=\"4173.2168\" cy=\"-236.3503\" rx=\"104.8038\" ry=\"26.7407\"/>\n",
       "<text text-anchor=\"middle\" x=\"4173.2168\" y=\"-240.1503\" font-family=\"Times,serif\" font-size=\"14.00\" fill=\"#000000\">word </text>\n",
       "<text text-anchor=\"middle\" x=\"4173.2168\" y=\"-225.1503\" font-family=\"Times,serif\" font-size=\"14.00\" fill=\"#000000\"> ([en &#45;&gt; eo], &#39;may&#39;)</text>\n",
       "</g>\n",
       "<!-- 140106312848104&#45;&gt;140106665486712 -->\n",
       "<g id=\"edge22\" class=\"edge\">\n",
       "<title>140106312848104&#45;&gt;140106665486712</title>\n",
       "<path fill=\"none\" stroke=\"#000000\" d=\"M4202.8797,-210.4595C4218.6488,-196.6957 4238.2117,-179.6205 4255.0962,-164.8831\"/>\n",
       "<polygon fill=\"#000000\" stroke=\"#000000\" points=\"4257.4099,-167.5094 4262.6422,-158.2967 4252.8068,-162.2357 4257.4099,-167.5094\"/>\n",
       "<text text-anchor=\"middle\" x=\"4257.2168\" y=\"-180.2802\" font-family=\"Times,serif\" font-size=\"14.00\" fill=\"#000000\">args</text>\n",
       "</g>\n",
       "<!-- 140106312848216 -->\n",
       "<g id=\"node24\" class=\"node\">\n",
       "<title>140106312848216</title>\n",
       "<ellipse fill=\"none\" stroke=\"#000000\" cx=\"4412.2168\" cy=\"-236.3503\" rx=\"115.931\" ry=\"26.7407\"/>\n",
       "<text text-anchor=\"middle\" x=\"4412.2168\" y=\"-240.1503\" font-family=\"Times,serif\" font-size=\"14.00\" fill=\"#000000\">word </text>\n",
       "<text text-anchor=\"middle\" x=\"4412.2168\" y=\"-225.1503\" font-family=\"Times,serif\" font-size=\"14.00\" fill=\"#000000\"> ([en &#45;&gt; eo], &#39;sicken&#39;)</text>\n",
       "</g>\n",
       "<!-- 140106312848216&#45;&gt;140106665486712 -->\n",
       "<g id=\"edge23\" class=\"edge\">\n",
       "<title>140106312848216&#45;&gt;140106665486712</title>\n",
       "<path fill=\"none\" stroke=\"#000000\" d=\"M4382.495,-210.1901C4367.1132,-196.6515 4348.154,-179.9642 4331.6691,-165.4547\"/>\n",
       "<polygon fill=\"#000000\" stroke=\"#000000\" points=\"4333.6208,-162.5099 4323.8018,-158.5302 4328.9959,-167.7645 4333.6208,-162.5099\"/>\n",
       "<text text-anchor=\"middle\" x=\"4376.2168\" y=\"-180.2802\" font-family=\"Times,serif\" font-size=\"14.00\" fill=\"#000000\">args</text>\n",
       "</g>\n",
       "<!-- 140106312849000 -->\n",
       "<g id=\"node25\" class=\"node\">\n",
       "<title>140106312849000</title>\n",
       "<ellipse fill=\"none\" stroke=\"#000000\" cx=\"4648.2168\" cy=\"-236.3503\" rx=\"101.6471\" ry=\"26.7407\"/>\n",
       "<text text-anchor=\"middle\" x=\"4648.2168\" y=\"-240.1503\" font-family=\"Times,serif\" font-size=\"14.00\" fill=\"#000000\">word </text>\n",
       "<text text-anchor=\"middle\" x=\"4648.2168\" y=\"-225.1503\" font-family=\"Times,serif\" font-size=\"14.00\" fill=\"#000000\"> ([en &#45;&gt; eo], &#39;and&#39;)</text>\n",
       "</g>\n",
       "<!-- 140106312849000&#45;&gt;140106665486712 -->\n",
       "<g id=\"edge24\" class=\"edge\">\n",
       "<title>140106312849000&#45;&gt;140106665486712</title>\n",
       "<path fill=\"none\" stroke=\"#000000\" d=\"M4580.1892,-216.2793C4526.0271,-200.2991 4449.5542,-177.7364 4389.1695,-159.9203\"/>\n",
       "<polygon fill=\"#000000\" stroke=\"#000000\" points=\"4389.8226,-156.4639 4379.2408,-156.9909 4387.8416,-163.1778 4389.8226,-156.4639\"/>\n",
       "<text text-anchor=\"middle\" x=\"4508.2168\" y=\"-180.2802\" font-family=\"Times,serif\" font-size=\"14.00\" fill=\"#000000\">args</text>\n",
       "</g>\n",
       "<!-- 140106312848552 -->\n",
       "<g id=\"node26\" class=\"node\">\n",
       "<title>140106312848552</title>\n",
       "<ellipse fill=\"none\" stroke=\"#000000\" cx=\"4863.2168\" cy=\"-236.3503\" rx=\"94.5053\" ry=\"26.7407\"/>\n",
       "<text text-anchor=\"middle\" x=\"4863.2168\" y=\"-240.1503\" font-family=\"Times,serif\" font-size=\"14.00\" fill=\"#000000\">word </text>\n",
       "<text text-anchor=\"middle\" x=\"4863.2168\" y=\"-225.1503\" font-family=\"Times,serif\" font-size=\"14.00\" fill=\"#000000\"> ([en &#45;&gt; eo], &#39;so&#39;)</text>\n",
       "</g>\n",
       "<!-- 140106312848552&#45;&gt;140106665486712 -->\n",
       "<g id=\"edge25\" class=\"edge\">\n",
       "<title>140106312848552&#45;&gt;140106665486712</title>\n",
       "<path fill=\"none\" stroke=\"#000000\" d=\"M4794.608,-217.7217C4782.8436,-214.7865 4770.7091,-211.9202 4759.2168,-209.4802 4658.3887,-188.0733 4544.2619,-168.9191 4454.1878,-154.9643\"/>\n",
       "<polygon fill=\"#000000\" stroke=\"#000000\" points=\"4454.5781,-151.4832 4444.1612,-153.417 4453.5104,-158.4013 4454.5781,-151.4832\"/>\n",
       "<text text-anchor=\"middle\" x=\"4674.2168\" y=\"-180.2802\" font-family=\"Times,serif\" font-size=\"14.00\" fill=\"#000000\">args</text>\n",
       "</g>\n",
       "<!-- 140106312850960 -->\n",
       "<g id=\"node27\" class=\"node\">\n",
       "<title>140106312850960</title>\n",
       "<ellipse fill=\"none\" stroke=\"#000000\" cx=\"5075.2168\" cy=\"-236.3503\" rx=\"98.9899\" ry=\"26.7407\"/>\n",
       "<text text-anchor=\"middle\" x=\"5075.2168\" y=\"-240.1503\" font-family=\"Times,serif\" font-size=\"14.00\" fill=\"#000000\">word </text>\n",
       "<text text-anchor=\"middle\" x=\"5075.2168\" y=\"-225.1503\" font-family=\"Times,serif\" font-size=\"14.00\" fill=\"#000000\"> ([en &#45;&gt; eo], &#39;die&#39;)</text>\n",
       "</g>\n",
       "<!-- 140106312850960&#45;&gt;140106665486712 -->\n",
       "<g id=\"edge26\" class=\"edge\">\n",
       "<title>140106312850960&#45;&gt;140106665486712</title>\n",
       "<path fill=\"none\" stroke=\"#000000\" d=\"M5004.6142,-217.457C4992.2089,-214.5182 4979.3782,-211.7193 4967.2168,-209.4802 4814.6554,-181.3922 4640.6922,-161.5954 4507.7201,-148.9925\"/>\n",
       "<polygon fill=\"#000000\" stroke=\"#000000\" points=\"4507.6961,-145.4749 4497.4121,-148.0222 4507.04,-152.4441 4507.6961,-145.4749\"/>\n",
       "<text text-anchor=\"middle\" x=\"4874.2168\" y=\"-180.2802\" font-family=\"Times,serif\" font-size=\"14.00\" fill=\"#000000\">args</text>\n",
       "</g>\n",
       "</g>\n",
       "</svg>\n"
      ],
      "text/plain": [
       "<graphviz.dot.Digraph at 0x7f6d0b33ba20>"
      ]
     },
     "execution_count": 9,
     "metadata": {},
     "output_type": "execute_result"
    }
   ],
   "source": [
    "workflow_graph.attr(size='10')\n",
    "workflow_graph"
   ]
  },
  {
   "cell_type": "markdown",
   "metadata": {},
   "source": [
    "## Dealing with repetition\n",
    "In the following example we have a line with some repetition."
   ]
  },
  {
   "cell_type": "code",
   "execution_count": 1,
   "metadata": {
    "collapsed": true
   },
   "outputs": [],
   "source": [
    "from noodles import (schedule, gather_all)\n",
    "import re\n",
    "\n",
    "@schedule\n",
    "def word_size(word):\n",
    "    return len(word)\n",
    "\n",
    "@schedule\n",
    "def format_string(s, *args, **kwargs):\n",
    "    return s.format(*args, **kwargs)\n",
    "\n",
    "def word_size_phrase(phrase):\n",
    "    words = re.sub(\"[^\\w]\", \" \", phrase).split()\n",
    "    space = re.sub(\"[\\w]+\", \"{}\", phrase)\n",
    "    word_lengths = map(word_size, words)\n",
    "    return format_string(space, *word_lengths)"
   ]
  },
  {
   "cell_type": "code",
   "execution_count": 2,
   "metadata": {},
   "outputs": [
    {
     "data": {
      "text/markdown": [
       "| sizes |\n",
       "| --- |\n",
       "| ![workflow sizes](poetry-sizes.svg) |"
      ],
      "text/plain": [
       "<IPython.core.display.Markdown object>"
      ]
     },
     "metadata": {},
     "output_type": "display_data"
    }
   ],
   "source": [
    "from noodles.tutorial import display_workflows, run_and_print_log\n",
    "\n",
    "display_workflows(\n",
    "    prefix='poetry',\n",
    "    sizes=word_size_phrase(\"Oote oote oote, Boe\"))"
   ]
  },
  {
   "cell_type": "markdown",
   "metadata": {
    "collapsed": true
   },
   "source": [
    "Let's run the example workflows now, but focus on the actions taken, looking at the logs. The function ``run_and_print_log`` in the tutorial module runs our workflow with four parallel threads and caches results in a Sqlite3 database.\n",
    "\n",
    "To see how this program is being run, we monitor the job submission, retrieval and result storage. First, should you have run this tutorial before, remove the database file."
   ]
  },
  {
   "cell_type": "code",
   "execution_count": 3,
   "metadata": {
    "collapsed": true
   },
   "outputs": [],
   "source": [
    "# remove the database if it already exists\n",
    "!rm -f tutorial.db"
   ]
  },
  {
   "cell_type": "markdown",
   "metadata": {},
   "source": [
    "Running the workflow, we can now see that at the second occurence of the word 'oote', the function call is attached to the first job that asked for the same result. The job `word_size('oote')` is run only once."
   ]
  },
  {
   "cell_type": "code",
   "execution_count": 4,
   "metadata": {},
   "outputs": [
    {
     "data": {
      "text/html": [
       "<pre style=\"font-size: 9pt; margin: 0pt\">2018-01-30 17:25:06,387 - job             1: word_size('Oote')</pre>\n",
       "<pre style=\"font-size: 9pt; margin: 0pt\">2018-01-30 17:25:06,387 - job             2: word_size('oote')</pre>\n",
       "<pre style=\"font-size: 9pt; margin: 0pt\">2018-01-30 17:25:06,387 - job             3: word_size('oote')</pre>\n",
       "<pre style=\"font-size: 9pt; margin: 0pt\">2018-01-30 17:25:06,387 - job             4: word_size('Boe')</pre>\n",
       "<pre style=\"background: #eeeeee; font-weight: bold; font-size: 9pt; margin: 0pt\">2018-01-30 17:25:06,391 - result          1 [word_size('Oote')]: done -> 4</pre>\n",
       "<pre style=\"background: #eeeeee; font-weight: bold; font-size: 9pt; margin: 0pt\">2018-01-30 17:25:06,391 - result          2 [word_size('oote')]: done -> 4</pre>\n",
       "<pre style=\"background: #eeeeee; font-weight: bold; font-size: 9pt; margin: 0pt\">2018-01-30 17:25:06,391 - result          3 [word_size('oote')]: attached -> 4</pre>\n",
       "<pre style=\"background: #eeeeee; font-weight: bold; font-size: 9pt; margin: 0pt\">2018-01-30 17:25:06,391 - result          4 [word_size('Boe')]: done -> 3</pre>\n",
       "<pre style=\"font-size: 9pt; margin: 0pt\">2018-01-30 17:25:06,391 - job             5: format_string('{} {} {}, {}', 4, 4, 4, 3)</pre>\n",
       "<pre style=\"font-size: 9pt; margin: 0pt\">2018-01-30 17:25:06,393 - result          5 [format_string('{} {} {}, {}', 4, 4, 4, 3)]: done -> '4 4 4, 3'</pre>\n",
       "<pre style=\"font-size: 9pt; margin: 0pt\">2018-01-30 17:25:06,393 - -end-of-queue-</pre>"
      ],
      "text/plain": [
       "<IPython.core.display.HTML object>"
      ]
     },
     "metadata": {},
     "output_type": "display_data"
    },
    {
     "data": {
      "text/plain": [
       "'4 4 4, 3'"
      ]
     },
     "execution_count": 4,
     "metadata": {},
     "output_type": "execute_result"
    }
   ],
   "source": [
    "run_and_print_log(word_size_phrase(\"Oote oote oote, Boe\"), highlight=range(4, 8))"
   ]
  },
  {
   "cell_type": "markdown",
   "metadata": {},
   "source": [
    "Now, running a similar workflow again, notice that previous results are retrieved from the database."
   ]
  },
  {
   "cell_type": "code",
   "execution_count": 5,
   "metadata": {},
   "outputs": [
    {
     "data": {
      "text/html": [
       "<pre style=\"font-size: 9pt; margin: 0pt\">2018-01-30 17:25:07,159 - job             6: word_size('Oe')</pre>\n",
       "<pre style=\"font-size: 9pt; margin: 0pt\">2018-01-30 17:25:07,160 - job             7: word_size('oe')</pre>\n",
       "<pre style=\"font-size: 9pt; margin: 0pt\">2018-01-30 17:25:07,160 - job             8: word_size('oote')</pre>\n",
       "<pre style=\"font-size: 9pt; margin: 0pt\">2018-01-30 17:25:07,160 - job             9: word_size('oote')</pre>\n",
       "<pre style=\"font-size: 9pt; margin: 0pt\">2018-01-30 17:25:07,160 - job            10: word_size('oote')</pre>\n",
       "<pre style=\"background: #eeeeee; font-weight: bold; font-size: 9pt; margin: 0pt\">2018-01-30 17:25:07,165 - result          6 [word_size('Oe')]: done -> 2</pre>\n",
       "<pre style=\"background: #eeeeee; font-weight: bold; font-size: 9pt; margin: 0pt\">2018-01-30 17:25:07,165 - result          7 [word_size('oe')]: done -> 2</pre>\n",
       "<pre style=\"background: #eeeeee; font-weight: bold; font-size: 9pt; margin: 0pt\">2018-01-30 17:25:07,165 - result          8 [word_size('oote')]: retrieved -> 4</pre>\n",
       "<pre style=\"background: #eeeeee; font-weight: bold; font-size: 9pt; margin: 0pt\">2018-01-30 17:25:07,166 - result          9 [word_size('oote')]: retrieved -> 4</pre>\n",
       "<pre style=\"background: #eeeeee; font-weight: bold; font-size: 9pt; margin: 0pt\">2018-01-30 17:25:07,166 - result         10 [word_size('oote')]: retrieved -> 4</pre>\n",
       "<pre style=\"font-size: 9pt; margin: 0pt\">2018-01-30 17:25:07,166 - job            11: format_string('{} {} {} {} {}', 2, 2, 4, 4, 4)</pre>\n",
       "<pre style=\"font-size: 9pt; margin: 0pt\">2018-01-30 17:25:07,169 - result         11 [format_string('{} {} {} {} {}', 2, 2, 4, 4, 4)]: done -> '2 2 4 4 4'</pre>\n",
       "<pre style=\"font-size: 9pt; margin: 0pt\">2018-01-30 17:25:07,169 - -end-of-queue-</pre>"
      ],
      "text/plain": [
       "<IPython.core.display.HTML object>"
      ]
     },
     "metadata": {},
     "output_type": "display_data"
    },
    {
     "data": {
      "text/plain": [
       "'2 2 4 4 4'"
      ]
     },
     "execution_count": 5,
     "metadata": {},
     "output_type": "execute_result"
    }
   ],
   "source": [
    "run_and_print_log(word_size_phrase(\"Oe oe oote oote oote\"), highlight=range(5, 10))"
   ]
  },
  {
   "cell_type": "markdown",
   "metadata": {},
   "source": [
    "Although the result of every single job is retrieved we still had to go through the trouble of looking up the results of `word_size('Oote')`, `word_size('oote')`, and `word_size('Boe')` to find out that we wanted the result from the `format_string`. If you want to cache the result of an entire workflow, pack the workflow in another scheduled function!"
   ]
  },
  {
   "cell_type": "markdown",
   "metadata": {},
   "source": [
    "## Versioning\n",
    "We may add a version string to a function. This version is taken into account when looking up results in the database."
   ]
  },
  {
   "cell_type": "code",
   "execution_count": 6,
   "metadata": {},
   "outputs": [
    {
     "data": {
      "text/html": [
       "<pre style=\"font-size: 9pt; margin: 0pt\">2018-01-30 17:25:08,109 - job            12: word_size_phrase('Kneu kneu kneu kneu ote kneu eur')</pre>\n",
       "<pre style=\"background: #eeeeee; font-weight: bold; font-size: 9pt; margin: 0pt\">2018-01-30 17:25:08,120 - result         12 [word_size_phrase('Kneu kneu kneu kneu ote kneu eur')]: done -> workflow 7f0fd80b60f0</pre>\n",
       "<pre style=\"font-size: 9pt; margin: 0pt\">2018-01-30 17:25:08,120 - job            13: word_size('Kneu')</pre>\n",
       "<pre style=\"font-size: 9pt; margin: 0pt\">2018-01-30 17:25:08,121 - job            14: word_size('kneu')</pre>\n",
       "<pre style=\"font-size: 9pt; margin: 0pt\">2018-01-30 17:25:08,122 - job            15: word_size('kneu')</pre>\n",
       "<pre style=\"font-size: 9pt; margin: 0pt\">2018-01-30 17:25:08,123 - job            16: word_size('kneu')</pre>\n",
       "<pre style=\"font-size: 9pt; margin: 0pt\">2018-01-30 17:25:08,124 - job            17: word_size('ote')</pre>\n",
       "<pre style=\"font-size: 9pt; margin: 0pt\">2018-01-30 17:25:08,125 - job            18: word_size('kneu')</pre>\n",
       "<pre style=\"font-size: 9pt; margin: 0pt\">2018-01-30 17:25:08,126 - job            19: word_size('eur')</pre>\n",
       "<pre style=\"font-size: 9pt; margin: 0pt\">2018-01-30 17:25:08,127 - result         13 [word_size('Kneu')]: done -> 4</pre>\n",
       "<pre style=\"font-size: 9pt; margin: 0pt\">2018-01-30 17:25:08,128 - result         14 [word_size('kneu')]: done -> 4</pre>\n",
       "<pre style=\"font-size: 9pt; margin: 0pt\">2018-01-30 17:25:08,128 - result         15 [word_size('kneu')]: attached -> 4</pre>\n",
       "<pre style=\"font-size: 9pt; margin: 0pt\">2018-01-30 17:25:08,128 - result         16 [word_size('kneu')]: attached -> 4</pre>\n",
       "<pre style=\"font-size: 9pt; margin: 0pt\">2018-01-30 17:25:08,128 - result         18 [word_size('kneu')]: attached -> 4</pre>\n",
       "<pre style=\"font-size: 9pt; margin: 0pt\">2018-01-30 17:25:08,128 - result         17 [word_size('ote')]: done -> 3</pre>\n",
       "<pre style=\"font-size: 9pt; margin: 0pt\">2018-01-30 17:25:08,128 - result         19 [word_size('eur')]: done -> 3</pre>\n",
       "<pre style=\"font-size: 9pt; margin: 0pt\">2018-01-30 17:25:08,129 - job            20: format_string('{} {} {} {} {} {} {}', 4, 4, 4, 4, 3, 4, 3)</pre>\n",
       "<pre style=\"background: #eeeeee; font-weight: bold; font-size: 9pt; margin: 0pt\">2018-01-30 17:25:08,131 - result         20 [format_string('{} {} {} {} {} {} {}', 4, 4, 4, 4, 3, 4, 3)]: done -> '4 4 4 4 3 4 3'</pre>\n",
       "<pre style=\"font-size: 9pt; margin: 0pt\">2018-01-30 17:25:08,131 - -end-of-queue-</pre>"
      ],
      "text/plain": [
       "<IPython.core.display.HTML object>"
      ]
     },
     "metadata": {},
     "output_type": "display_data"
    },
    {
     "data": {
      "text/plain": [
       "'4 4 4 4 3 4 3'"
      ]
     },
     "execution_count": 6,
     "metadata": {},
     "output_type": "execute_result"
    }
   ],
   "source": [
    "@schedule(version='1.0')\n",
    "def word_size_phrase(phrase):\n",
    "    words = re.sub(\"[^\\w]\", \" \", phrase).split()\n",
    "    space = re.sub(\"[\\w]+\", \"{}\", phrase)\n",
    "    word_lengths = map(word_size, words)\n",
    "    return format_string(space, *word_lengths)\n",
    "\n",
    "run_and_print_log(\n",
    "    word_size_phrase(\"Kneu kneu kneu kneu ote kneu eur\"),\n",
    "    highlight=[1, 17])"
   ]
  },
  {
   "cell_type": "markdown",
   "metadata": {},
   "source": [
    "See how the first job is evaluated to return a new workflow. Note that if the version is omitted, it is automatically generated from the source of the function. For example, let's say we decided the function `word_size_phrase` should return a dictionary of all word sizes in stead of a string. Here we use the function called `lift` to transform a dictionary containing promises to a promise of a dictionary. `lift` can handle lists, dictionaries, sets, tuples and objects that are constructable from their `__dict__` member."
   ]
  },
  {
   "cell_type": "code",
   "execution_count": 7,
   "metadata": {},
   "outputs": [
    {
     "data": {
      "text/markdown": [
       "| lift |\n",
       "| --- |\n",
       "| ![workflow lift](poetry-lift.svg) |"
      ],
      "text/plain": [
       "<IPython.core.display.Markdown object>"
      ]
     },
     "metadata": {},
     "output_type": "display_data"
    }
   ],
   "source": [
    "from noodles import lift\n",
    "\n",
    "def word_size_phrase(phrase):\n",
    "    words = re.sub(\"[^\\w]\", \" \", phrase).split()\n",
    "    return lift({word: word_size(word) for word in words})\n",
    "\n",
    "display_workflows(prefix='poetry', lift=word_size_phrase(\"Kneu kneu kneu kneu ote kneu eur\"))"
   ]
  },
  {
   "cell_type": "code",
   "execution_count": 8,
   "metadata": {},
   "outputs": [
    {
     "data": {
      "text/html": [
       "<pre style=\"font-size: 9pt; margin: 0pt\">2018-01-30 17:25:09,247 - job            21: word_size('Kneu')</pre>\n",
       "<pre style=\"font-size: 9pt; margin: 0pt\">2018-01-30 17:25:09,248 - job            22: word_size('kneu')</pre>\n",
       "<pre style=\"font-size: 9pt; margin: 0pt\">2018-01-30 17:25:09,248 - job            23: word_size('ote')</pre>\n",
       "<pre style=\"font-size: 9pt; margin: 0pt\">2018-01-30 17:25:09,248 - job            24: word_size('eur')</pre>\n",
       "<pre style=\"font-size: 9pt; margin: 0pt\">2018-01-30 17:25:09,252 - result         21 [word_size('Kneu')]: retrieved -> 4</pre>\n",
       "<pre style=\"font-size: 9pt; margin: 0pt\">2018-01-30 17:25:09,253 - job            25: make_tuple('Kneu', 4)</pre>\n",
       "<pre style=\"font-size: 9pt; margin: 0pt\">2018-01-30 17:25:09,254 - result         22 [word_size('kneu')]: retrieved -> 4</pre>\n",
       "<pre style=\"font-size: 9pt; margin: 0pt\">2018-01-30 17:25:09,254 - job            26: make_tuple('kneu', 4)</pre>\n",
       "<pre style=\"font-size: 9pt; margin: 0pt\">2018-01-30 17:25:09,255 - result         23 [word_size('ote')]: retrieved -> 3</pre>\n",
       "<pre style=\"font-size: 9pt; margin: 0pt\">2018-01-30 17:25:09,255 - job            27: make_tuple('ote', 3)</pre>\n",
       "<pre style=\"font-size: 9pt; margin: 0pt\">2018-01-30 17:25:09,257 - result         24 [word_size('eur')]: retrieved -> 3</pre>\n",
       "<pre style=\"font-size: 9pt; margin: 0pt\">2018-01-30 17:25:09,257 - job            28: make_tuple('eur', 3)</pre>\n",
       "<pre style=\"font-size: 9pt; margin: 0pt\">2018-01-30 17:25:09,258 - result         25 [make_tuple('Kneu', 4)]: done -> ('Kneu', 4)</pre>\n",
       "<pre style=\"font-size: 9pt; margin: 0pt\">2018-01-30 17:25:09,259 - result         26 [make_tuple('kneu', 4)]: done -> ('kneu', 4)</pre>\n",
       "<pre style=\"font-size: 9pt; margin: 0pt\">2018-01-30 17:25:09,259 - result         27 [make_tuple('ote', 3)]: done -> ('ote', 3)</pre>\n",
       "<pre style=\"font-size: 9pt; margin: 0pt\">2018-01-30 17:25:09,260 - result         28 [make_tuple('eur', 3)]: done -> ('eur', 3)</pre>\n",
       "<pre style=\"font-size: 9pt; margin: 0pt\">2018-01-30 17:25:09,260 - job            29: make_dict(('Kneu', 4), ('kneu', 4), ('ote', 3), ('eur', 3))</pre>\n",
       "<pre style=\"font-size: 9pt; margin: 0pt\">2018-01-30 17:25:09,262 - result         29 [make_dict(('Kneu', 4), ('kneu', 4), ('ote', 3), ('eur', 3))]: done -> {'Kneu': 4, 'kneu': 4, 'ote': 3, 'eur': 3}</pre>\n",
       "<pre style=\"font-size: 9pt; margin: 0pt\">2018-01-30 17:25:09,263 - -end-of-queue-</pre>"
      ],
      "text/plain": [
       "<IPython.core.display.HTML object>"
      ]
     },
     "metadata": {},
     "output_type": "display_data"
    },
    {
     "data": {
      "text/plain": [
       "{'Kneu': 4, 'eur': 3, 'kneu': 4, 'ote': 3}"
      ]
     },
     "execution_count": 8,
     "metadata": {},
     "output_type": "execute_result"
    }
   ],
   "source": [
    "run_and_print_log(word_size_phrase(\"Kneu kneu kneu kneu ote kneu eur\"))"
   ]
  },
  {
   "cell_type": "markdown",
   "metadata": {},
   "source": [
    "**Be careful with versions!** Noodles will believe you upon your word! If we lie about the version, it will go ahead and retrieve the result belonging to the old function:"
   ]
  },
  {
   "cell_type": "code",
   "execution_count": 9,
   "metadata": {},
   "outputs": [
    {
     "data": {
      "text/html": [
       "<pre style=\"font-size: 9pt; margin: 0pt\">2018-01-30 17:25:10,277 - job            30: word_size_phrase('Kneu kneu kneu kneu ote kneu eur')</pre>\n",
       "<pre style=\"background: #eeeeee; font-weight: bold; font-size: 9pt; margin: 0pt\">2018-01-30 17:25:10,280 - result         30 [word_size_phrase('Kneu kneu kneu kneu ote kneu eur')]: retrieved -> '4 4 4 4 3 4 3'</pre>\n",
       "<pre style=\"font-size: 9pt; margin: 0pt\">2018-01-30 17:25:10,280 - -end-of-queue-</pre>"
      ],
      "text/plain": [
       "<IPython.core.display.HTML object>"
      ]
     },
     "metadata": {},
     "output_type": "display_data"
    },
    {
     "data": {
      "text/plain": [
       "'4 4 4 4 3 4 3'"
      ]
     },
     "execution_count": 9,
     "metadata": {},
     "output_type": "execute_result"
    }
   ],
   "source": [
    "@schedule(version='1.0')\n",
    "def word_size_phrase(phrase):\n",
    "    words = re.sub(\"[^\\w]\", \" \", phrase).split()\n",
    "    return lift({word: word_size(word) for word in words})\n",
    "\n",
    "run_and_print_log(\n",
    "    word_size_phrase(\"Kneu kneu kneu kneu ote kneu eur\"),\n",
    "    highlight=[1])"
   ]
  }
 ],
 "metadata": {
  "kernelspec": {
   "display_name": "Python 3",
   "language": "python",
   "name": "python3"
  },
  "language_info": {
   "codemirror_mode": {
    "name": "ipython",
    "version": 3
   },
   "file_extension": ".py",
   "mimetype": "text/x-python",
   "name": "python",
   "nbconvert_exporter": "python",
   "pygments_lexer": "ipython3",
   "version": "3.6.4"
  }
 },
 "nbformat": 4,
 "nbformat_minor": 1
}

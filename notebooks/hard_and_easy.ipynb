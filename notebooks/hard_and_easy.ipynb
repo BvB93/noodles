{
 "cells": [
  {
   "cell_type": "markdown",
   "metadata": {},
   "source": [
    "# Mixing the easy and the hard\n",
    "\n",
    "Often in computation, a program is a mix of easy and hard problems. Some jobs only take a fraction of a second, others hours on end. It may be beneficial to mix these in a way that the hard jobs are outsourced to a compute node, while we don't want to spend minutes or even days waiting in the queue to do something very simple."
   ]
  },
  {
   "cell_type": "code",
   "execution_count": null,
   "metadata": {},
   "outputs": [],
   "source": []
  }
 ],
 "metadata": {
  "kernelspec": {
   "display_name": "Python 3",
   "language": "python",
   "name": "python3"
  },
  "language_info": {
   "codemirror_mode": {
    "name": "ipython",
    "version": 3
   },
   "file_extension": ".py",
   "mimetype": "text/x-python",
   "name": "python",
   "nbconvert_exporter": "python",
   "pygments_lexer": "ipython3",
   "version": "3.6.4"
  }
 },
 "nbformat": 4,
 "nbformat_minor": 2
}

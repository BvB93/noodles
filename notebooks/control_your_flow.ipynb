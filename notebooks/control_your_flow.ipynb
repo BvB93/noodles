{
 "cells": [
  {
   "cell_type": "markdown",
   "metadata": {},
   "source": [
    "# Advanced: Control your flow\n",
    "\n",
    "Here we dive a bit deeper in advanced flow control in Noodles. Starting with a recap into for-loops, moving on to conditional evaluation of workflows and standard algorithms. This chapter will  also go a bit deeper into the teritory of functional programming. Specifically, we will see how to program sequential loops using only functions and recursion.\n",
    "\n",
    "If you are new to the concepts of *recursion*, here is some nice material to start with:\n",
    "\n",
    "[![Socratia - Recursion, Fibonacci Sequence and Memoization](https://img.youtube.com/vi/Qk0zUZW-U_M/0.jpg)](https://www.youtube.com/watch?v=Qk0zUZW-U_M)\n",
    "\n",
    "## Recap: for loops\n",
    "In the *Translating Poetry* tutorial we saw how we could create parallel `for` loops in Noodles. To recap, let's reverse the words in a sentence. Assume you have the following for-loop in Python:"
   ]
  },
  {
   "cell_type": "code",
   "execution_count": 1,
   "metadata": {},
   "outputs": [
    {
     "name": "stdout",
     "output_type": "stream",
     "text": [
      "eht kciuq nworb xof spmuj revo eht yzal god\n"
     ]
    }
   ],
   "source": [
    "sentence = 'the quick brown fox jumps over the lazy dog'\n",
    "reverse = []\n",
    "\n",
    "def reverse_word(word):\n",
    "    return word[::-1]\n",
    "\n",
    "for word in sentence.split():\n",
    "    reverse.append(reverse_word(word))\n",
    "    \n",
    "result = ' '.join(reverse)\n",
    "print(result)"
   ]
  },
  {
   "cell_type": "markdown",
   "metadata": {},
   "source": [
    "There is a pattern to this code that is better written as:"
   ]
  },
  {
   "cell_type": "code",
   "execution_count": 2,
   "metadata": {},
   "outputs": [
    {
     "name": "stdout",
     "output_type": "stream",
     "text": [
      "eht kciuq nworb xof spmuj revo eht yzal god\n"
     ]
    }
   ],
   "source": [
    "reverse = [reverse_word(word) for word in sentence.split()]\n",
    "result = ' '.join(reverse)\n",
    "print(result)"
   ]
  },
  {
   "cell_type": "markdown",
   "metadata": {},
   "source": [
    "This last version can be translated to Noodles. Assume for some reason we want to schedule the `reverse_word` function (it takes forever to run on a single core!). Because `reverse_words` becomes a *promise*, the line with `' '.join(reverse)` also has to be captured in a scheduled function."
   ]
  },
  {
   "cell_type": "code",
   "execution_count": 3,
   "metadata": {},
   "outputs": [],
   "source": [
    "import noodles\n",
    "\n",
    "@noodles.schedule\n",
    "def reverse_word(word):\n",
    "    return word[::-1]\n",
    "\n",
    "@noodles.schedule\n",
    "def make_sentence(words):\n",
    "    return ' '.join(words)\n",
    "\n",
    "reverse_words = noodles.gather_all(\n",
    "    reverse_word(word) for word in sentence.split())\n",
    "workflow = make_sentence(reverse_words)"
   ]
  },
  {
   "cell_type": "code",
   "execution_count": 4,
   "metadata": {},
   "outputs": [
    {
     "data": {
      "text/markdown": [
       "| quick-brown-fox |\n",
       "| --- |\n",
       "| ![workflow quick-brown-fox](control-quick-brown-fox.svg) |"
      ],
      "text/plain": [
       "<IPython.core.display.Markdown object>"
      ]
     },
     "metadata": {},
     "output_type": "display_data"
    }
   ],
   "source": [
    "from noodles.tutorial import display_workflows\n",
    "noodles.tutorial.display_workflows(prefix='control', quick_brown_fox=workflow)"
   ]
  },
  {
   "cell_type": "markdown",
   "metadata": {},
   "source": [
    "This example shows how we can do loops in parallel. There are cases where we will need to do loops in a serialised manner. For example, if we are handling a very large data set and all of the computation does not fit in memory when done in parallel.\n",
    "\n",
    "There are hybrid *divide and conquer* approaches that can be implemented in Noodles. We then chunk all the work in blocks that can be executed in parallel, and stop when the first chunk gives us reason to. Divide-and-conquer can be implemented using a combination of the two looping strategies (parallel and sequential).\n",
    "\n",
    "Sequential loops are made using recursion techniques."
   ]
  },
  {
   "cell_type": "markdown",
   "metadata": {},
   "source": [
    "## Recursion\n",
    "\n",
    "Sequential loops can be made in Noodles using recursion. Comes the obligatory factorial function example:"
   ]
  },
  {
   "cell_type": "code",
   "execution_count": 16,
   "metadata": {},
   "outputs": [
    {
     "data": {
      "text/html": [
       "<pre style=\"font-size: 9pt; margin: 0pt\">100! = 933262154439441526816992388562667004907159682643816214685929638 … 0000000</pre>"
      ],
      "text/plain": [
       "<IPython.core.display.HTML object>"
      ]
     },
     "metadata": {},
     "output_type": "display_data"
    }
   ],
   "source": [
    "from noodles.tutorial import display_text\n",
    "\n",
    "def factorial(x):\n",
    "    if x == 0:\n",
    "        return 1\n",
    "    else:\n",
    "        return factorial(x - 1) * x\n",
    "\n",
    "display_text('100! = {}'.format(factorial(100)))"
   ]
  },
  {
   "cell_type": "markdown",
   "metadata": {},
   "source": [
    "There is a problem with such a recursive algorithm when numbers get too high."
   ]
  },
  {
   "cell_type": "code",
   "execution_count": 18,
   "metadata": {},
   "outputs": [
    {
     "data": {
      "text/html": [
       "<pre style=\"font-size: 9pt; margin: 0pt\">maximum recursion depth exceeded in comparison</pre>"
      ],
      "text/plain": [
       "<IPython.core.display.HTML object>"
      ]
     },
     "metadata": {},
     "output_type": "display_data"
    }
   ],
   "source": [
    "try:\n",
    "    display_text('10000! =', factorial(10000))\n",
    "except RecursionError as e:\n",
    "    display_text(e)"
   ]
  },
  {
   "cell_type": "markdown",
   "metadata": {},
   "source": [
    "Yikes! Let's head on. And translate the program to Noodles. Suppose we make `factorial` a scheduled function, we cannot multiply a *promise* with a *number* just like that (at least not in the current version of Noodles). We change the function slightly with a second argument that keeps count. This also makes the `factorial` function *tail-recursive*. "
   ]
  },
  {
   "cell_type": "code",
   "execution_count": 19,
   "metadata": {},
   "outputs": [
    {
     "data": {
      "text/html": [
       "<pre style=\"font-size: 9pt; margin: 0pt\">10000! = 2846259680917054518906413212119868890148051401702799230794179 … 0000000</pre>"
      ],
      "text/plain": [
       "<IPython.core.display.HTML object>"
      ]
     },
     "metadata": {},
     "output_type": "display_data"
    }
   ],
   "source": [
    "@noodles.schedule\n",
    "def factorial(x, acc=1):\n",
    "    if x == 0:\n",
    "        return acc\n",
    "    else:\n",
    "        return factorial(x - 1, acc * x)\n",
    "    \n",
    "result = noodles.run_single(factorial(10000))\n",
    "\n",
    "display_text('10000! = {}'.format(result))"
   ]
  },
  {
   "cell_type": "markdown",
   "metadata": {},
   "source": [
    "Yeah! Noodles runs the tail-recursive function iteratively! This is actually **very important**. We'll do a little experiment. Start your system monitor (plotting a graph of your memory usage) and run the following snippets. We let every function call to factorial gobble up some memory and to be able to measure the effect of that we insert a small sleep. Fair warning: With the current setting of `gobble_size` and running 50 loops, the first version will take about **4GB** of memory. Just change the size so that a measurable fraction of your RAM is taken up by the process and you can see the result."
   ]
  },
  {
   "cell_type": "code",
   "execution_count": 37,
   "metadata": {},
   "outputs": [],
   "source": [
    "import numpy\n",
    "import time\n",
    "\n",
    "gobble_size = 10000000"
   ]
  },
  {
   "cell_type": "code",
   "execution_count": 89,
   "metadata": {},
   "outputs": [],
   "source": [
    "@noodles.schedule(call_by_ref=['gobble'])\n",
    "def mul(x, y, gobble):\n",
    "    return x*y\n",
    "\n",
    "@noodles.schedule(call_by_ref=['gobble'])\n",
    "def factorial(x, gobble):\n",
    "    time.sleep(0.1)\n",
    "    if x == 0:\n",
    "        return 1\n",
    "    else:\n",
    "        return mul(factorial(x - 1, copy(gobble)), x, gobble)\n",
    "    \n",
    "gobble = numpy.zeros(gobble_size)\n",
    "result = noodles.run_single(factorial(50, gobble))"
   ]
  },
  {
   "cell_type": "markdown",
   "metadata": {},
   "source": [
    "We passed the `gobble` argument by reference. This prevents Noodles from copying the array when creating the workflow. If you have functions that take large arrays as input *and you don't change the value of the array in between calls* this is a sensible thing to do.\n",
    "On my machine, running only 10 loops, this gives the following result:\n",
    "\n",
    "![Memory usage with normal recursion](control-recursion.svg)\n",
    "\n",
    "Try to understand why this happens. We have reserved a NumPy array with `gobble_size` ($10^7$) floating points of 8 bytes each. The total size in bytes of this array is $8 \\times 10^7\\ MB$. In each recursive call to `factorial` the array is copied, so in total this will use $10 \\cdot 8 \\times 10^7\\ MB = 800\\ MB$ of memory!\n",
    "\n",
    "The next version is **tail-recursive**. This should barely make a dent in your memory usage!"
   ]
  },
  {
   "cell_type": "code",
   "execution_count": 98,
   "metadata": {},
   "outputs": [],
   "source": [
    "@noodles.schedule(call_by_ref=['gobble'])\n",
    "def factorial_tr(x, acc=1, gobble=None):\n",
    "    time.sleep(0.1)\n",
    "    if x == 0:\n",
    "        return acc\n",
    "    else:\n",
    "        return factorial_tr(x - 1, mul(acc, x, gobble), copy(gobble))\n",
    "\n",
    "gobble = np.zeros(gobble_size)\n",
    "result = noodles.run_single(factorial_tr(50, gobble=gobble))"
   ]
  },
  {
   "cell_type": "markdown",
   "metadata": {},
   "source": [
    "![Memory usage with tail recursion](control-tail-recursion.svg)\n",
    "\n",
    "Now, the `factorial` function is still recursive. However, since returning a call to the `factorial` function is last thing we do, the intermediate results can be safely thrown away. We'll have in memory the original reference to `gobble` and one version in the Noodles run-time for the last time `factorial` returned a workflow where `gobble.copy()` was one of the arguments.\n",
    "In total this gives a memory consumption of $160\\ MB$ (plus a little extra for the Python run-time itself). We see peeks that reach over $250\\ MB$ in the graph: this is where `gobble` is being copied, after which the garbage collector deletes the old array.\n",
    "\n",
    "Try to understand why this happens. In the first case the function returns a new workflow to be evaluated. This workflow has two nodes:"
   ]
  },
  {
   "cell_type": "code",
   "execution_count": 99,
   "metadata": {},
   "outputs": [
    {
     "data": {
      "text/markdown": [
       "| factorial-one |\n",
       "| --- |\n",
       "| ![workflow factorial-one](control-factorial-one.svg) |"
      ],
      "text/plain": [
       "<IPython.core.display.Markdown object>"
      ]
     },
     "metadata": {},
     "output_type": "display_data"
    }
   ],
   "source": [
    "display_workflows(\n",
    "    prefix='control',\n",
    "    factorial_one=noodles.unwrap(factorial)(10, '<memory gobble>'))"
   ]
  },
  {
   "cell_type": "markdown",
   "metadata": {},
   "source": [
    "To evaluate this workflow, Noodles first runs the top node `factorial(9, '<memory gobble>')`. When the answer for this function is obtained it is inserted into the slot for `mul(-, 10)`. Until the entire workflow is evaluated, the `<memory gobble>` remains in memory. Before this happens the factorial function is called which copies the gobble and creates a new workflow! We can write this out by expanding our algorithm symbolically $f(x) = x \\cdot f(x-1)$:\n",
    "\n",
    "$$\\begin{align}\n",
    "f(10) &= 10 \\cdot f(9)\\\\\n",
    "&= 10 \\cdot (9 \\cdot f(8))\\\\\n",
    "&= 10 \\cdot (9 \\cdot (8 \\cdot f(7)))\\\\\n",
    "&\\dots\\\\\n",
    "&= 10 \\cdot (9 \\cdot (8 \\cdot (7 \\cdot (6 \\cdot (5 \\cdot (4 \\cdot (3 \\cdot (2 \\cdot 1))))))))\\\\\n",
    "&= 10 \\cdot (9 \\cdot (8 \\cdot (7 \\cdot (6 \\cdot (5 \\cdot (4 \\cdot (3 \\cdot 2)))))))\\\\\n",
    "&= 10 \\cdot (9 \\cdot (8 \\cdot (7 \\cdot (6 \\cdot (5 \\cdot (4 \\cdot 6))))))\\\\\n",
    "&\\dots\n",
    "\\end{align}$$\n",
    "\n",
    "Now for the tail-recursive version, the workflow looks a bit different:"
   ]
  },
  {
   "cell_type": "code",
   "execution_count": 100,
   "metadata": {},
   "outputs": [
    {
     "data": {
      "text/markdown": [
       "| tail-recursive-factorial |\n",
       "| --- |\n",
       "| ![workflow tail-recursive-factorial](control-tail-recursive-factorial.svg) |"
      ],
      "text/plain": [
       "<IPython.core.display.Markdown object>"
      ]
     },
     "metadata": {},
     "output_type": "display_data"
    }
   ],
   "source": [
    "display_workflows(\n",
    "    prefix='control',\n",
    "    tail_recursive_factorial=noodles.unwrap(factorial_tr)(10, gobble='<memory gobble>'))"
   ]
  },
  {
   "cell_type": "markdown",
   "metadata": {},
   "source": [
    "First the `mul(1, 10, '<memory gobble>')` is evaluated. Its result is inserted into the empty slot in the call to `factorial_tr`. This call returns a new workflow with a new copy of `<memory gobble>`. This time however, the old workflow can be safely deleted. Again, it helps to look at the algorithm symbolically, given\n",
    "$f(x, a) = f(x-1, x \\cdot a)$:\n",
    "\n",
    "$$\\begin{align}\n",
    "f(10, 1) &= f(9, (10 \\cdot 1))\\\\\n",
    "&= f(9, 10)\\\\\n",
    "&= f(8, (9 \\cdot 10))\\\\\n",
    "&= f(8, 90)\\\\\n",
    "&= f(7, (8 \\cdot 90))\\\\\n",
    "&\\dots\n",
    "\\end{align}$$"
   ]
  },
  {
   "cell_type": "markdown",
   "metadata": {},
   "source": [
    "## Conditional evaluation\n",
    "\n",
    "But Python has more statements for flow control! The conditional execution of code is regulated through the `if` statement. You may want to make the exection of parts of your workflow conditional based on intermediate results. One such instance may look like this:"
   ]
  },
  {
   "cell_type": "code",
   "execution_count": 5,
   "metadata": {},
   "outputs": [],
   "source": [
    "@noodles.schedule\n",
    "def method_one(x):\n",
    "    pass\n",
    "\n",
    "@noodles.schedule\n",
    "def method_two(x):\n",
    "    pass\n",
    "\n",
    "@noodles.schedule\n",
    "def what_to_do(x):\n",
    "    if condition(x):\n",
    "        return method_one(x)\n",
    "    else:\n",
    "        return method_two(x)"
   ]
  },
  {
   "cell_type": "markdown",
   "metadata": {},
   "source": [
    "We've put the `if`-statement inside the scheduled function `what_to_do`. This returns a new workflow depending on the value of `x`. We can no longer get a nice single graph picture of the workflow, because the workflow doesn't exist! (there is no spoon ...) We can work through a small example from the Python tutorial: computing prime numbers."
   ]
  },
  {
   "cell_type": "code",
   "execution_count": 6,
   "metadata": {},
   "outputs": [
    {
     "name": "stdout",
     "output_type": "stream",
     "text": [
      "2 is a prime number\n",
      "3 is a prime number\n",
      "4 equals 2 * 2\n",
      "5 is a prime number\n",
      "6 equals 2 * 3\n",
      "7 is a prime number\n",
      "8 equals 2 * 4\n",
      "9 equals 3 * 3\n"
     ]
    }
   ],
   "source": [
    "for n in range(2, 10):\n",
    "    for x in range(2, n):\n",
    "        if n % x == 0:\n",
    "            print(n, 'equals', x, '*', n//x)\n",
    "            break\n",
    "    else:\n",
    "        # loop fell through without finding a factor\n",
    "        print(n, 'is a prime number')"
   ]
  },
  {
   "cell_type": "markdown",
   "metadata": {},
   "source": [
    "The core computation in this example is the `n % x == 0` bit. So we start by creating a scheduled function that does that."
   ]
  },
  {
   "cell_type": "code",
   "execution_count": 7,
   "metadata": {},
   "outputs": [],
   "source": [
    "@noodles.schedule\n",
    "def divides(n, x):\n",
    "    return n % x == 0"
   ]
  },
  {
   "cell_type": "markdown",
   "metadata": {},
   "source": [
    "Noodles can parallelize the inner loop, but this gives a problem: how do we know when to stop? There is no way to get it both ways. \n",
    "\n",
    "First, we'll see how to do the parallel solution. We'll compute the `divides(n, x)` function for the values of `n` and `x` and then filter out those where `divides` gave `False`. This last step is done using the `compress` function."
   ]
  },
  {
   "cell_type": "code",
   "execution_count": 8,
   "metadata": {},
   "outputs": [],
   "source": [
    "@noodles.schedule\n",
    "def compress(lst):\n",
    "    \"\"\"Takes a list of pairs, returns a list of\n",
    "    first elements of those pairs for which the\n",
    "    second element is thruthy.\"\"\"\n",
    "    return [a for a, b in lst if b]"
   ]
  },
  {
   "cell_type": "markdown",
   "metadata": {},
   "source": [
    "Using the `compress` function we can write the Noodlified parallel version of the `filter` function. We'll call it `p_filter` for *parallel filter*."
   ]
  },
  {
   "cell_type": "code",
   "execution_count": 9,
   "metadata": {},
   "outputs": [
    {
     "data": {
      "text/plain": [
       "\u001b[0;31mInit signature:\u001b[0m \u001b[0mfilter\u001b[0m\u001b[0;34m(\u001b[0m\u001b[0mself\u001b[0m\u001b[0;34m,\u001b[0m \u001b[0;34m/\u001b[0m\u001b[0;34m,\u001b[0m \u001b[0;34m*\u001b[0m\u001b[0margs\u001b[0m\u001b[0;34m,\u001b[0m \u001b[0;34m**\u001b[0m\u001b[0mkwargs\u001b[0m\u001b[0;34m)\u001b[0m\u001b[0;34m\u001b[0m\u001b[0m\n",
       "\u001b[0;31mDocstring:\u001b[0m     \n",
       "filter(function or None, iterable) --> filter object\n",
       "\n",
       "Return an iterator yielding those items of iterable for which function(item)\n",
       "is true. If function is None, return the items that are true.\n",
       "\u001b[0;31mType:\u001b[0m           type\n"
      ]
     },
     "metadata": {},
     "output_type": "display_data"
    }
   ],
   "source": [
    "?filter"
   ]
  },
  {
   "cell_type": "markdown",
   "metadata": {},
   "source": [
    "Using the generic `p_filter` function we then write the function `find_factors` that finds all integer factors of a number in parallel. Both `p_filter` and `find_factors` won't be scheduled functions. Rather, together they build the workflow that solves our problem."
   ]
  },
  {
   "cell_type": "code",
   "execution_count": 10,
   "metadata": {},
   "outputs": [],
   "source": [
    "def p_filter(f, lst):\n",
    "    return compress(noodles.gather_all(\n",
    "        noodles.gather(x, f(x)) for x in lst))\n",
    "\n",
    "def find_factors(n):\n",
    "    return p_filter(lambda x: divides(n, x), range(2, n))"
   ]
  },
  {
   "cell_type": "code",
   "execution_count": 11,
   "metadata": {},
   "outputs": [
    {
     "data": {
      "text/markdown": [
       "| factors |\n",
       "| --- |\n",
       "| ![workflow factors](control-factors.svg) |"
      ],
      "text/plain": [
       "<IPython.core.display.Markdown object>"
      ]
     },
     "metadata": {},
     "output_type": "display_data"
    }
   ],
   "source": [
    "display_workflows(prefix='control', factors=find_factors(5))"
   ]
  },
  {
   "cell_type": "markdown",
   "metadata": {},
   "source": [
    "No we can run this workflow for all the numbers we like."
   ]
  },
  {
   "cell_type": "code",
   "execution_count": 12,
   "metadata": {},
   "outputs": [
    {
     "name": "stdout",
     "output_type": "stream",
     "text": [
      "2 is prime\n",
      "3 is prime\n",
      "4 equals 2*2\n",
      "5 is prime\n",
      "6 equals 2*3, 3*2\n",
      "7 is prime\n",
      "8 equals 2*4, 4*2\n",
      "9 equals 3*3\n"
     ]
    }
   ],
   "source": [
    "result = noodles.run_parallel(\n",
    "    noodles.gather_all(noodles.gather(n, find_factors(n))\n",
    "                       for n in range(2, 10)),\n",
    "    n_threads=4)\n",
    "\n",
    "for n, factors in result:\n",
    "    if factors:\n",
    "        print(n, 'equals', ', '.join(\n",
    "            '{}*{}'.format(x, n//x) for x in factors))\n",
    "    else:\n",
    "        print(n, 'is prime')"
   ]
  },
  {
   "cell_type": "markdown",
   "metadata": {},
   "source": [
    "Few! We managed, but if all we wanted to do is find primes, we did way too much work; we also found all factors of the numbers. We had to write some boiler plate code. Argh, this tutorial was supposed to be on flow control! We move on to the sequential version. Wait, I hear you think, we were using Noodles to do things in parallel!?? Why make an effort to do sequential work? Well, we'll need it to implement the divide-and-conquer strategy, among other things. Noodles is not only a framework for parallel programming, but it also works concurrent. In the context of a larger workflow we may still want to make decision steps on a sequential basis, while another component of the workflow is happily churning out numbers."
   ]
  },
  {
   "cell_type": "markdown",
   "metadata": {},
   "source": [
    "## Find-first\n",
    "\n",
    "Previously we saw the definition of a Noodlified `filter` function. How can we write a `find_first` that stops after finding a first match? If we look at the workflow that `p_filter` produces, we see that all predicates are already present in the workflow and will be computed concurrently. We now write a sequential version. We may achieve sequential looping through recursion like this:"
   ]
  },
  {
   "cell_type": "code",
   "execution_count": 19,
   "metadata": {},
   "outputs": [],
   "source": [
    "def find_first(f, lst):\n",
    "    if not lst:\n",
    "        return None\n",
    "    elif f(lst[0]):\n",
    "        return lst[0]\n",
    "    else:\n",
    "        return find_first(f, lst[1:])"
   ]
  },
  {
   "cell_type": "markdown",
   "metadata": {},
   "source": [
    "However, if `f` is a scheduled function `f(lst[0])` will give a promise, and this routine will fail."
   ]
  },
  {
   "cell_type": "code",
   "execution_count": 20,
   "metadata": {},
   "outputs": [],
   "source": [
    "@noodles.schedule\n",
    "def find_first_helper(f, lst, first):\n",
    "    if first:\n",
    "        return lst[0]\n",
    "    elif len(lst) == 1:\n",
    "        return None\n",
    "    else:\n",
    "        return find_first_helper(f, lst[1:], f(lst[1]))\n",
    "\n",
    "def find_first(f, lst):\n",
    "    return find_first_helper(f, lst, f(lst[0]))"
   ]
  },
  {
   "cell_type": "code",
   "execution_count": 21,
   "metadata": {},
   "outputs": [
    {
     "data": {
      "text/plain": [
       "7"
      ]
     },
     "execution_count": 21,
     "metadata": {},
     "output_type": "execute_result"
    }
   ],
   "source": [
    "noodles.run_single(find_first(lambda x: divides(77, x), range(2, 63)))"
   ]
  },
  {
   "cell_type": "markdown",
   "metadata": {},
   "source": [
    "That works. Now suppose the input list is somewhat harder to compute; every element is the result of a workflow."
   ]
  },
  {
   "cell_type": "markdown",
   "metadata": {},
   "source": [
    "## Appendix: creating memory profile plots"
   ]
  },
  {
   "cell_type": "code",
   "execution_count": 83,
   "metadata": {},
   "outputs": [
    {
     "name": "stdout",
     "output_type": "stream",
     "text": [
      "Overwriting test-tail-recursion.py\n"
     ]
    }
   ],
   "source": [
    "%%writefile test-tail-recursion.py\n",
    "import numpy\n",
    "import noodles\n",
    "import time\n",
    "from copy import copy\n",
    "\n",
    "@noodles.schedule(call_by_ref=['gobble'])\n",
    "def factorial_tr(x, acc=1, gobble=None):\n",
    "    time.sleep(0.1)\n",
    "    if x == 0:\n",
    "        return acc\n",
    "    else:\n",
    "        return factorial_tr(x - 1, acc * x, copy(gobble))\n",
    "\n",
    "gobble_size = 10000000\n",
    "gobble = numpy.zeros(gobble_size)\n",
    "result = noodles.run_single(factorial_tr(10, gobble=gobble))"
   ]
  },
  {
   "cell_type": "code",
   "execution_count": 90,
   "metadata": {},
   "outputs": [
    {
     "name": "stdout",
     "output_type": "stream",
     "text": [
      "Overwriting test-recursion.py\n"
     ]
    }
   ],
   "source": [
    "%%writefile test-recursion.py\n",
    "import numpy\n",
    "import noodles\n",
    "import time\n",
    "from copy import copy\n",
    "\n",
    "@noodles.schedule(call_by_ref=['gobble'])\n",
    "def mul(x, y, gobble):\n",
    "    return x*y\n",
    "\n",
    "@noodles.schedule(call_by_ref=['gobble'])\n",
    "def factorial(x, gobble):\n",
    "    time.sleep(0.1)\n",
    "    if numpy.all(x == 0):\n",
    "        return numpy.ones_like(x)\n",
    "    else:\n",
    "        return mul(factorial(x - 1, copy(gobble)), x, gobble)\n",
    "\n",
    "gobble_size = 10000000\n",
    "gobble = numpy.zeros(gobble_size)\n",
    "result = noodles.run_single(factorial(10, gobble))"
   ]
  },
  {
   "cell_type": "code",
   "execution_count": 91,
   "metadata": {},
   "outputs": [
    {
     "name": "stdout",
     "output_type": "stream",
     "text": [
      "Requirement already satisfied: memory_profiler in /home/johannes/.local/share/workon/noodles/lib/python3.6/site-packages\n",
      "Requirement already satisfied: psutil in /home/johannes/.local/share/workon/noodles/lib/python3.6/site-packages (from memory_profiler)\n"
     ]
    }
   ],
   "source": [
    "!pip install memory_profiler"
   ]
  },
  {
   "cell_type": "code",
   "execution_count": 92,
   "metadata": {},
   "outputs": [
    {
     "name": "stdout",
     "output_type": "stream",
     "text": [
      "mprof: Sampling memory every 0.001s\n",
      "mprof: Sampling memory every 0.001s\n"
     ]
    }
   ],
   "source": [
    "%%bash\n",
    "rm mprofile_*.dat\n",
    "mprof run -T 0.001 python ./test-tail-recursion.py\n",
    "mprof run -T 0.001 python ./test-recursion.py"
   ]
  },
  {
   "cell_type": "code",
   "execution_count": 93,
   "metadata": {},
   "outputs": [
    {
     "data": {
      "image/png": "[encoded data removed]",
      "text/plain": [
       "<matplotlib.figure.Figure at 0x7fe9d5936f98>"
      ]
     },
     "metadata": {},
     "output_type": "display_data"
    },
    {
     "data": {
      "image/png": "[encoded data removed]",
      "text/plain": [
       "<matplotlib.figure.Figure at 0x7fea00493cc0>"
      ]
     },
     "metadata": {},
     "output_type": "display_data"
    }
   ],
   "source": [
    "from pathlib import Path\n",
    "from matplotlib import pyplot as plt\n",
    "\n",
    "plt.rcParams['font.family'] = 'serif'\n",
    "\n",
    "def read_mprof(filename):\n",
    "    lines = list(open(filename, 'r'))\n",
    "    cmd = filter(lambda l: l[:3] == 'CMD', lines)\n",
    "    mem = filter(lambda l: l[:3] == 'MEM', lines)\n",
    "    data = np.array([list(map(float, l.split()[1:])) for l in mem])\n",
    "    data[:,1] -= data[0,1]\n",
    "    data[:,0] *= 1024**2\n",
    "    return cmd, data\n",
    "\n",
    "def plot_mprof(filename):\n",
    "    cmd, data = read_mprof(filename)\n",
    "    if 'tail' in next(cmd):\n",
    "        figname = 'tail-recursion'\n",
    "    else:\n",
    "        figname = 'recursion'\n",
    "        \n",
    "    plt.plot(data[:,1], data[:,0] / 1e6)\n",
    "    plt.xlabel('time (s)')\n",
    "    plt.ylabel('memory usage (MB)')\n",
    "    plt.title(figname)\n",
    "    plt.savefig('control-' + figname + '-raw.svg', bbox_inches='tight')\n",
    "    plt.show()\n",
    "\n",
    "files = list(Path('.').glob('mprofile_*.dat'))\n",
    "for f in files:\n",
    "    plot_mprof(f)\n",
    "    plt.close()"
   ]
  },
  {
   "cell_type": "code",
   "execution_count": null,
   "metadata": {},
   "outputs": [],
   "source": []
  }
 ],
 "metadata": {
  "kernelspec": {
   "display_name": "Python 3",
   "language": "python",
   "name": "python3"
  },
  "language_info": {
   "codemirror_mode": {
    "name": "ipython",
    "version": 3
   },
   "file_extension": ".py",
   "mimetype": "text/x-python",
   "name": "python",
   "nbconvert_exporter": "python",
   "pygments_lexer": "ipython3",
   "version": "3.6.4"
  }
 },
 "nbformat": 4,
 "nbformat_minor": 2
}

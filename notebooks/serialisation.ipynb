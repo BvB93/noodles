{
 "cells": [
  {
   "cell_type": "markdown",
   "metadata": {},
   "source": [
    "# Serialisation\n",
    "\n",
    "Noodles lets you run jobs remotely and store/retrieve results in case of duplicate jobs or reruns. These features rely on the *serialisation* (and not unimportant, reconstruction) of all objects that are passed between scheduled functions. Serialisation refers to the process of turning any object into a stream of bytes from which we can reconstruct a functionally identical object. \"Easy enough!\" you might think, just use `pickle`. "
   ]
  },
  {
   "cell_type": "code",
   "execution_count": 1,
   "metadata": {},
   "outputs": [
    {
     "name": "stdout",
     "output_type": "stream",
     "text": [
      "function: b'\\x80\\x03cbuiltins\\ngetattr\\nq\\x00cbuiltins\\nstr\\nq\\x01X\\x05\\x00\\x00\\x00upperq\\x02\\x86q\\x03Rq\\x04.' \n",
      "message: b'\\x80\\x03X\\x0c\\x00\\x00\\x00Hello, Wold!q\\x00.'\n"
     ]
    }
   ],
   "source": [
    "import pickle\n",
    "function = pickle.dumps(str.upper)\n",
    "message = pickle.dumps(\"Hello, Wold!\")\n",
    "print(\"function:\", function, \"\\nmessage:\", message)"
   ]
  },
  {
   "cell_type": "code",
   "execution_count": 2,
   "metadata": {},
   "outputs": [
    {
     "data": {
      "text/plain": [
       "'HELLO, WOLD!'"
      ]
     },
     "execution_count": 2,
     "metadata": {},
     "output_type": "execute_result"
    }
   ],
   "source": [
    "pickle.loads(function)(pickle.loads(message))"
   ]
  },
  {
   "cell_type": "markdown",
   "metadata": {},
   "source": [
    "However `pickle` cannot serialise all objects ... \"Use `dill`!\" you say; still the pickle/dill method of serializing is rather indiscriminate. Some of our objects may contain runtime data we can't or don't want to store, coroutines, threads, locks, open files, you name it. We work with a Sqlite3 database to store our data. An application might store gigabytes of numerical data.  We don't want those binary blobs in our database, rather to store them externally in a HDF5 file."
   ]
  },
  {
   "cell_type": "markdown",
   "metadata": {},
   "source": [
    "There are many cases where a more fine-grained control of serialisation is in order. The bottom line being, that there is *no silver bullet solution*. Here we show some examples on how to customize the Noodles serialisation mechanism.\n",
    "\n",
    "## The registry\n",
    "\n",
    "Noodles keeps a registry of `Serialiser` objects that know exactly how to serialise and reconstruct objects. This registry is specified to the backend when we call the one of the `run` functions. To make the serialisation registry visible to remote parties it is important that the registry can be imported. This is why it has to be a function of zero arguments (a *thunk*) returning the actual registry object.\n",
    "\n",
    "```python\n",
    "def registry():\n",
    "    return Registry(...)\n",
    "    \n",
    "run(workflow,\n",
    "    db_file='project-cache.db',\n",
    "    registry=registry)\n",
    "```"
   ]
  },
  {
   "cell_type": "markdown",
   "metadata": {},
   "source": [
    "The registry that should always be included is `noodles.serial.base`. This registry knows how to serialise basic Python dictionaries, lists, tuples, sets, strings, bytes, slices and all objects that are internal to Noodles. Special care is taken with objects that have a `__name__` attached and can be imported using the `__module__.__name__` combination.\n",
    "\n",
    "Registries can be composed using the `+` operator. For instance, suppose we want to use `pickle` as a default option for objects that are not in `noodles.serial.base`:"
   ]
  },
  {
   "cell_type": "code",
   "execution_count": 3,
   "metadata": {},
   "outputs": [],
   "source": [
    "import noodles\n",
    "from noodles.tutorial import highlight_lines\n",
    "\n",
    "def registry():\n",
    "    return noodles.serial.pickle() \\\n",
    "        + noodles.serial.base()\n",
    "\n",
    "reg = registry()"
   ]
  },
  {
   "cell_type": "markdown",
   "metadata": {},
   "source": [
    "Let's see what is made of our objects!"
   ]
  },
  {
   "cell_type": "code",
   "execution_count": 4,
   "metadata": {},
   "outputs": [
    {
     "data": {
      "text/html": [
       "<pre style=\"font-size: 9pt; margin: 0pt\">[</pre>\n",
       "<pre style=\"font-size: 9pt; margin: 0pt\">  &quot;These data are JSON compatible!&quot;,</pre>\n",
       "<pre style=\"font-size: 9pt; margin: 0pt\">  0,</pre>\n",
       "<pre style=\"font-size: 9pt; margin: 0pt\">  1.3,</pre>\n",
       "<pre style=\"font-size: 9pt; margin: 0pt\">  null,</pre>\n",
       "<pre style=\"font-size: 9pt; margin: 0pt\">  {</pre>\n",
       "<pre style=\"font-size: 9pt; margin: 0pt\">    &quot;dictionaries&quot;: &quot;too!&quot;</pre>\n",
       "<pre style=\"font-size: 9pt; margin: 0pt\">  }</pre>\n",
       "<pre style=\"font-size: 9pt; margin: 0pt\">]</pre>"
      ],
      "text/plain": [
       "<IPython.core.display.HTML object>"
      ]
     },
     "metadata": {},
     "output_type": "display_data"
    }
   ],
   "source": [
    "highlight_lines(reg.to_json([\n",
    "    \"These data are JSON compatible!\", 0, 1.3, None,\n",
    "    {\"dictionaries\": \"too!\"}], indent=2))"
   ]
  },
  {
   "cell_type": "markdown",
   "metadata": {},
   "source": [
    "Great! JSON compatible data stays the same. Now try an object that JSON doesn't know about."
   ]
  },
  {
   "cell_type": "code",
   "execution_count": 5,
   "metadata": {},
   "outputs": [
    {
     "data": {
      "text/html": [
       "<pre style=\"font-size: 9pt; margin: 0pt\">{</pre>\n",
       "<pre style=\"background: #eeeeee; color: black;font-weight: bold; font-size: 9pt; margin: 0pt\">  &quot;_noodles&quot;: &quot;0.3.0&quot;,</pre>\n",
       "<pre style=\"font-size: 9pt; margin: 0pt\">  &quot;type&quot;: &quot;&lt;object&gt;&quot;,</pre>\n",
       "<pre style=\"font-size: 9pt; margin: 0pt\">  &quot;class&quot;: &quot;builtins.set&quot;,</pre>\n",
       "<pre style=\"font-size: 9pt; margin: 0pt\">  &quot;data&quot;: [</pre>\n",
       "<pre style=\"font-size: 9pt; margin: 0pt\">    1,</pre>\n",
       "<pre style=\"font-size: 9pt; margin: 0pt\">    2,</pre>\n",
       "<pre style=\"font-size: 9pt; margin: 0pt\">    3</pre>\n",
       "<pre style=\"font-size: 9pt; margin: 0pt\">  ]</pre>\n",
       "<pre style=\"font-size: 9pt; margin: 0pt\">}</pre>"
      ],
      "text/plain": [
       "<IPython.core.display.HTML object>"
      ]
     },
     "metadata": {},
     "output_type": "display_data"
    }
   ],
   "source": [
    "highlight_lines(reg.to_json({1, 2, 3}, indent=2), [1])"
   ]
  },
  {
   "cell_type": "markdown",
   "metadata": {},
   "source": [
    "Objects are encoded as a dictionary containing a `'_noodles'` key. So what will happen if we serialise an object the registry cannot possibly know about? Next we define a little astronomical class describing a star in the [Morgan-Keenan classification scheme](https://en.wikipedia.org/wiki/Stellar_classification)."
   ]
  },
  {
   "cell_type": "code",
   "execution_count": 6,
   "metadata": {},
   "outputs": [
    {
     "data": {
      "text/html": [
       "<pre style=\"font-size: 9pt; margin: 0pt\">{</pre>\n",
       "<pre style=\"font-size: 9pt; margin: 0pt\">  &quot;_noodles&quot;: &quot;0.3.0&quot;,</pre>\n",
       "<pre style=\"font-size: 9pt; margin: 0pt\">  &quot;type&quot;: &quot;&lt;object&gt;&quot;,</pre>\n",
       "<pre style=\"font-size: 9pt; margin: 0pt\">  &quot;class&quot;: &quot;__main__.Star&quot;,</pre>\n",
       "<pre style=\"background: #eeeeee; color: black;font-weight: bold; font-size: 9pt; margin: 0pt\">  &quot;data&quot;: &quot;gANjX19tYWluX18KU3RhcgpxACmBcQF9cQIoWA0 … d1Yi4=&quot;</pre>\n",
       "<pre style=\"font-size: 9pt; margin: 0pt\">}</pre>"
      ],
      "text/plain": [
       "<IPython.core.display.HTML object>"
      ]
     },
     "metadata": {},
     "output_type": "display_data"
    }
   ],
   "source": [
    "class Star(object):\n",
    "    \"\"\"Morgan-Keenan stellar classification.\"\"\"\n",
    "    def __init__(self, spectral_type, number, luminocity_class):\n",
    "        assert spectral_type in \"OBAFGKM\"\n",
    "        assert number in range(10)\n",
    "        \n",
    "        self.spectral_type = spectral_type\n",
    "        self.number = number\n",
    "        self.luminocity_class = luminocity_class\n",
    "\n",
    "highlight_lines(reg.to_json(Star('G', 2, 'V'), indent=2), [4], max_width=60)"
   ]
  },
  {
   "cell_type": "markdown",
   "metadata": {},
   "source": [
    "The registry obviously doesn't know about `Star`s, so it falls back to serialisation using `pickle`. The pickled data is further encoded using `base64`. This solution won't work if some of your data cannot be pickled. Also, if you're sensitive to aesthetics, the pickled output doesn't look very nice.\n",
    "\n",
    "## *serialize* and *construct*\n",
    "\n",
    "One way to take control of the serialisation of your objects is to add the `__serialize__` and `__construct__` methods."
   ]
  },
  {
   "cell_type": "code",
   "execution_count": 7,
   "metadata": {},
   "outputs": [
    {
     "data": {
      "text/html": [
       "<pre style=\"font-size: 9pt; margin: 0pt\">{</pre>\n",
       "<pre style=\"font-size: 9pt; margin: 0pt\">  &quot;_noodles&quot;: &quot;0.3.0&quot;,</pre>\n",
       "<pre style=\"font-size: 9pt; margin: 0pt\">  &quot;type&quot;: &quot;&lt;automagic&gt;&quot;,</pre>\n",
       "<pre style=\"font-size: 9pt; margin: 0pt\">  &quot;class&quot;: &quot;__main__.Star&quot;,</pre>\n",
       "<pre style=\"background: #eeeeee; color: black;font-weight: bold; font-size: 9pt; margin: 0pt\">  &quot;data&quot;: &quot;G2V&quot;</pre>\n",
       "<pre style=\"font-size: 9pt; margin: 0pt\">}</pre>"
      ],
      "text/plain": [
       "<IPython.core.display.HTML object>"
      ]
     },
     "metadata": {},
     "output_type": "display_data"
    }
   ],
   "source": [
    "class Star(object):\n",
    "    \"\"\"Morgan-Keenan stellar classification.\"\"\"\n",
    "    def __init__(self, spectral_type, number, luminocity_class):\n",
    "        assert spectral_type in \"OBAFGKM\"\n",
    "        assert number in range(10)\n",
    "        \n",
    "        self.spectral_type = spectral_type\n",
    "        self.number = number\n",
    "        self.luminocity_class = luminocity_class\n",
    "        \n",
    "    def __str__(self):\n",
    "        return f'{self.spectral_type}{self.number}{self.luminocity_class}'\n",
    "    \n",
    "    @staticmethod\n",
    "    def from_string(string):\n",
    "        \"\"\"Construct a new Star from a string describing the stellar type.\"\"\"\n",
    "        return Star(string[0], int(string[1]), string[2:])\n",
    "    \n",
    "    def __serialize__(self, pack):\n",
    "        return pack(str(self))\n",
    "    \n",
    "    @classmethod\n",
    "    def __construct__(cls, data):\n",
    "        return Star.from_string(data)\n",
    "\n",
    "highlight_lines(reg.to_json(Star('G', 2, 'V'), indent=2), [4])"
   ]
  },
  {
   "cell_type": "markdown",
   "metadata": {},
   "source": [
    "The `__serialize__` method takes one argument (besides `self`). The argument `pack` is a function that creates the data record with all handles attached. The reason for this construct is that it takes keyword arguments for special cases.\n",
    "\n",
    "```python\n",
    "def pack(data, ref=None, files=None):\n",
    "    pass\n",
    "```\n",
    "\n",
    "* The `ref` argument, if given as `True`, will make sure that this object will not get reconstructed unnecessarily. One instance where this is incredibly useful, is if the object is a gigabytes large Numpy array.\n",
    "* The `files` argument, when given, should be a list of filenames. This makes sure Noodles knows about the involvement of external files.\n",
    "\n",
    "The data passed to `pack` maybe of any type, as long as the serialisation registry knows how to serialise it.\n",
    "\n",
    "The `__construct__` method must be a *class method*. The `data` argument it is given can be expected to be identical to the data passed to the `pack` function at serialisation.\n",
    "\n",
    "## Writing a Serialiser class (TODO)\n",
    "\n",
    "Often, the class that needs serialising is not from your own package. In that case we need to write a specialised `Serialiser` class.\n",
    "\n",
    "## Using hooks (TODO)\n",
    "\n",
    "Not always can we find the correct serialisation method by looking at the type of an object. To catch the more slippery eels, we may use a *hook*."
   ]
  },
  {
   "cell_type": "markdown",
   "metadata": {},
   "source": [
    "### Footnote: better parsing\n",
    "If you're interested in doing a bit better in parsing generic expressions into objects, take a look at `pyparsing`."
   ]
  },
  {
   "cell_type": "code",
   "execution_count": 8,
   "metadata": {},
   "outputs": [
    {
     "name": "stdout",
     "output_type": "stream",
     "text": [
      "Requirement already satisfied: pyparsing in /home/johannes/.local/share/workon/noodles/lib/python3.6/site-packages\n"
     ]
    }
   ],
   "source": [
    "!pip install pyparsing"
   ]
  },
  {
   "cell_type": "code",
   "execution_count": 9,
   "metadata": {},
   "outputs": [],
   "source": [
    "from pyparsing import Literal, replaceWith, OneOrMore, Word, nums, oneOf\n",
    "\n",
    "def roman_numeral_literal(string, value):\n",
    "    return Literal(string).setParseAction(replaceWith(value))\n",
    "    \n",
    "one = roman_numeral_literal(\"I\", 1)\n",
    "four = roman_numeral_literal(\"IV\", 4)\n",
    "five = roman_numeral_literal(\"V\", 5)\n",
    "\n",
    "roman_numeral = OneOrMore(\n",
    "    (five | four | one).leaveWhitespace()) \\\n",
    "    .setName(\"roman\") \\\n",
    "    .setParseAction(lambda s, l, t: sum(t))\n",
    "\n",
    "integer = Word(nums) \\\n",
    "    .setName(\"integer\") \\\n",
    "    .setParseAction(lambda t:int(t[0]))\n",
    "\n",
    "mkStar = oneOf(list(\"OBAFGKM\")) + integer + roman_numeral"
   ]
  },
  {
   "cell_type": "code",
   "execution_count": 12,
   "metadata": {},
   "outputs": [
    {
     "data": {
      "text/plain": [
       "['B', 2, 4]"
      ]
     },
     "execution_count": 12,
     "metadata": {},
     "output_type": "execute_result"
    }
   ],
   "source": [
    "list(mkStar.parseString('B2IV'))"
   ]
  },
  {
   "cell_type": "code",
   "execution_count": 13,
   "metadata": {},
   "outputs": [],
   "source": [
    "roman_class = {\n",
    "    'I': 'supergiant',\n",
    "    'II': 'bright giant',\n",
    "    'III': 'regular giant',\n",
    "    'IV': 'sub-giants',\n",
    "    'V': 'main-sequence',\n",
    "    'VI': 'sub-dwarfs',\n",
    "    'VII': 'white dwarfs'\n",
    "}"
   ]
  },
  {
   "cell_type": "markdown",
   "metadata": {},
   "source": [
    "# Implementation\n",
    "\n",
    "A `Registry` object roughly consists of three parts. It works like a dictionary searching for `Serialiser`s based on the class or baseclass of an object. If an object cannot be identified through its class or baseclasses the `Registry` has a function hook that may use any test to determine the proper `Serialiser`. When neither the hook nor the dictionary give a result, there is a default fall-back option."
   ]
  }
 ],
 "metadata": {
  "kernelspec": {
   "display_name": "Python 3",
   "language": "python",
   "name": "python3"
  },
  "language_info": {
   "codemirror_mode": {
    "name": "ipython",
    "version": 3
   },
   "file_extension": ".py",
   "mimetype": "text/x-python",
   "name": "python",
   "nbconvert_exporter": "python",
   "pygments_lexer": "ipython3",
   "version": "3.6.4"
  }
 },
 "nbformat": 4,
 "nbformat_minor": 2
}

{
 "cells": [
  {
   "cell_type": "markdown",
   "metadata": {},
   "source": [
    "# Serialisation\n",
    "\n",
    "Noodles lets you run jobs remotely and store/retrieve results in case of duplicate jobs or reruns. These features rely on the *serialisation* (and not unimportant, reconstruction) of all objects that are passed between scheduled functions. Serialisation refers to the process of turning any object into a stream of bytes from which we can reconstruct a functionally identical object. \"Easy enough!\" you might think, just use `pickle`. "
   ]
  },
  {
   "cell_type": "code",
   "execution_count": 1,
   "metadata": {},
   "outputs": [
    {
     "name": "stdout",
     "output_type": "stream",
     "text": [
      "function: b'\\x80\\x03cbuiltins\\ngetattr\\nq\\x00cbuiltins\\nstr\\nq\\x01X\\x05\\x00\\x00\\x00upperq\\x02\\x86q\\x03Rq\\x04.' \n",
      "message: b'\\x80\\x03X\\x0c\\x00\\x00\\x00Hello, Wold!q\\x00.'\n"
     ]
    }
   ],
   "source": [
    "import pickle\n",
    "function = pickle.dumps(str.upper)\n",
    "message = pickle.dumps(\"Hello, Wold!\")\n",
    "print(\"function:\", function, \"\\nmessage:\", message)"
   ]
  },
  {
   "cell_type": "code",
   "execution_count": 2,
   "metadata": {},
   "outputs": [
    {
     "data": {
      "text/plain": [
       "'HELLO, WOLD!'"
      ]
     },
     "execution_count": 2,
     "metadata": {},
     "output_type": "execute_result"
    }
   ],
   "source": [
    "pickle.loads(function)(pickle.loads(message))"
   ]
  },
  {
   "cell_type": "markdown",
   "metadata": {},
   "source": [
    "However `pickle` cannot serialise all objects ... \"Use `dill`!\" you say; still the pickle/dill method of serializing is rather indiscriminate. Some of our objects may contain runtime data we can't or don't want to store, coroutines, threads, locks, open files, you name it. We work with a Sqlite3 database to store our data. An application might store gigabytes of numerical data.  We don't want those binary blobs in our database, rather to store them externally in a HDF5 file."
   ]
  },
  {
   "cell_type": "markdown",
   "metadata": {},
   "source": [
    "There are many cases where a more fine-grained control of serialisation is in order. The bottom line being, that there is *no silver bullet solution*. Here we show some examples on how to customize the Noodles serialisation mechanism.\n",
    "\n",
    "## The registry\n",
    "\n",
    "Noodles keeps a registry of `Serialiser` objects that know exactly how to serialise and reconstruct objects. This registry is specified to the backend when we call the one of the `run` functions. To make the serialisation registry visible to remote parties it is important that the registry can be imported. This is why it has to be a function of zero arguments (a *thunk*) returning the actual registry object.\n",
    "\n",
    "```python\n",
    "def registry():\n",
    "    return Registry(...)\n",
    "    \n",
    "run(workflow,\n",
    "    db_file='project-cache.db',\n",
    "    registry=registry)\n",
    "```"
   ]
  },
  {
   "cell_type": "markdown",
   "metadata": {},
   "source": [
    "The registry that should always be included is `noodles.serial.base`. This registry knows how to serialise basic Python dictionaries, lists, tuples, sets, strings, bytes, slices and all objects that are internal to Noodles. Special care is taken with objects that have a `__name__` attached and can be imported using the `__module__.__name__` combination.\n",
    "\n",
    "Registries can be composed using the `+` operator. For instance, suppose we want to use `pickle` as a default option for objects that are not in `noodles.serial.base`:"
   ]
  },
  {
   "cell_type": "code",
   "execution_count": 1,
   "metadata": {},
   "outputs": [],
   "source": [
    "import noodles\n",
    "from noodles.tutorial import highlight_lines\n",
    "\n",
    "def registry():\n",
    "    return noodles.serial.pickle() \\\n",
    "        + noodles.serial.base()\n",
    "\n",
    "reg = registry()"
   ]
  },
  {
   "cell_type": "markdown",
   "metadata": {},
   "source": [
    "Let's see what is made of our objects!"
   ]
  },
  {
   "cell_type": "code",
   "execution_count": 7,
   "metadata": {},
   "outputs": [
    {
     "data": {
      "text/html": [
       "<pre style=\"font-size: 9pt; margin: 0pt\">[</pre>\n",
       "<pre style=\"font-size: 9pt; margin: 0pt\">  &quot;These data are JSON compatible!&quot;,</pre>\n",
       "<pre style=\"font-size: 9pt; margin: 0pt\">  0,</pre>\n",
       "<pre style=\"font-size: 9pt; margin: 0pt\">  1.3,</pre>\n",
       "<pre style=\"font-size: 9pt; margin: 0pt\">  null,</pre>\n",
       "<pre style=\"font-size: 9pt; margin: 0pt\">  {</pre>\n",
       "<pre style=\"font-size: 9pt; margin: 0pt\">    &quot;dictionaries&quot;: &quot;too!&quot;</pre>\n",
       "<pre style=\"font-size: 9pt; margin: 0pt\">  }</pre>\n",
       "<pre style=\"font-size: 9pt; margin: 0pt\">]</pre>"
      ],
      "text/plain": [
       "<IPython.core.display.HTML object>"
      ]
     },
     "metadata": {},
     "output_type": "display_data"
    }
   ],
   "source": [
    "highlight_lines(reg.to_json([\n",
    "    \"These data are JSON compatible!\", 0, 1.3, None,\n",
    "    {\"dictionaries\": \"too!\"}], indent=2))"
   ]
  },
  {
   "cell_type": "markdown",
   "metadata": {},
   "source": [
    "Great! JSON compatible data stays the same. Now try an object that JSON doesn't know about."
   ]
  },
  {
   "cell_type": "code",
   "execution_count": 4,
   "metadata": {},
   "outputs": [
    {
     "data": {
      "text/html": [
       "<pre style=\"font-size: 9pt; margin: 0pt\">{</pre>\n",
       "<pre style=\"background: #eeeeee; color: black;font-weight: bold; font-size: 9pt; margin: 0pt\">  &quot;_noodles&quot;: &quot;0.3.0&quot;,</pre>\n",
       "<pre style=\"font-size: 9pt; margin: 0pt\">  &quot;type&quot;: &quot;&lt;object&gt;&quot;,</pre>\n",
       "<pre style=\"font-size: 9pt; margin: 0pt\">  &quot;class&quot;: &quot;builtins.set&quot;,</pre>\n",
       "<pre style=\"font-size: 9pt; margin: 0pt\">  &quot;data&quot;: [</pre>\n",
       "<pre style=\"font-size: 9pt; margin: 0pt\">    1,</pre>\n",
       "<pre style=\"font-size: 9pt; margin: 0pt\">    2,</pre>\n",
       "<pre style=\"font-size: 9pt; margin: 0pt\">    3</pre>\n",
       "<pre style=\"font-size: 9pt; margin: 0pt\">  ]</pre>\n",
       "<pre style=\"font-size: 9pt; margin: 0pt\">}</pre>"
      ],
      "text/plain": [
       "<IPython.core.display.HTML object>"
      ]
     },
     "metadata": {},
     "output_type": "display_data"
    }
   ],
   "source": [
    "highlight_lines(reg.to_json({1, 2, 3}, indent=2), [1])"
   ]
  },
  {
   "cell_type": "markdown",
   "metadata": {},
   "source": [
    "Objects are encoded as a dictionary containing a `'_noodles'` key. Next we define a new class describing a star in the Morgan-Keenan classification scheme."
   ]
  },
  {
   "cell_type": "code",
   "execution_count": 19,
   "metadata": {},
   "outputs": [],
   "source": []
  },
  {
   "cell_type": "code",
   "execution_count": 18,
   "metadata": {},
   "outputs": [
    {
     "ename": "NameError",
     "evalue": "name 'parse_roman' is not defined",
     "output_type": "error",
     "traceback": [
      "\u001b[0;31m---------------------------------------------------------------------------\u001b[0m",
      "\u001b[0;31mNameError\u001b[0m                                 Traceback (most recent call last)",
      "\u001b[0;32m<ipython-input-18-bf80ffa137c3>\u001b[0m in \u001b[0;36m<module>\u001b[0;34m()\u001b[0m\n\u001b[1;32m     15\u001b[0m reg.deep_encode([\n\u001b[1;32m     16\u001b[0m     \u001b[0;34m\"Pickle knows how to deal with \"\u001b[0m\u001b[0;34m,\u001b[0m\u001b[0;34m\u001b[0m\u001b[0m\n\u001b[0;32m---> 17\u001b[0;31m     \u001b[0mStar\u001b[0m\u001b[0;34m(\u001b[0m\u001b[0;34m'G'\u001b[0m\u001b[0;34m,\u001b[0m \u001b[0;36m2\u001b[0m\u001b[0;34m,\u001b[0m \u001b[0;34m'V'\u001b[0m\u001b[0;34m)\u001b[0m\u001b[0;34m\u001b[0m\u001b[0m\n\u001b[0m\u001b[1;32m     18\u001b[0m ])\n",
      "\u001b[0;32m<ipython-input-18-bf80ffa137c3>\u001b[0m in \u001b[0;36m__init__\u001b[0;34m(self, main, number, roman)\u001b[0m\n\u001b[1;32m      6\u001b[0m \u001b[0;34m\u001b[0m\u001b[0m\n\u001b[1;32m      7\u001b[0m         \u001b[0;32mif\u001b[0m \u001b[0misinstance\u001b[0m\u001b[0;34m(\u001b[0m\u001b[0mroman\u001b[0m\u001b[0;34m,\u001b[0m \u001b[0mstr\u001b[0m\u001b[0;34m)\u001b[0m\u001b[0;34m:\u001b[0m\u001b[0;34m\u001b[0m\u001b[0m\n\u001b[0;32m----> 8\u001b[0;31m             \u001b[0mroman\u001b[0m \u001b[0;34m=\u001b[0m \u001b[0mparse_roman\u001b[0m\u001b[0;34m(\u001b[0m\u001b[0mroman\u001b[0m\u001b[0;34m)\u001b[0m\u001b[0;34m\u001b[0m\u001b[0m\n\u001b[0m\u001b[1;32m      9\u001b[0m         \u001b[0;32massert\u001b[0m \u001b[0mroman\u001b[0m \u001b[0;32min\u001b[0m \u001b[0mrange\u001b[0m\u001b[0;34m(\u001b[0m\u001b[0;36m1\u001b[0m\u001b[0;34m,\u001b[0m \u001b[0;36m8\u001b[0m\u001b[0;34m)\u001b[0m\u001b[0;34m\u001b[0m\u001b[0m\n\u001b[1;32m     10\u001b[0m \u001b[0;34m\u001b[0m\u001b[0m\n",
      "\u001b[0;31mNameError\u001b[0m: name 'parse_roman' is not defined"
     ]
    }
   ],
   "source": [
    "class Star(object):\n",
    "    \"\"\"Morgan-Keenan stellar classification.\"\"\"\n",
    "    def __init__(self, main, number, roman):\n",
    "        assert main in \"OBAFGKM\"\n",
    "        assert number in range(10)\n",
    "        \n",
    "        if isinstance(roman, str):\n",
    "            roman = parse_roman(roman)    \n",
    "        assert roman in range(1, 8)\n",
    "        \n",
    "        self.main = main\n",
    "        self.number = number\n",
    "        self.roman = roman\n",
    "\n",
    "reg.deep_encode([\n",
    "    \"Pickle knows how to deal with \",\n",
    "    Star('G', 2, 'V')\n",
    "])"
   ]
  },
  {
   "cell_type": "markdown",
   "metadata": {},
   "source": [
    "The registry obviously doesn't know about `Star`s, so it falls back to serialisation using `pickle`. The pickled data is further encoded using `base64`."
   ]
  },
  {
   "cell_type": "code",
   "execution_count": null,
   "metadata": {},
   "outputs": [],
   "source": [
    "roman_class = {\n",
    "    'I': 'supergiant',\n",
    "    'II': 'bright giant',\n",
    "    'III': 'regular giant',\n",
    "    'IV': 'sub-giants',\n",
    "    'V': 'main-sequence',\n",
    "    'VI': 'sub-dwarfs',\n",
    "    'VII': 'white dwarfs'\n",
    "}"
   ]
  },
  {
   "cell_type": "markdown",
   "metadata": {},
   "source": [
    "# Implementation\n",
    "\n",
    "A `Registry` object roughly consists of three parts. It works like a dictionary searching for `Serialiser`s based on the class or baseclass of an object. If an object cannot be identified through its class or baseclasses the `Registry` has a function hook that may use any test to determine the proper `Serialiser`. When neither the hook nor the dictionary give a result, there is a default fall-back option."
   ]
  }
 ],
 "metadata": {
  "kernelspec": {
   "display_name": "Python 3",
   "language": "python",
   "name": "python3"
  },
  "language_info": {
   "codemirror_mode": {
    "name": "ipython",
    "version": 3
   },
   "file_extension": ".py",
   "mimetype": "text/x-python",
   "name": "python",
   "nbconvert_exporter": "python",
   "pygments_lexer": "ipython3",
   "version": "3.6.4"
  }
 },
 "nbformat": 4,
 "nbformat_minor": 2
}

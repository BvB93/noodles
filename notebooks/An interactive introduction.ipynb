{
 "cells": [
  {
   "cell_type": "markdown",
   "metadata": {},
   "source": [
    "An interactive introduction to Noodles: translating Poetry\n",
    "==========================================================\n",
    "\n",
    "Noodles is there to make your life easier, *in parallel*! The reason why Noodles can be easy and do parallel Python at the same time is its *functional* approach. In one part you'll define a set of functions that you'd like to run with Noodles, in an other part you'll compose these functions into a *workflow graph*. To make this approach work a function should not have any *side effects*. Let's not linger and just start noodling! First we define some functions to use."
   ]
  },
  {
   "cell_type": "code",
   "execution_count": 1,
   "metadata": {
    "collapsed": false
   },
   "outputs": [],
   "source": [
    "from noodles import schedule\n",
    "\n",
    "@schedule\n",
    "def add(x, y):\n",
    "    return x + y\n",
    "\n",
    "@schedule\n",
    "def mul(x,y):\n",
    "    return x * y"
   ]
  },
  {
   "cell_type": "markdown",
   "metadata": {},
   "source": [
    "Now we can create a workflow composing several calls to this function."
   ]
  },
  {
   "cell_type": "code",
   "execution_count": 2,
   "metadata": {
    "collapsed": false
   },
   "outputs": [],
   "source": [
    "a = add(1, 1)\n",
    "b = mul(a, 2)\n",
    "c = add(a, a)\n",
    "d = mul(b, c)"
   ]
  },
  {
   "cell_type": "markdown",
   "metadata": {},
   "source": [
    "That looks easy enough; the funny thing is though, that nothing has been computed yet! Noodles just created the workflow graphs corresponding to the values that still need to be computed. Until such time, we work with the *promise* of a future value. Using some function in `pygraphviz` we can look at the call graphs."
   ]
  },
  {
   "cell_type": "code",
   "execution_count": 3,
   "metadata": {
    "collapsed": false
   },
   "outputs": [],
   "source": [
    "from draw_workflow import draw_workflow\n",
    "import sys\n",
    "import os\n",
    "\n",
    "draw_workflow(\"wf1a.png\", a._workflow)\n",
    "draw_workflow(\"wf1b.png\", b._workflow)\n",
    "draw_workflow(\"wf1c.png\", c._workflow)\n",
    "draw_workflow(\"wf1d.png\", d._workflow)\n",
    "\n",
    "err = os.system(\"montage wf1?.png -tile 4x1 -geometry +10+0 wf1-series.png\")"
   ]
  },
  {
   "cell_type": "markdown",
   "metadata": {},
   "source": [
    "![callgraph](wf1-series.png)\n",
    "Now, to compute the result we have to tell Noodles to evaluate the program."
   ]
  },
  {
   "cell_type": "code",
   "execution_count": 4,
   "metadata": {
    "collapsed": false
   },
   "outputs": [
    {
     "data": {
      "text/plain": [
       "16"
      ]
     },
     "execution_count": 4,
     "metadata": {},
     "output_type": "execute_result"
    }
   ],
   "source": [
    "from noodles import run_parallel, run_single\n",
    "\n",
    "run_parallel(d, n_threads=2)"
   ]
  },
  {
   "cell_type": "markdown",
   "metadata": {
    "collapsed": true
   },
   "source": [
    "## Making loops\n",
    "\n",
    "Thats all swell, but how do we make a parallel loop? Let's look at a `map` operation; in Python there are several ways to perform a function on all elements in an array. For this example, we will translate some words using the Glosbe service, which has a nice REST interface. We first build some functionality to use this interface."
   ]
  },
  {
   "cell_type": "code",
   "execution_count": 8,
   "metadata": {
    "collapsed": true
   },
   "outputs": [],
   "source": [
    "import urllib.request\n",
    "import json\n",
    "import re\n",
    "\n",
    "\n",
    "class Translate:\n",
    "    \"\"\"Translate words and sentences in the worst possible way. The Glosbe dictionary\n",
    "    has a nice REST interface that we query for a phrase. We then take the first result.\n",
    "    To translate a sentence, we cut it in pieces, translate it and paste it back into\n",
    "    a Frankenstein monster.\"\"\"\n",
    "    def __init__(self, src_lang='en', tgt_lang='fy'):\n",
    "        self.src = src_lang\n",
    "        self.tgt = tgt_lang\n",
    "        self.url = 'https://glosbe.com/gapi/translate?' \\\n",
    "                   'from={src}&dest={tgt}&' \\\n",
    "                   'phrase={{phrase}}&format=json'.format(\n",
    "                        src=src_lang, tgt=tgt_lang)\n",
    "    \n",
    "    def query_phrase(self, phrase):\n",
    "        with urllib.request.urlopen(self.url.format(phrase=phrase.lower())) as response:\n",
    "            translation = json.loads(response.read().decode())\n",
    "        return translation\n",
    "\n",
    "    def word(self, phrase):\n",
    "        #translation = self.query_phrase(phrase)\n",
    "        translation = {'tuc': [{'phrase': {'text': phrase.lower()[::-1]}}]}\n",
    "        if len(translation['tuc']) > 0 and 'phrase' in translation['tuc'][0]:\n",
    "            result = translation['tuc'][0]['phrase']['text']\n",
    "            if phrase[0].isupper():\n",
    "                return result.title()\n",
    "            else:\n",
    "                return result            \n",
    "        else:\n",
    "            return \"<\" + phrase + \">\"\n",
    "    \n",
    "    def sentence(self, phrase):\n",
    "        words = re.sub(\"[^\\w]\", \" \", phrase).split()\n",
    "        space = re.sub(\"[\\w]+\", \"{}\", phrase)\n",
    "        return space.format(*map(self.word, words))"
   ]
  },
  {
   "cell_type": "markdown",
   "metadata": {},
   "source": [
    "We start with a list of strings that desparately need translation."
   ]
  },
  {
   "cell_type": "code",
   "execution_count": 9,
   "metadata": {
    "collapsed": false
   },
   "outputs": [
    {
     "name": "stdout",
     "output_type": "stream",
     "text": [
      "Original:\n",
      "      If music be the food of love, play on,\n",
      "      Give me excess of it; that surfeiting,\n",
      "      The appetite may sicken, and so die.\n",
      "\n"
     ]
    }
   ],
   "source": [
    "shakespeare = [\n",
    "    \"If music be the food of love, play on,\",\n",
    "    \"Give me excess of it; that surfeiting,\",\n",
    "    \"The appetite may sicken, and so die.\"]\n",
    "\n",
    "def print_poem(intro, poem):\n",
    "    print(intro)\n",
    "    for line in poem:\n",
    "        print(\"     \", line)\n",
    "    print()\n",
    "\n",
    "print_poem(\"Original:\", shakespeare)"
   ]
  },
  {
   "cell_type": "markdown",
   "metadata": {},
   "source": [
    "Beginning Python programmers like to append things; this is not how you are\n",
    "supposed to program in Python; if you do, please go and read Jeff Knupp's *Writing Idiomatic Python*."
   ]
  },
  {
   "cell_type": "code",
   "execution_count": 10,
   "metadata": {
    "collapsed": false
   },
   "outputs": [
    {
     "name": "stdout",
     "output_type": "stream",
     "text": [
      "Auf Deutsch:\n",
      "      Fi cisum eb eht doof fo evol, yalp no,\n",
      "      Evig em ssecxe fo ti; taht gnitiefrus,\n",
      "      Eht etiteppa yam nekcis, dna os eid.\n",
      "\n"
     ]
    }
   ],
   "source": [
    "shakespeare_auf_deutsch = []\n",
    "for line in shakespeare:\n",
    "    shakespeare_auf_deutsch.append(\n",
    "        Translate('en', 'de').sentence(line))\n",
    "print_poem(\"Auf Deutsch:\", shakespeare_auf_deutsch)"
   ]
  },
  {
   "cell_type": "markdown",
   "metadata": {},
   "source": [
    "Rather use a comprehension like so:"
   ]
  },
  {
   "cell_type": "code",
   "execution_count": 11,
   "metadata": {
    "collapsed": false
   },
   "outputs": [
    {
     "name": "stdout",
     "output_type": "stream",
     "text": [
      "Yn it Frysk:\n",
      "      Fi cisum eb eht doof fo evol, yalp no,\n",
      "      Evig em ssecxe fo ti; taht gnitiefrus,\n",
      "      Eht etiteppa yam nekcis, dna os eid.\n",
      "\n"
     ]
    }
   ],
   "source": [
    "shakespeare_ynt_frysk = \\\n",
    "    (Translate('en', 'fy').sentence(line) for line in shakespeare)\n",
    "print_poem(\"Yn it Frysk:\", shakespeare_ynt_frysk)"
   ]
  },
  {
   "cell_type": "markdown",
   "metadata": {},
   "source": [
    "Or use `map`:"
   ]
  },
  {
   "cell_type": "code",
   "execution_count": 12,
   "metadata": {
    "collapsed": false
   },
   "outputs": [
    {
     "name": "stdout",
     "output_type": "stream",
     "text": [
      "På Dansk:\n",
      "      Fi cisum eb eht doof fo evol, yalp no,\n",
      "      Evig em ssecxe fo ti; taht gnitiefrus,\n",
      "      Eht etiteppa yam nekcis, dna os eid.\n",
      "\n"
     ]
    }
   ],
   "source": [
    "shakespeare_pa_dansk = \\\n",
    "    map(Translate('en', 'da').sentence, shakespeare)\n",
    "print_poem(\"På Dansk:\", shakespeare_pa_dansk)"
   ]
  },
  {
   "cell_type": "markdown",
   "metadata": {},
   "source": [
    "## Noodlify!\n",
    "If your connection is a bit slow, you may find that the translations take a while to process. Wouldn't it be nice to do it in parallel? How much code would we have to change to get there in Noodles? Let's take the slow part of the program and add a `@schedule` decorator, and run! Sadly, it is not that simple. We can add `@schedule` to the `word` method. This means that it will return a promise. \n",
    "\n",
    "* Rule: *Functions that take promises need to be scheduled functions, or refer to a scheduled function at some level.* \n",
    "\n",
    "We could write\n",
    "\n",
    "    return schedule(space.format)(*(self.word(w) for w in words))\n",
    "    \n",
    "in the last line of the `sentence` method, but the string format method doesn't support wrapping. We rely on getting the signature of a function by calling `inspect.signature`. In some cases of build-in function this raises an exception. We may find a work around for these cases in future versions of Noodles. For the moment we'll have to define a little wrapper function."
   ]
  },
  {
   "cell_type": "code",
   "execution_count": 13,
   "metadata": {
    "collapsed": false
   },
   "outputs": [],
   "source": [
    "from noodles import schedule\n",
    "\n",
    "\n",
    "@schedule\n",
    "def format_string(s, *args, **kwargs):\n",
    "    return s.format(*args, **kwargs)\n",
    "\n",
    "\n",
    "import urllib.request\n",
    "import json\n",
    "import re\n",
    "\n",
    "\n",
    "class Translate:\n",
    "    \"\"\"Translate words and sentences in the worst possible way. The Glosbe dictionary\n",
    "    has a nice REST interface that we query for a phrase. We then take the first result.\n",
    "    To translate a sentence, we cut it in pieces, translate it and paste it back into\n",
    "    a Frankenstein monster.\"\"\"\n",
    "    def __init__(self, src_lang='en', tgt_lang='fy'):\n",
    "        self.src = src_lang\n",
    "        self.tgt = tgt_lang\n",
    "        self.url = 'https://glosbe.com/gapi/translate?' \\\n",
    "                   'from={src}&dest={tgt}&' \\\n",
    "                   'phrase={{phrase}}&format=json'.format(\n",
    "                        src=src_lang, tgt=tgt_lang)\n",
    "    \n",
    "    def query_phrase(self, phrase):\n",
    "        with urllib.request.urlopen(self.url.format(phrase=phrase.lower())) as response:\n",
    "            translation = json.loads(response.read().decode())\n",
    "        return translation\n",
    "    \n",
    "    @schedule\n",
    "    def word(self, phrase):\n",
    "        translation = {'tuc': [{'phrase': {'text': phrase.lower()[::-1]}}]}\n",
    "        #translation = self.query_phrase(phrase)\n",
    "        \n",
    "        if len(translation['tuc']) > 0 and 'phrase' in translation['tuc'][0]:\n",
    "            result = translation['tuc'][0]['phrase']['text']\n",
    "            if phrase[0].isupper():\n",
    "                return result.title()\n",
    "            else:\n",
    "                return result            \n",
    "        else:\n",
    "            return \"<\" + phrase + \">\"\n",
    "        \n",
    "    def sentence(self, phrase):\n",
    "        words = re.sub(\"[^\\w]\", \" \", phrase).split()\n",
    "        space = re.sub(\"[\\w]+\", \"{}\", phrase)\n",
    "        return format_string(space, *map(self.word, words))\n",
    "    \n",
    "    def __str__(self):\n",
    "        return \"[{} -> {}]\".format(self.src, self.tgt)\n",
    "    \n",
    "    def __serialize__(self, pack):\n",
    "        return pack({'src_lang': self.src,\n",
    "                     'tgt_lang': self.tgt})\n",
    "\n",
    "    @classmethod\n",
    "    def __construct__(cls, msg):\n",
    "        return cls(**msg)"
   ]
  },
  {
   "cell_type": "markdown",
   "metadata": {},
   "source": [
    "Let's take stock of the mutations to the original. We've added a `@schedule` decorator to `word`, and changed a function call in `sentence`. Also we added the `__str__` method; this is only needed to plot the workflow graph. Let's run the new script."
   ]
  },
  {
   "cell_type": "code",
   "execution_count": 14,
   "metadata": {
    "collapsed": false
   },
   "outputs": [
    {
     "name": "stdout",
     "output_type": "stream",
     "text": [
      "Shakespeare en Esperanto:\n",
      "      Fi cisum eb eht doof fo evol, yalp no,\n",
      "      Evig em ssecxe fo ti; taht gnitiefrus,\n",
      "      Eht etiteppa yam nekcis, dna os eid.\n",
      "\n"
     ]
    }
   ],
   "source": [
    "from noodles import gather\n",
    "\n",
    "shakespeare_en_esperanto = \\\n",
    "    map(Translate('en', 'eo').sentence, shakespeare)\n",
    "\n",
    "wf = gather(*shakespeare_en_esperanto)\n",
    "draw_workflow('poetry.png', wf._workflow)\n",
    "result = run_parallel(wf, n_threads=8)\n",
    "print_poem(\"Shakespeare en Esperanto:\", result)"
   ]
  },
  {
   "cell_type": "markdown",
   "metadata": {},
   "source": [
    "The last peculiar thing that you may notice, is the `gather` function. It collects the promises that `map` generates and creates a single new promise. The definition of `gather` is very simple:\n",
    "    \n",
    "    @schedule\n",
    "    def gather(*lst):\n",
    "        return lst\n",
    "\n",
    "The workflow graph of the Esperanto translator script looks like this:"
   ]
  },
  {
   "cell_type": "markdown",
   "metadata": {},
   "source": [
    "![callgraph](poetry.png)"
   ]
  },
  {
   "cell_type": "markdown",
   "metadata": {},
   "source": [
    "## Dealing with repetition\n",
    "In the following example we have a line with some repetition. It would be a shame to look up the repeated words twice, wouldn't it? Let's build a little counter routine to check if everything is working."
   ]
  },
  {
   "cell_type": "code",
   "execution_count": 15,
   "metadata": {
    "collapsed": false
   },
   "outputs": [
    {
     "data": {
      "text/plain": [
       "'Niem Ttog, niem Ttog, muraw tsah Ud hcim nessalrev?'"
      ]
     },
     "execution_count": 15,
     "metadata": {},
     "output_type": "execute_result"
    }
   ],
   "source": [
    "line = \"Mein Gott, mein Gott, warum hast Du mich verlassen?\"\n",
    "run_parallel(Translate('de', 'fr').sentence(line), n_threads=4)"
   ]
  },
  {
   "cell_type": "markdown",
   "metadata": {
    "collapsed": true
   },
   "source": [
    "To see how this program is being run, we monitor the job submission, retrieval and result storage in a `JobKeeper` instance."
   ]
  },
  {
   "cell_type": "code",
   "execution_count": 18,
   "metadata": {
    "collapsed": false
   },
   "outputs": [
    {
     "data": {
      "text/plain": [
       "'Niem Ttog, niem Ttog, muraw tsah Ud hcim nessalrev?'"
      ]
     },
     "execution_count": 18,
     "metadata": {},
     "output_type": "execute_result"
    }
   ],
   "source": [
    "from noodles.run.job_keeper import JobKeeper\n",
    "from noodles.run.run_with_prov import run_parallel\n",
    "from noodles import serial\n",
    "\n",
    "J = JobKeeper(keep=True)\n",
    "wf = Translate('de', 'fr').sentence(line)\n",
    "run_parallel(wf,\n",
    "             n_threads=4, registry=serial.base,\n",
    "             jobdb_file='matthew.json', job_keeper=J)"
   ]
  },
  {
   "cell_type": "code",
   "execution_count": 19,
   "metadata": {
    "collapsed": false
   },
   "outputs": [
    {
     "name": "stdout",
     "output_type": "stream",
     "text": [
      "2016-06-20T16:39:47Z: [register]       - None\n",
      "2016-06-20T16:39:47Z: [retrieved]      - nessalrev\n",
      "-------------------------------------\n",
      "2016-06-20T16:39:47Z: [register]       - None\n",
      "2016-06-20T16:39:47Z: [retrieved]      - Ttog\n",
      "-------------------------------------\n",
      "2016-06-20T16:39:47Z: [register]       - None\n",
      "2016-06-20T16:39:47Z: [retrieved]      - niem\n",
      "-------------------------------------\n",
      "2016-06-20T16:39:47Z: [register]       - None\n",
      "2016-06-20T16:39:47Z: [retrieved]      - Niem\n",
      "-------------------------------------\n",
      "2016-06-20T16:39:47Z: [register]       - None\n",
      "2016-06-20T16:39:47Z: [retrieved]      - Ttog\n",
      "-------------------------------------\n",
      "2016-06-20T16:39:47Z: [register]       - None\n",
      "2016-06-20T16:39:47Z: [retrieved]      - tsah\n",
      "-------------------------------------\n",
      "2016-06-20T16:39:47Z: [register]       - None\n",
      "2016-06-20T16:39:47Z: [retrieved]      - Niem Ttog, niem Ttog, muraw tsah Ud hcim nessalrev?\n",
      "-------------------------------------\n",
      "2016-06-20T16:39:47Z: [register]       - None\n",
      "2016-06-20T16:39:47Z: [retrieved]      - hcim\n",
      "-------------------------------------\n",
      "2016-06-20T16:39:47Z: [register]       - None\n",
      "2016-06-20T16:39:47Z: [retrieved]      - Ud\n",
      "-------------------------------------\n",
      "2016-06-20T16:39:47Z: [register]       - None\n",
      "2016-06-20T16:39:47Z: [retrieved]      - muraw\n",
      "-------------------------------------\n"
     ]
    }
   ],
   "source": [
    "from itertools import starmap\n",
    "import time\n",
    "\n",
    "def format_log_entry(tm, what, data, msg):\n",
    "    return \"{}: {:16} - {}\".format(\n",
    "        time.strftime('%Y-%m-%dT%H:%M:%SZ', time.gmtime(tm)),\n",
    "        '[' + what + ']',\n",
    "        data)\n",
    "\n",
    "for k,j in J.items():\n",
    "    print('\\n'.join(starmap(format_log_entry, j.log)))\n",
    "    print(\"-------------------------------------\")"
   ]
  },
  {
   "cell_type": "markdown",
   "metadata": {},
   "source": [
    "Try running the above cells again, and see what happens!"
   ]
  },
  {
   "cell_type": "markdown",
   "metadata": {
    "collapsed": true
   },
   "source": [
    "## Objects in Noodles"
   ]
  },
  {
   "cell_type": "markdown",
   "metadata": {},
   "source": [
    "We've already seen that we can `@schedule` class methods, just as easy as functions. What if a promised objects represents an object? Noodles actually catches references and assignments to perceived members of promised objects and translates them into function calls. We will have another example (this time a bit smaller) to show how this works. We will compute result to Pythagoras theorem by using setters and getters. Python has a beautiful way of capturing reference and assignment to member variables by means of the `@property` decorator. This concept alows Noodles to catch these in a most generic way."
   ]
  },
  {
   "cell_type": "code",
   "execution_count": 20,
   "metadata": {
    "collapsed": true
   },
   "outputs": [],
   "source": [
    "from noodles import schedule\n",
    "\n",
    "@schedule\n",
    "class A:\n",
    "    def __init__(self, value):\n",
    "        self.value = value\n",
    "\n",
    "    @property\n",
    "    def square(self):\n",
    "        return self.value**2\n",
    "\n",
    "    @square.setter\n",
    "    def square(self, sqr):\n",
    "        self.value = sqr**(1/2)\n",
    "        \n",
    "    def __str__(self):\n",
    "        return \"[A {}]\".format(self.value)"
   ]
  },
  {
   "cell_type": "markdown",
   "metadata": {},
   "source": [
    "We can now treat this object as normal in the user script, and do the following"
   ]
  },
  {
   "cell_type": "code",
   "execution_count": 21,
   "metadata": {
    "collapsed": false
   },
   "outputs": [],
   "source": [
    "from noodles import run_single\n",
    "from noodles.tutorial import add\n",
    "from draw_workflow import draw_workflow\n",
    "\n",
    "u = A(3.0)\n",
    "v = A(4.0)\n",
    "u.square = add(u.square, v.square)\n",
    "w = u.value\n",
    "\n",
    "run_single(w)\n",
    "draw_workflow('pythagoras.png', w._workflow)"
   ]
  },
  {
   "cell_type": "markdown",
   "metadata": {},
   "source": [
    "![pythagoras](pythagoras.png)"
   ]
  },
  {
   "cell_type": "markdown",
   "metadata": {
    "collapsed": true
   },
   "source": [
    "Note that, to make this work in general parallel situations, the `_setattr` function has to create a deepcopy of the object and then return the modified object; so this style of programming can become quite expensive. A better solution would be to create a layered system, where updates only affect the values that are being updated."
   ]
  },
  {
   "cell_type": "markdown",
   "metadata": {
    "collapsed": true
   },
   "source": [
    "## User messages\n",
    "If jobs take a long time (>1s) to run, it is nice to give the user a message when it starts, when it finishes and if it was a success. Noodles has an adaptor for runners to display messages."
   ]
  },
  {
   "cell_type": "code",
   "execution_count": 22,
   "metadata": {
    "collapsed": false
   },
   "outputs": [],
   "source": [
    "from noodles import (schedule_hint, gather)\n",
    "from noodles.tutorial import (sub, mul, accumulate)\n",
    "from noodles.display import (DumbDisplay)\n",
    "from noodles.run.runners import (run_parallel_with_display)\n",
    "import time\n",
    "\n",
    "\n",
    "@schedule_hint(display=\"|   {a} + {b}\", confirm=True)\n",
    "def add(a, b):\n",
    "    time.sleep(0.5)\n",
    "    return a + b\n",
    "\n",
    "\n",
    "@schedule_hint(display=\"{msg}\")\n",
    "def message(msg, value=0):\n",
    "    return value()\n",
    "\n",
    "\n",
    "def test_logging():\n",
    "    A = add(1, 1)\n",
    "    B = sub(3, A)\n",
    "\n",
    "    multiples = [mul(add(i, B), A) for i in range(6)]\n",
    "    C = accumulate(gather(*multiples))\n",
    "    wf = message(\"\\n+---(Running the test)\", lambda: C)\n",
    "\n",
    "    with DumbDisplay() as display:\n",
    "        result = run_parallel_with_display(wf, n_threads=4, display=display)\n",
    "    print(\"\\nThe answer is \", result)"
   ]
  },
  {
   "cell_type": "markdown",
   "metadata": {},
   "source": [
    "We imported some predefined functions from `noodles.tutorial`. A new function that we haven't seen before is `@schedule_hint`. It does the same as `@schedule`, but now it also attaches some information to the function. This can be anything. Here we add a `display` string. This string is formatted using the arguments to the function that is being called. "
   ]
  },
  {
   "cell_type": "code",
   "execution_count": 23,
   "metadata": {
    "collapsed": false
   },
   "outputs": [
    {
     "name": "stdout",
     "output_type": "stream",
     "text": [
      "\n",
      "+---(Running the test)\n",
      "|   1 + 1\n",
      "|   5 + 1\n",
      "|   1 + 1\n",
      "|   4 + 1\n",
      "|   2 + 1\n",
      "|   0 + 1\n",
      "|   3 + 1\n",
      "+---(success)\n",
      "\n",
      "The answer is  42\n"
     ]
    }
   ],
   "source": [
    "import threading\n",
    "threading.Thread(target=test_logging, daemon=True).start()"
   ]
  },
  {
   "cell_type": "markdown",
   "metadata": {},
   "source": [
    "There are other functions than `DumbDisplay` that will work. Currently there is also `NCDisplay` (NC standing for NCurses), which is the one used in the Boil example application. The `NCDisplay` assumes we are in a terminal emulator environment."
   ]
  },
  {
   "cell_type": "markdown",
   "metadata": {},
   "source": [
    "## Iteration & Recursion"
   ]
  },
  {
   "cell_type": "code",
   "execution_count": null,
   "metadata": {
    "collapsed": true
   },
   "outputs": [],
   "source": []
  }
 ],
 "metadata": {
  "kernelspec": {
   "display_name": "Python 3",
   "language": "python",
   "name": "python3"
  },
  "language_info": {
   "codemirror_mode": {
    "name": "ipython",
    "version": 3
   },
   "file_extension": ".py",
   "mimetype": "text/x-python",
   "name": "python",
   "nbconvert_exporter": "python",
   "pygments_lexer": "ipython3",
   "version": "3.5.2rc1"
  }
 },
 "nbformat": 4,
 "nbformat_minor": 0
}

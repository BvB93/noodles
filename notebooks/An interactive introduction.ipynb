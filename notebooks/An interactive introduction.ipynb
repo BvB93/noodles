{
 "cells": [
  {
   "cell_type": "markdown",
   "metadata": {},
   "source": [
    "An interactive introduction to Noodles: translating Poetry\n",
    "==========================================================\n",
    "\n",
    "Noodles is there to make your life easier, *in parallel*! The reason why Noodles can be easy and do parallel Python at the same time is its *functional* approach. In one part you'll define a set of functions that you'd like to run with Noodles, in an other part you'll compose these functions into a *workflow graph*. To make this approach work a function should not have any *side effects*. Let's not linger and just start noodling! First we define some functions to use."
   ]
  },
  {
   "cell_type": "code",
   "execution_count": 1,
   "metadata": {
    "collapsed": true
   },
   "outputs": [],
   "source": [
    "from noodles import schedule\n",
    "\n",
    "@schedule\n",
    "def add(x, y):\n",
    "    return x + y\n",
    "\n",
    "@schedule\n",
    "def mul(x,y):\n",
    "    return x * y"
   ]
  },
  {
   "cell_type": "markdown",
   "metadata": {},
   "source": [
    "Now we can create a workflow composing several calls to this function."
   ]
  },
  {
   "cell_type": "code",
   "execution_count": 2,
   "metadata": {
    "collapsed": true
   },
   "outputs": [],
   "source": [
    "a = add(1, 1)\n",
    "b = mul(a, 2)\n",
    "c = add(a, a)\n",
    "d = mul(b, c)"
   ]
  },
  {
   "cell_type": "markdown",
   "metadata": {},
   "source": [
    "That looks easy enough; the funny thing is though, that nothing has been computed yet! Noodles just created the workflow graphs corresponding to the values that still need to be computed. Until such time, we work with the *promise* of a future value. Using some function in `pygraphviz` we can look at the call graphs."
   ]
  },
  {
   "cell_type": "code",
   "execution_count": 3,
   "metadata": {},
   "outputs": [
    {
     "data": {
      "application/vnd.jupyter.widget-view+json": {
       "model_id": "2d0943b3dfe74d638d315630caf2ef19",
       "version_major": 2,
       "version_minor": 0
      },
      "text/plain": [
       "HBox(children=(VBox(children=(HTML(value='<b>a</b>'), HTML(value='<?xml version=\"1.0\" encoding=\"UTF-8\" standal…"
      ]
     },
     "metadata": {},
     "output_type": "display_data"
    }
   ],
   "source": [
    "from noodles.tutorial import get_workflow_graph\n",
    "import ipywidgets as widgets\n",
    "\n",
    "widgets.HBox([\n",
    "    widgets.VBox([\n",
    "        widgets.HTML('<b>{}</b>'.format(k)),\n",
    "        widgets.HTML(value=get_workflow_graph(w).pipe(format='svg').decode())])\n",
    "    for k, w in {'a': a, 'b': b, 'c': c, 'd': d}.items()])"
   ]
  },
  {
   "cell_type": "markdown",
   "metadata": {},
   "source": [
    "Now, to compute the result we have to tell Noodles to evaluate the program."
   ]
  },
  {
   "cell_type": "code",
   "execution_count": 4,
   "metadata": {},
   "outputs": [
    {
     "data": {
      "text/plain": [
       "16"
      ]
     },
     "execution_count": 4,
     "metadata": {},
     "output_type": "execute_result"
    }
   ],
   "source": [
    "from noodles import run_parallel\n",
    "\n",
    "run_parallel(d, n_threads=2)"
   ]
  },
  {
   "cell_type": "markdown",
   "metadata": {},
   "source": [
    "## Making loops\n",
    "\n",
    "Thats all swell, but how do we make a parallel loop? Let's look at a `map` operation; in Python there are several ways to perform a function on all elements in an array. For this example, we will translate some words using the Glosbe service, which has a nice REST interface. We first build some functionality to use this interface."
   ]
  },
  {
   "cell_type": "code",
   "execution_count": 5,
   "metadata": {
    "collapsed": true
   },
   "outputs": [],
   "source": [
    "import urllib.request\n",
    "import json\n",
    "import re\n",
    "\n",
    "\n",
    "class Translate:\n",
    "    \"\"\"Translate words and sentences in the worst possible way. The Glosbe dictionary\n",
    "    has a nice REST interface that we query for a phrase. We then take the first result.\n",
    "    To translate a sentence, we cut it in pieces, translate it and paste it back into\n",
    "    a Frankenstein monster.\"\"\"\n",
    "    def __init__(self, src_lang='en', tgt_lang='fy'):\n",
    "        self.src = src_lang\n",
    "        self.tgt = tgt_lang\n",
    "        self.url = 'https://glosbe.com/gapi/translate?' \\\n",
    "                   'from={src}&dest={tgt}&' \\\n",
    "                   'phrase={{phrase}}&format=json'.format(\n",
    "                        src=src_lang, tgt=tgt_lang)\n",
    "    \n",
    "    def query_phrase(self, phrase):\n",
    "        with urllib.request.urlopen(self.url.format(phrase=phrase.lower())) as response:\n",
    "            translation = json.loads(response.read().decode())\n",
    "        return translation\n",
    "\n",
    "    def word(self, phrase):\n",
    "        # translation = self.query_phrase(phrase)\n",
    "        translation = {'tuc': [{'phrase': {'text': phrase.lower()[::-1]}}]}\n",
    "        if len(translation['tuc']) > 0 and 'phrase' in translation['tuc'][0]:\n",
    "            result = translation['tuc'][0]['phrase']['text']\n",
    "            if phrase[0].isupper():\n",
    "                return result.title()\n",
    "            else:\n",
    "                return result            \n",
    "        else:\n",
    "            return \"<\" + phrase + \">\"\n",
    "    \n",
    "    def sentence(self, phrase):\n",
    "        words = re.sub(\"[^\\w]\", \" \", phrase).split()\n",
    "        space = re.sub(\"[\\w]+\", \"{}\", phrase)\n",
    "        return space.format(*map(self.word, words))"
   ]
  },
  {
   "cell_type": "markdown",
   "metadata": {},
   "source": [
    "We start with a list of strings that desparately need translation."
   ]
  },
  {
   "cell_type": "code",
   "execution_count": 6,
   "metadata": {},
   "outputs": [
    {
     "name": "stdout",
     "output_type": "stream",
     "text": [
      "Original:\n",
      "      If music be the food of love, play on,\n",
      "      Give me excess of it; that surfeiting,\n",
      "      The appetite may sicken, and so die.\n",
      "\n"
     ]
    }
   ],
   "source": [
    "shakespeare = [\n",
    "    \"If music be the food of love, play on,\",\n",
    "    \"Give me excess of it; that surfeiting,\",\n",
    "    \"The appetite may sicken, and so die.\"]\n",
    "\n",
    "def print_poem(intro, poem):\n",
    "    print(intro)\n",
    "    for line in poem:\n",
    "        print(\"     \", line)\n",
    "    print()\n",
    "\n",
    "print_poem(\"Original:\", shakespeare)"
   ]
  },
  {
   "cell_type": "markdown",
   "metadata": {},
   "source": [
    "Beginning Python programmers like to append things; this is not how you are\n",
    "supposed to program in Python; if you do, please go and read Jeff Knupp's *Writing Idiomatic Python*."
   ]
  },
  {
   "cell_type": "code",
   "execution_count": 7,
   "metadata": {},
   "outputs": [
    {
     "name": "stdout",
     "output_type": "stream",
     "text": [
      "Auf Deutsch:\n",
      "      Fi cisum eb eht doof fo evol, yalp no,\n",
      "      Evig em ssecxe fo ti; taht gnitiefrus,\n",
      "      Eht etiteppa yam nekcis, dna os eid.\n",
      "\n"
     ]
    }
   ],
   "source": [
    "shakespeare_auf_deutsch = []\n",
    "for line in shakespeare:\n",
    "    shakespeare_auf_deutsch.append(\n",
    "        Translate('en', 'de').sentence(line))\n",
    "print_poem(\"Auf Deutsch:\", shakespeare_auf_deutsch)"
   ]
  },
  {
   "cell_type": "markdown",
   "metadata": {},
   "source": [
    "Rather use a comprehension like so:"
   ]
  },
  {
   "cell_type": "code",
   "execution_count": 8,
   "metadata": {},
   "outputs": [
    {
     "name": "stdout",
     "output_type": "stream",
     "text": [
      "Yn it Frysk:\n",
      "      Fi cisum eb eht doof fo evol, yalp no,\n",
      "      Evig em ssecxe fo ti; taht gnitiefrus,\n",
      "      Eht etiteppa yam nekcis, dna os eid.\n",
      "\n"
     ]
    }
   ],
   "source": [
    "shakespeare_ynt_frysk = \\\n",
    "    (Translate('en', 'fy').sentence(line) for line in shakespeare)\n",
    "print_poem(\"Yn it Frysk:\", shakespeare_ynt_frysk)"
   ]
  },
  {
   "cell_type": "markdown",
   "metadata": {},
   "source": [
    "Or use `map`:"
   ]
  },
  {
   "cell_type": "code",
   "execution_count": 9,
   "metadata": {},
   "outputs": [
    {
     "name": "stdout",
     "output_type": "stream",
     "text": [
      "På Dansk:\n",
      "      Fi cisum eb eht doof fo evol, yalp no,\n",
      "      Evig em ssecxe fo ti; taht gnitiefrus,\n",
      "      Eht etiteppa yam nekcis, dna os eid.\n",
      "\n"
     ]
    }
   ],
   "source": [
    "shakespeare_pa_dansk = \\\n",
    "    map(Translate('en', 'da').sentence, shakespeare)\n",
    "print_poem(\"På Dansk:\", shakespeare_pa_dansk)"
   ]
  },
  {
   "cell_type": "markdown",
   "metadata": {},
   "source": [
    "## Noodlify!\n",
    "If your connection is a bit slow, you may find that the translations take a while to process. Wouldn't it be nice to do it in parallel? How much code would we have to change to get there in Noodles? Let's take the slow part of the program and add a `@schedule` decorator, and run! Sadly, it is not that simple. We can add `@schedule` to the `word` method. This means that it will return a promise. \n",
    "\n",
    "* Rule: *Functions that take promises need to be scheduled functions, or refer to a scheduled function at some level.* \n",
    "\n",
    "We could write\n",
    "\n",
    "    return schedule(space.format)(*(self.word(w) for w in words))\n",
    "    \n",
    "in the last line of the `sentence` method, but the string format method doesn't support wrapping. We rely on getting the signature of a function by calling `inspect.signature`. In some cases of build-in function this raises an exception. We may find a work around for these cases in future versions of Noodles. For the moment we'll have to define a little wrapper function."
   ]
  },
  {
   "cell_type": "code",
   "execution_count": 10,
   "metadata": {
    "collapsed": true
   },
   "outputs": [],
   "source": [
    "from noodles import schedule\n",
    "\n",
    "\n",
    "@schedule\n",
    "def format_string(s, *args, **kwargs):\n",
    "    return s.format(*args, **kwargs)\n",
    "\n",
    "\n",
    "import urllib.request\n",
    "import json\n",
    "import re\n",
    "\n",
    "\n",
    "class Translate:\n",
    "    \"\"\"Translate words and sentences in the worst possible way. The Glosbe dictionary\n",
    "    has a nice REST interface that we query for a phrase. We then take the first result.\n",
    "    To translate a sentence, we cut it in pieces, translate it and paste it back into\n",
    "    a Frankenstein monster.\"\"\"\n",
    "    def __init__(self, src_lang='en', tgt_lang='fy'):\n",
    "        self.src = src_lang\n",
    "        self.tgt = tgt_lang\n",
    "        self.url = 'https://glosbe.com/gapi/translate?' \\\n",
    "                   'from={src}&dest={tgt}&' \\\n",
    "                   'phrase={{phrase}}&format=json'.format(\n",
    "                        src=src_lang, tgt=tgt_lang)\n",
    "    \n",
    "    def query_phrase(self, phrase):\n",
    "        with urllib.request.urlopen(self.url.format(phrase=phrase.lower())) as response:\n",
    "            translation = json.loads(response.read().decode())\n",
    "        return translation\n",
    "    \n",
    "    @schedule\n",
    "    def word(self, phrase):\n",
    "        translation = {'tuc': [{'phrase': {'text': phrase.lower()[::-1]}}]}\n",
    "        # translation = self.query_phrase(phrase)\n",
    "        \n",
    "        if len(translation['tuc']) > 0 and 'phrase' in translation['tuc'][0]:\n",
    "            result = translation['tuc'][0]['phrase']['text']\n",
    "            if phrase[0].isupper():\n",
    "                return result.title()\n",
    "            else:\n",
    "                return result            \n",
    "        else:\n",
    "            return \"<\" + phrase + \">\"\n",
    "        \n",
    "    def sentence(self, phrase):\n",
    "        words = re.sub(\"[^\\w]\", \" \", phrase).split()\n",
    "        space = re.sub(\"[\\w]+\", \"{}\", phrase)\n",
    "        return format_string(space, *map(self.word, words))\n",
    "    \n",
    "    def __str__(self):\n",
    "        return \"[{} -> {}]\".format(self.src, self.tgt)\n",
    "    \n",
    "    def __serialize__(self, pack):\n",
    "        return pack({'src_lang': self.src,\n",
    "                     'tgt_lang': self.tgt})\n",
    "\n",
    "    @classmethod\n",
    "    def __construct__(cls, msg):\n",
    "        return cls(**msg)"
   ]
  },
  {
   "cell_type": "markdown",
   "metadata": {},
   "source": [
    "Let's take stock of the mutations to the original. We've added a `@schedule` decorator to `word`, and changed a function call in `sentence`. Also we added the `__str__` method; this is only needed to plot the workflow graph. Let's run the new script."
   ]
  },
  {
   "cell_type": "code",
   "execution_count": 11,
   "metadata": {
    "collapsed": true
   },
   "outputs": [],
   "source": [
    "from noodles import gather, run_parallel\n",
    "\n",
    "shakespeare_en_esperanto = \\\n",
    "    map(Translate('en', 'eo').sentence, shakespeare)\n",
    "\n",
    "wf = gather(*shakespeare_en_esperanto)"
   ]
  },
  {
   "cell_type": "code",
   "execution_count": 12,
   "metadata": {},
   "outputs": [
    {
     "name": "stdout",
     "output_type": "stream",
     "text": [
      "Shakespeare en Esperanto:\n",
      "      Fi cisum eb eht doof fo evol, yalp no,\n",
      "      Evig em ssecxe fo ti; taht gnitiefrus,\n",
      "      Eht etiteppa yam nekcis, dna os eid.\n",
      "\n"
     ]
    }
   ],
   "source": [
    "result = run_parallel(wf, n_threads=8)\n",
    "print_poem(\"Shakespeare en Esperanto:\", result)"
   ]
  },
  {
   "cell_type": "markdown",
   "metadata": {},
   "source": [
    "The last peculiar thing that you may notice, is the `gather` function. It collects the promises that `map` generates and creates a single new promise. The definition of `gather` is very simple:\n",
    "    \n",
    "    @schedule\n",
    "    def gather(*lst):\n",
    "        return lst\n",
    "\n",
    "The workflow graph of the Esperanto translator script looks like this:"
   ]
  },
  {
   "cell_type": "code",
   "execution_count": 13,
   "metadata": {},
   "outputs": [
    {
     "data": {
      "application/vnd.jupyter.widget-view+json": {
       "model_id": "22e01a557fe6495e82b2e6978bebf214",
       "version_major": 2,
       "version_minor": 0
      },
      "text/plain": [
       "HTML(value='<?xml version=\"1.0\" encoding=\"UTF-8\" standalone=\"no\"?>\\n<!DOCTYPE svg PUBLIC \"-//W3C//DTD SVG 1.1/…"
      ]
     },
     "metadata": {},
     "output_type": "display_data"
    }
   ],
   "source": [
    "# if you know a way to shrink this image down, please send me a pull request\n",
    "widgets.HTML(get_workflow_graph(wf).pipe(format='svg').decode())"
   ]
  },
  {
   "cell_type": "markdown",
   "metadata": {},
   "source": [
    "## Dealing with repetition\n",
    "In the following example we have a line with some repetition. It would be a shame to look up the repeated words twice, wouldn't it? Let's build a little counter routine to check if everything is working."
   ]
  },
  {
   "cell_type": "code",
   "execution_count": 14,
   "metadata": {},
   "outputs": [],
   "source": [
    "from noodles import (schedule, gather_all)\n",
    "import re\n",
    "\n",
    "@schedule\n",
    "def count_word_size(word):\n",
    "    return len(word)\n",
    "\n",
    "@schedule\n",
    "def format_string(s, *args, **kwargs):\n",
    "    return s.format(*args, **kwargs)\n",
    "\n",
    "def word_sizes(phrase):\n",
    "    words = re.sub(\"[^\\w]\", \" \", phrase).split()\n",
    "    space = re.sub(\"[\\w]+\", \"{}\", phrase)\n",
    "    word_lengths = map(count_word_size, words)\n",
    "    return format_string(space, *word_lengths)"
   ]
  },
  {
   "cell_type": "code",
   "execution_count": 15,
   "metadata": {},
   "outputs": [
    {
     "data": {
      "text/plain": [
       "'4 4 4, 3'"
      ]
     },
     "execution_count": 15,
     "metadata": {},
     "output_type": "execute_result"
    }
   ],
   "source": [
    "from noodles.run.threading.vanilla import run_parallel\n",
    "\n",
    "line = \"Oote oote oote, Boe\"\n",
    "run_parallel(word_sizes(line), n_threads=4)"
   ]
  },
  {
   "cell_type": "markdown",
   "metadata": {},
   "source": [
    "To see how this program is being run, we monitor the job submission, retrieval and result storage in a Sqlite3 database."
   ]
  },
  {
   "cell_type": "code",
   "execution_count": 16,
   "metadata": {},
   "outputs": [],
   "source": [
    "# import logging\n",
    "# logging.FileHandler(filename='mylog.log', mode='a')"
   ]
  },
  {
   "cell_type": "code",
   "execution_count": 17,
   "metadata": {},
   "outputs": [
    {
     "name": "stderr",
     "output_type": "stream",
     "text": [
      "INFO:noodles.worker:job            21: word([de -> fr], 'Oote')\n",
      "INFO:noodles.worker:job            22: word([de -> fr], 'oote')\n",
      "INFO:noodles.worker:job            23: word([de -> fr], 'oote')\n",
      "INFO:noodles.worker:job            24: word([de -> fr], 'Boe')\n",
      "INFO:noodles.worker:result         21 [word([de -> fr], 'Oote')]: done -> 'Etoo'\n",
      "INFO:noodles.worker:result         22 [word([de -> fr], 'oote')]: done -> 'etoo'\n",
      "INFO:noodles.worker:result         23 [word([de -> fr], 'oote')]: done -> 'etoo'\n",
      "INFO:noodles.worker:result         24 [word([de -> fr], 'Boe')]: done -> 'Eob'\n",
      "INFO:noodles.worker:job            25: format_string('{} {} {}, {}', 'Etoo', 'etoo', 'etoo', 'Eob')\n",
      "INFO:noodles.worker:result         25 [format_string('{} {} {}, {}', 'Etoo', 'etoo', 'etoo', 'Eob')]: done -> 'Etoo etoo etoo, Eob'\n",
      "INFO:noodles.worker:-end-of-queue-\n"
     ]
    },
    {
     "data": {
      "text/plain": [
       "'Etoo etoo etoo, Eob'"
      ]
     },
     "execution_count": 17,
     "metadata": {},
     "output_type": "execute_result"
    }
   ],
   "source": [
    "from noodles.run.threading.sqlite3 import run_parallel\n",
    "from noodles import serial\n",
    "\n",
    "wf = Translate('de', 'fr').sentence(line)\n",
    "run_parallel(wf, n_threads=4, registry=serial.base, db_file='jobs.db')"
   ]
  },
  {
   "cell_type": "markdown",
   "metadata": {},
   "source": [
    "Try running the above cells again, and see what happens!"
   ]
  },
  {
   "cell_type": "markdown",
   "metadata": {},
   "source": [
    "## Objects in Noodles"
   ]
  },
  {
   "cell_type": "markdown",
   "metadata": {},
   "source": [
    "We've already seen that we can `@schedule` class methods, just as easy as functions. What if a promised objects represents an object? Noodles actually catches references and assignments to perceived members of promised objects and translates them into function calls. We will have another example (this time a bit smaller) to show how this works. We will compute result to Pythagoras theorem by using setters and getters. Python has a beautiful way of capturing reference and assignment to member variables by means of the `@property` decorator. This concept alows Noodles to catch these in a most generic way."
   ]
  },
  {
   "cell_type": "code",
   "execution_count": 18,
   "metadata": {
    "collapsed": true
   },
   "outputs": [],
   "source": [
    "from noodles import schedule\n",
    "\n",
    "@schedule\n",
    "class A:\n",
    "    def __init__(self, value):\n",
    "        self.value = value\n",
    "\n",
    "    @property\n",
    "    def square(self):\n",
    "        return self.value**2\n",
    "\n",
    "    @square.setter\n",
    "    def square(self, sqr):\n",
    "        self.value = sqr**(1/2)\n",
    "        \n",
    "    def __str__(self):\n",
    "        return \"[A {}]\".format(self.value)"
   ]
  },
  {
   "cell_type": "markdown",
   "metadata": {},
   "source": [
    "We can now treat this object as normal in the user script, and do the following"
   ]
  },
  {
   "cell_type": "code",
   "execution_count": 19,
   "metadata": {},
   "outputs": [
    {
     "data": {
      "image/svg+xml": [
       "<?xml version=\"1.0\" encoding=\"UTF-8\" standalone=\"no\"?>\n",
       "<!DOCTYPE svg PUBLIC \"-//W3C//DTD SVG 1.1//EN\"\n",
       " \"http://www.w3.org/Graphics/SVG/1.1/DTD/svg11.dtd\">\n",
       "<!-- Generated by graphviz version 2.40.1 (0)\n",
       " -->\n",
       "<!-- Title: %3 Pages: 1 -->\n",
       "<svg width=\"579pt\" height=\"481pt\"\n",
       " viewBox=\"0.00 0.00 579.35 480.70\" xmlns=\"http://www.w3.org/2000/svg\" xmlns:xlink=\"http://www.w3.org/1999/xlink\">\n",
       "<g id=\"graph0\" class=\"graph\" transform=\"scale(1 1) rotate(0) translate(4 476.7006)\">\n",
       "<title>%3</title>\n",
       "<polygon fill=\"#ffffff\" stroke=\"transparent\" points=\"-4,4 -4,-476.7006 575.3452,-476.7006 575.3452,4 -4,4\"/>\n",
       "<!-- 139835345476688 -->\n",
       "<g id=\"node1\" class=\"node\">\n",
       "<title>139835345476688</title>\n",
       "<ellipse fill=\"none\" stroke=\"#000000\" cx=\"130.8148\" cy=\"-26.8701\" rx=\"94.5053\" ry=\"26.7407\"/>\n",
       "<text text-anchor=\"middle\" x=\"130.8148\" y=\"-30.6701\" font-family=\"Times,serif\" font-size=\"14.00\" fill=\"#000000\">_getattr </text>\n",
       "<text text-anchor=\"middle\" x=\"130.8148\" y=\"-15.6701\" font-family=\"Times,serif\" font-size=\"14.00\" fill=\"#000000\"> ([A 5.0], &#39;value&#39;)</text>\n",
       "</g>\n",
       "<!-- 139835345476464 -->\n",
       "<g id=\"node2\" class=\"node\">\n",
       "<title>139835345476464</title>\n",
       "<ellipse fill=\"none\" stroke=\"#000000\" cx=\"130.8148\" cy=\"-131.6102\" rx=\"130.6298\" ry=\"26.7407\"/>\n",
       "<text text-anchor=\"middle\" x=\"130.8148\" y=\"-135.4102\" font-family=\"Times,serif\" font-size=\"14.00\" fill=\"#000000\">_setattr </text>\n",
       "<text text-anchor=\"middle\" x=\"130.8148\" y=\"-120.4102\" font-family=\"Times,serif\" font-size=\"14.00\" fill=\"#000000\"> ([A 3.0], &#39;square&#39;, 25.0)</text>\n",
       "</g>\n",
       "<!-- 139835345476464&#45;&gt;139835345476688 -->\n",
       "<g id=\"edge1\" class=\"edge\">\n",
       "<title>139835345476464&#45;&gt;139835345476688</title>\n",
       "<path fill=\"none\" stroke=\"#000000\" d=\"M130.8148,-104.637C130.8148,-92.2976 130.8148,-77.4761 130.8148,-64.0972\"/>\n",
       "<polygon fill=\"#000000\" stroke=\"#000000\" points=\"134.3149,-63.7518 130.8148,-53.7518 127.3149,-63.7519 134.3149,-63.7518\"/>\n",
       "<text text-anchor=\"middle\" x=\"141.8148\" y=\"-75.5401\" font-family=\"Times,serif\" font-size=\"14.00\" fill=\"#000000\">obj</text>\n",
       "</g>\n",
       "<!-- 139835344457568 -->\n",
       "<g id=\"node3\" class=\"node\">\n",
       "<title>139835344457568</title>\n",
       "<ellipse fill=\"none\" stroke=\"#000000\" cx=\"155.8148\" cy=\"-445.8305\" rx=\"38.3684\" ry=\"26.7407\"/>\n",
       "<text text-anchor=\"middle\" x=\"155.8148\" y=\"-449.6305\" font-family=\"Times,serif\" font-size=\"14.00\" fill=\"#000000\">A </text>\n",
       "<text text-anchor=\"middle\" x=\"155.8148\" y=\"-434.6305\" font-family=\"Times,serif\" font-size=\"14.00\" fill=\"#000000\"> (3.0)</text>\n",
       "</g>\n",
       "<!-- 139835344457568&#45;&gt;139835345476464 -->\n",
       "<g id=\"edge3\" class=\"edge\">\n",
       "<title>139835344457568&#45;&gt;139835345476464</title>\n",
       "<path fill=\"none\" stroke=\"#000000\" d=\"M146.5223,-419.535C141.7244,-404.6157 136.3552,-385.4781 133.8148,-367.9605 123.7064,-298.2586 125.8035,-215.7828 128.2838,-168.9908\"/>\n",
       "<polygon fill=\"#000000\" stroke=\"#000000\" points=\"131.7938,-168.9105 128.8647,-158.7287 124.805,-168.5148 131.7938,-168.9105\"/>\n",
       "<text text-anchor=\"middle\" x=\"138.8148\" y=\"-285.0203\" font-family=\"Times,serif\" font-size=\"14.00\" fill=\"#000000\">obj</text>\n",
       "</g>\n",
       "<!-- 139835345476016 -->\n",
       "<g id=\"node5\" class=\"node\">\n",
       "<title>139835345476016</title>\n",
       "<ellipse fill=\"none\" stroke=\"#000000\" cx=\"245.8148\" cy=\"-341.0904\" rx=\"102.561\" ry=\"26.7407\"/>\n",
       "<text text-anchor=\"middle\" x=\"245.8148\" y=\"-344.8904\" font-family=\"Times,serif\" font-size=\"14.00\" fill=\"#000000\">_getattr </text>\n",
       "<text text-anchor=\"middle\" x=\"245.8148\" y=\"-329.8904\" font-family=\"Times,serif\" font-size=\"14.00\" fill=\"#000000\"> ([A 3.0], &#39;square&#39;)</text>\n",
       "</g>\n",
       "<!-- 139835344457568&#45;&gt;139835345476016 -->\n",
       "<g id=\"edge2\" class=\"edge\">\n",
       "<title>139835344457568&#45;&gt;139835345476016</title>\n",
       "<path fill=\"none\" stroke=\"#000000\" d=\"M175.7887,-422.5853C187.6955,-408.7283 203.03,-390.8825 216.3124,-375.4246\"/>\n",
       "<polygon fill=\"#000000\" stroke=\"#000000\" points=\"219.1795,-377.4583 223.0422,-367.5927 213.8703,-372.8962 219.1795,-377.4583\"/>\n",
       "<text text-anchor=\"middle\" x=\"217.8148\" y=\"-389.7605\" font-family=\"Times,serif\" font-size=\"14.00\" fill=\"#000000\">obj</text>\n",
       "</g>\n",
       "<!-- 139835344713432 -->\n",
       "<g id=\"node4\" class=\"node\">\n",
       "<title>139835344713432</title>\n",
       "<ellipse fill=\"none\" stroke=\"#000000\" cx=\"245.8148\" cy=\"-236.3503\" rx=\"67.3507\" ry=\"26.7407\"/>\n",
       "<text text-anchor=\"middle\" x=\"245.8148\" y=\"-240.1503\" font-family=\"Times,serif\" font-size=\"14.00\" fill=\"#000000\">add </text>\n",
       "<text text-anchor=\"middle\" x=\"245.8148\" y=\"-225.1503\" font-family=\"Times,serif\" font-size=\"14.00\" fill=\"#000000\"> (9.0, 16.0)</text>\n",
       "</g>\n",
       "<!-- 139835344713432&#45;&gt;139835345476464 -->\n",
       "<g id=\"edge4\" class=\"edge\">\n",
       "<title>139835344713432&#45;&gt;139835345476464</title>\n",
       "<path fill=\"none\" stroke=\"#000000\" d=\"M218.5614,-211.5283C203.2401,-197.574 183.9136,-179.9718 167.3007,-164.841\"/>\n",
       "<polygon fill=\"#000000\" stroke=\"#000000\" points=\"169.6328,-162.2309 159.8829,-158.0849 164.9193,-167.4062 169.6328,-162.2309\"/>\n",
       "<text text-anchor=\"middle\" x=\"215.3148\" y=\"-180.2802\" font-family=\"Times,serif\" font-size=\"14.00\" fill=\"#000000\">value</text>\n",
       "</g>\n",
       "<!-- 139835345476016&#45;&gt;139835344713432 -->\n",
       "<g id=\"edge5\" class=\"edge\">\n",
       "<title>139835345476016&#45;&gt;139835344713432</title>\n",
       "<path fill=\"none\" stroke=\"#000000\" d=\"M245.8148,-314.1172C245.8148,-301.7778 245.8148,-286.9563 245.8148,-273.5774\"/>\n",
       "<polygon fill=\"#000000\" stroke=\"#000000\" points=\"249.3149,-273.232 245.8148,-263.2321 242.3149,-273.2321 249.3149,-273.232\"/>\n",
       "<text text-anchor=\"middle\" x=\"250.3148\" y=\"-285.0203\" font-family=\"Times,serif\" font-size=\"14.00\" fill=\"#000000\">x</text>\n",
       "</g>\n",
       "<!-- 139835344713264 -->\n",
       "<g id=\"node6\" class=\"node\">\n",
       "<title>139835344713264</title>\n",
       "<ellipse fill=\"none\" stroke=\"#000000\" cx=\"468.8148\" cy=\"-341.0904\" rx=\"102.561\" ry=\"26.7407\"/>\n",
       "<text text-anchor=\"middle\" x=\"468.8148\" y=\"-344.8904\" font-family=\"Times,serif\" font-size=\"14.00\" fill=\"#000000\">_getattr </text>\n",
       "<text text-anchor=\"middle\" x=\"468.8148\" y=\"-329.8904\" font-family=\"Times,serif\" font-size=\"14.00\" fill=\"#000000\"> ([A 4.0], &#39;square&#39;)</text>\n",
       "</g>\n",
       "<!-- 139835344713264&#45;&gt;139835344713432 -->\n",
       "<g id=\"edge6\" class=\"edge\">\n",
       "<title>139835344713264&#45;&gt;139835344713432</title>\n",
       "<path fill=\"none\" stroke=\"#000000\" d=\"M418.7692,-317.5847C383.1695,-300.864 335.4151,-278.4344 299.1054,-261.3802\"/>\n",
       "<polygon fill=\"#000000\" stroke=\"#000000\" points=\"300.2017,-258.0283 289.6624,-256.9449 297.2258,-264.3642 300.2017,-258.0283\"/>\n",
       "<text text-anchor=\"middle\" x=\"375.3148\" y=\"-285.0203\" font-family=\"Times,serif\" font-size=\"14.00\" fill=\"#000000\">y</text>\n",
       "</g>\n",
       "<!-- 139835344456896 -->\n",
       "<g id=\"node7\" class=\"node\">\n",
       "<title>139835344456896</title>\n",
       "<ellipse fill=\"none\" stroke=\"#000000\" cx=\"468.8148\" cy=\"-445.8305\" rx=\"38.3684\" ry=\"26.7407\"/>\n",
       "<text text-anchor=\"middle\" x=\"468.8148\" y=\"-449.6305\" font-family=\"Times,serif\" font-size=\"14.00\" fill=\"#000000\">A </text>\n",
       "<text text-anchor=\"middle\" x=\"468.8148\" y=\"-434.6305\" font-family=\"Times,serif\" font-size=\"14.00\" fill=\"#000000\"> (4.0)</text>\n",
       "</g>\n",
       "<!-- 139835344456896&#45;&gt;139835344713264 -->\n",
       "<g id=\"edge7\" class=\"edge\">\n",
       "<title>139835344456896&#45;&gt;139835344713264</title>\n",
       "<path fill=\"none\" stroke=\"#000000\" d=\"M468.8148,-418.8573C468.8148,-406.5179 468.8148,-391.6964 468.8148,-378.3175\"/>\n",
       "<polygon fill=\"#000000\" stroke=\"#000000\" points=\"472.3149,-377.9721 468.8148,-367.9722 465.3149,-377.9722 472.3149,-377.9721\"/>\n",
       "<text text-anchor=\"middle\" x=\"479.8148\" y=\"-389.7605\" font-family=\"Times,serif\" font-size=\"14.00\" fill=\"#000000\">obj</text>\n",
       "</g>\n",
       "</g>\n",
       "</svg>\n"
      ],
      "text/plain": [
       "<graphviz.dot.Digraph at 0x7f2df40c7438>"
      ]
     },
     "execution_count": 19,
     "metadata": {},
     "output_type": "execute_result"
    }
   ],
   "source": [
    "from noodles import run_single\n",
    "from noodles.tutorial import add\n",
    "\n",
    "u = A(3.0)\n",
    "v = A(4.0)\n",
    "u.square = add(u.square, v.square)\n",
    "w = u.value\n",
    "\n",
    "run_single(w)\n",
    "get_workflow_graph(w)"
   ]
  },
  {
   "cell_type": "markdown",
   "metadata": {},
   "source": [
    "Note that, to make this work in general parallel situations, the `_setattr` function has to create a deepcopy of the object and then return the modified object; so this style of programming can become quite expensive. A better solution would be to create a layered system, where updates only affect the values that are being updated."
   ]
  },
  {
   "cell_type": "markdown",
   "metadata": {},
   "source": [
    "## User messages\n",
    "If jobs take a long time (>1s) to run, it is nice to give the user a message when it starts, when it finishes and if it was a success. Noodles has an adaptor for runners to display messages."
   ]
  },
  {
   "cell_type": "code",
   "execution_count": 20,
   "metadata": {
    "collapsed": true
   },
   "outputs": [],
   "source": [
    "from noodles import (gather)\n",
    "from noodles.tutorial import (sub, mul, accumulate)\n",
    "from noodles.display import (DumbDisplay)\n",
    "from noodles.run.runners import (run_parallel_with_display)\n",
    "import time\n",
    "\n",
    "\n",
    "@schedule(display=\"|   {a} + {b}\", confirm=True)\n",
    "def add(a, b):\n",
    "    time.sleep(0.5)\n",
    "    return a + b\n",
    "\n",
    "\n",
    "@schedule(display=\"{msg}\")\n",
    "def message(msg, value=0):\n",
    "    return value()\n",
    "\n",
    "\n",
    "def test_logging():\n",
    "    A = add(1, 1)\n",
    "    B = sub(3, A)\n",
    "\n",
    "    multiples = [mul(add(i, B), A) for i in range(6)]\n",
    "    C = accumulate(gather(*multiples))\n",
    "    wf = message(\"\\n+---(Running the test)\", lambda: C)\n",
    "\n",
    "    with DumbDisplay() as display:\n",
    "        result = run_parallel_with_display(wf, n_threads=4, display=display)\n",
    "    print(\"\\nThe answer is \", result)"
   ]
  },
  {
   "cell_type": "markdown",
   "metadata": {},
   "source": [
    "We imported some predefined functions from `noodles.tutorial`. A new function that we haven't seen before is `@schedule_hint`. It does the same as `@schedule`, but now it also attaches some information to the function. This can be anything. Here we add a `display` string. This string is formatted using the arguments to the function that is being called. "
   ]
  },
  {
   "cell_type": "code",
   "execution_count": 21,
   "metadata": {},
   "outputs": [
    {
     "name": "stderr",
     "output_type": "stream",
     "text": [
      "[START]      | \n",
      "+---(Running the test)\n",
      "[DONE]       | \n",
      "+---(Running the test)\n",
      "[START]      | |   1 + 1\n",
      "[DONE]       | |   1 + 1\n",
      "[START]      | sub (3, 2)\n",
      "[DONE]       | sub (3, 2)\n",
      "[START]      | |   0 + 1\n",
      "[START]      | |   1 + 1\n",
      "[START]      | |   2 + 1\n",
      "[START]      | |   3 + 1\n",
      "[START]      | |   4 + 1\n",
      "[START]      | |   5 + 1\n",
      "[DONE]       | |   0 + 1\n",
      "[DONE]       | |   1 + 1\n",
      "[DONE]       | |   3 + 1\n",
      "[START]      | mul (1, 2)\n",
      "[START]      | mul (2, 2)\n",
      "[START]      | mul (4, 2)\n",
      "[DONE]       | mul (1, 2)\n",
      "[DONE]       | mul (2, 2)\n",
      "[DONE]       | mul (4, 2)\n",
      "[DONE]       | |   2 + 1\n",
      "[START]      | mul (3, 2)\n",
      "[DONE]       | mul (3, 2)\n"
     ]
    },
    {
     "name": "stdout",
     "output_type": "stream",
     "text": [
      "[success]\n"
     ]
    },
    {
     "name": "stderr",
     "output_type": "stream",
     "text": [
      "[DONE]       | |   4 + 1\n",
      "[START]      | mul (5, 2)\n",
      "[DONE]       | mul (5, 2)\n",
      "[DONE]       | |   5 + 1\n",
      "[START]      | mul (6, 2)\n",
      "[DONE]       | mul (6, 2)\n",
      "[START]      | gather (2, 4, 6, 8, 10, 12)\n",
      "[DONE]       | gather (2, 4, 6, 8, 10, 12)\n",
      "[START]      | accumulate ([2, 4, 6, 8, 10, 12], 0)\n",
      "[DONE]       | accumulate ([2, 4, 6, 8, 10, 12], 0)\n"
     ]
    },
    {
     "name": "stdout",
     "output_type": "stream",
     "text": [
      "\n",
      "The answer is  42\n"
     ]
    }
   ],
   "source": [
    "import threading\n",
    "threading.Thread(target=test_logging, daemon=True).start()"
   ]
  },
  {
   "cell_type": "markdown",
   "metadata": {},
   "source": [
    "There are other functions than `DumbDisplay` that will work. Currently there is also `NCDisplay` (NC standing for NCurses), which is the one used in the Boil example application. The `NCDisplay` assumes we are in a terminal emulator environment."
   ]
  },
  {
   "cell_type": "markdown",
   "metadata": {},
   "source": [
    "## Iteration & Recursion"
   ]
  },
  {
   "cell_type": "code",
   "execution_count": null,
   "metadata": {
    "collapsed": true
   },
   "outputs": [],
   "source": []
  }
 ],
 "metadata": {
  "kernelspec": {
   "display_name": "Python 3",
   "language": "python",
   "name": "python3"
  },
  "language_info": {
   "codemirror_mode": {
    "name": "ipython",
    "version": 3
   },
   "file_extension": ".py",
   "mimetype": "text/x-python",
   "name": "python",
   "nbconvert_exporter": "python",
   "pygments_lexer": "ipython3",
   "version": "3.7.3"
  }
 },
 "nbformat": 4,
 "nbformat_minor": 2
}

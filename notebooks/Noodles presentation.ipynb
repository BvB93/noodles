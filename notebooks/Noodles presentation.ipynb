{
 "cells": [
  {
   "cell_type": "code",
   "execution_count": 1,
   "metadata": {
    "collapsed": false,
    "slideshow": {
     "slide_type": "skip"
    }
   },
   "outputs": [],
   "source": [
    "import sys\n",
    "\n",
    "if not '..' in sys.path:\n",
    "    sys.path.append('..')\n",
    "    \n",
    "from draw_workflow import draw_workflow"
   ]
  },
  {
   "cell_type": "markdown",
   "metadata": {
    "slideshow": {
     "slide_type": "slide"
    }
   },
   "source": [
    "# Noodles\n",
    "\n",
    "_Easy_ concurrent programming <s>in</s> using Python\n",
    "\n",
    "Johan Hidding, Thursday 19-11-2015 @ NLeSC"
   ]
  },
  {
   "cell_type": "code",
   "execution_count": 2,
   "metadata": {
    "collapsed": false,
    "slideshow": {
     "slide_type": "-"
    }
   },
   "outputs": [],
   "source": [
    "from noodles import schedule, run, run_parallel, gather"
   ]
  },
  {
   "cell_type": "markdown",
   "metadata": {
    "slideshow": {
     "slide_type": "slide"
    }
   },
   "source": [
    "## But, why?\n",
    "\n",
    "* save time _user's_ time\n",
    "* be flexible"
   ]
  },
  {
   "cell_type": "markdown",
   "metadata": {
    "slideshow": {
     "slide_type": "subslide"
    }
   },
   "source": [
    "## Alternatives\n",
    "\n",
    "* What we discussed: Taverna, KNIME, Pegasus etc.\n",
    "* Celery\n",
    "* IPyParallel\n",
    "* Fireworks\n",
    "* Hadoop / Spark"
   ]
  },
  {
   "cell_type": "markdown",
   "metadata": {
    "slideshow": {
     "slide_type": "subslide"
    }
   },
   "source": [
    "## Noodles parable (thank you Oscar!)\n",
    "\n",
    "![](noodles-parable-smaller.png)"
   ]
  },
  {
   "cell_type": "markdown",
   "metadata": {
    "slideshow": {
     "slide_type": "slide"
    }
   },
   "source": [
    "### start with example\n",
    "\n",
    "We start with a few functions that happen to exist some out where"
   ]
  },
  {
   "cell_type": "code",
   "execution_count": 3,
   "metadata": {
    "collapsed": true,
    "slideshow": {
     "slide_type": "-"
    }
   },
   "outputs": [],
   "source": [
    "@schedule\n",
    "def add(a, b):\n",
    "    return a+b\n",
    "\n",
    "@schedule\n",
    "def sub(a, b):\n",
    "    return a-b\n",
    "\n",
    "@schedule\n",
    "def mul(a, b):\n",
    "    return a*b"
   ]
  },
  {
   "cell_type": "markdown",
   "metadata": {
    "slideshow": {
     "slide_type": "subslide"
    }
   },
   "source": [
    "Our fledgeling Python script kiddie then enters the following code"
   ]
  },
  {
   "cell_type": "code",
   "execution_count": 4,
   "metadata": {
    "collapsed": true,
    "slideshow": {
     "slide_type": "-"
    }
   },
   "outputs": [],
   "source": [
    "u = add(5, 4)\n",
    "v = sub(u, 3)\n",
    "w = sub(u, 2)\n",
    "x = mul(v, w)"
   ]
  },
  {
   "cell_type": "code",
   "execution_count": 5,
   "metadata": {
    "collapsed": false,
    "slideshow": {
     "slide_type": "skip"
    }
   },
   "outputs": [],
   "source": [
    "draw_workflow('callgraph1.png', x._workflow)"
   ]
  },
  {
   "cell_type": "markdown",
   "metadata": {
    "slideshow": {
     "slide_type": "subslide"
    }
   },
   "source": [
    "resulting in this __workflow__:\n",
    "![callgraph](callgraph1.png)"
   ]
  },
  {
   "cell_type": "markdown",
   "metadata": {
    "slideshow": {
     "slide_type": "subslide"
    }
   },
   "source": [
    "We may run this in parallel!"
   ]
  },
  {
   "cell_type": "code",
   "execution_count": 6,
   "metadata": {
    "collapsed": false,
    "slideshow": {
     "slide_type": "-"
    }
   },
   "outputs": [
    {
     "data": {
      "text/plain": [
       "42"
      ]
     },
     "execution_count": 6,
     "metadata": {},
     "output_type": "execute_result"
    }
   ],
   "source": [
    "run_parallel(x, n_threads = 2)"
   ]
  },
  {
   "cell_type": "markdown",
   "metadata": {
    "slideshow": {
     "slide_type": "slide"
    }
   },
   "source": [
    "## How does it work?\n",
    "\n",
    "* Decorate functions to build a workflow\n",
    "* Use _any_ back-end to run on"
   ]
  },
  {
   "cell_type": "markdown",
   "metadata": {
    "slideshow": {
     "slide_type": "subslide"
    }
   },
   "source": [
    "## The decorator"
   ]
  },
  {
   "cell_type": "code",
   "execution_count": 7,
   "metadata": {
    "collapsed": true,
    "slideshow": {
     "slide_type": "-"
    }
   },
   "outputs": [],
   "source": [
    "def schedule(f):\n",
    "    @wraps(f)\n",
    "    def wrapped(*args, **kwargs):\n",
    "        bound_args = signature(f).bind(*args, **kwargs)\n",
    "        bound_args.apply_defaults()\n",
    "        return PromisedObject(merge_workflow(f, bound_args))\n",
    "\n",
    "    return wrapped"
   ]
  },
  {
   "cell_type": "markdown",
   "metadata": {
    "slideshow": {
     "slide_type": "subslide"
    }
   },
   "source": [
    "### Mocking a 'real' Python object"
   ]
  },
  {
   "cell_type": "code",
   "execution_count": 8,
   "metadata": {
    "collapsed": true,
    "slideshow": {
     "slide_type": "-"
    }
   },
   "outputs": [],
   "source": [
    "class PromisedObject:\n",
    "    def __init__(self, workflow):\n",
    "        self._workflow = workflow\n",
    "\n",
    "    def __call__(self, *args, **kwargs):\n",
    "        return _do_call(self._workflow, *args, **kwargs)\n",
    "\n",
    "    def __getattr__(self, attr):\n",
    "        if attr[0] == '_':\n",
    "            return self.__dict__[attr]\n",
    "\n",
    "        return _getattr(self._workflow, attr)\n",
    "\n",
    "    def __setattr__(self, attr, value):\n",
    "        if attr[0] == '_':\n",
    "            self.__dict__[attr] = value\n",
    "            return\n",
    "\n",
    "        self._workflow = get_workflow(_setattr(self._workflow, attr, value))"
   ]
  },
  {
   "cell_type": "markdown",
   "metadata": {
    "slideshow": {
     "slide_type": "subslide"
    }
   },
   "source": [
    "### Merging workflows into a function call"
   ]
  },
  {
   "cell_type": "code",
   "execution_count": 9,
   "metadata": {
    "collapsed": true,
    "slideshow": {
     "slide_type": "-"
    }
   },
   "outputs": [],
   "source": [
    "def merge_workflow(f, bound_args):\n",
    "    variadic = next((x.name for x in bound_args.signature.parameters.values()\n",
    "        if x.kind == Parameter.VAR_POSITIONAL), None)\n",
    "\n",
    "    if variadic:\n",
    "        bound_args.arguments[variadic] = list(bound_args.arguments[variadic])\n",
    "\n",
    "    node = FunctionNode(f, bound_args)\n",
    "\n",
    "    idx = id(node)\n",
    "    nodes = {idx: node}\n",
    "    links = {idx: set()}\n",
    "\n",
    "    for address in serialize_arguments(bound_args):\n",
    "        workflow = get_workflow(\n",
    "            ref_argument(bound_args, address))\n",
    "\n",
    "        if not workflow:\n",
    "            continue\n",
    "\n",
    "        set_argument(bound_args, address, Parameter.empty)\n",
    "        for n in workflow.nodes:\n",
    "            if n not in nodes:\n",
    "                nodes[n] = workflow.nodes[n]\n",
    "                links[n] = set()\n",
    "\n",
    "            links[n].update(workflow.links[n])\n",
    "\n",
    "        links[workflow.top].add((idx, address))\n",
    "\n",
    "    return Workflow(id(node), nodes, links)"
   ]
  },
  {
   "cell_type": "markdown",
   "metadata": {
    "slideshow": {
     "slide_type": "slide"
    }
   },
   "source": [
    "## eeeehm, What can we do (sort of)?\n",
    "\n",
    "* embarrassingly parallel loops\n",
    "* embedded workflows\n",
    "* empirical member assignment"
   ]
  },
  {
   "cell_type": "markdown",
   "metadata": {
    "slideshow": {
     "slide_type": "slide"
    }
   },
   "source": [
    "### loops"
   ]
  },
  {
   "cell_type": "code",
   "execution_count": 10,
   "metadata": {
    "collapsed": false,
    "slideshow": {
     "slide_type": "skip"
    }
   },
   "outputs": [],
   "source": [
    "from noodles import schedule, run, run_parallel, gather"
   ]
  },
  {
   "cell_type": "code",
   "execution_count": 11,
   "metadata": {
    "collapsed": false
   },
   "outputs": [],
   "source": [
    "@schedule\n",
    "def sum(a, buildin_sum = sum):\n",
    "    return buildin_sum(a)"
   ]
  },
  {
   "cell_type": "code",
   "execution_count": 12,
   "metadata": {
    "collapsed": false
   },
   "outputs": [],
   "source": [
    "r1 = add(1, 1)\n",
    "r2 = sub(3, r1)\n",
    "\n",
    "def foo(a, b, c):\n",
    "    return mul(add(a, b), c)\n",
    "\n",
    "multiples = [foo(i, r2, r1) for i in range(6)]\n",
    "\n",
    "r5 = sum(gather(*multiples))"
   ]
  },
  {
   "cell_type": "code",
   "execution_count": 13,
   "metadata": {
    "collapsed": false,
    "slideshow": {
     "slide_type": "skip"
    }
   },
   "outputs": [],
   "source": [
    "draw_workflow('callgraph2.png', r5._workflow)"
   ]
  },
  {
   "cell_type": "markdown",
   "metadata": {
    "slideshow": {
     "slide_type": "subslide"
    }
   },
   "source": [
    "![workflow with loops](callgraph2.png)"
   ]
  },
  {
   "cell_type": "code",
   "execution_count": 14,
   "metadata": {
    "collapsed": false
   },
   "outputs": [
    {
     "data": {
      "text/plain": [
       "42"
      ]
     },
     "execution_count": 14,
     "metadata": {},
     "output_type": "execute_result"
    }
   ],
   "source": [
    "run_parallel(r5, n_threads = 4)"
   ]
  },
  {
   "cell_type": "markdown",
   "metadata": {
    "slideshow": {
     "slide_type": "slide"
    }
   },
   "source": [
    "### embedded workflows"
   ]
  },
  {
   "cell_type": "code",
   "execution_count": 15,
   "metadata": {
    "collapsed": true
   },
   "outputs": [],
   "source": [
    "@schedule\n",
    "def sqr(a):\n",
    "    return a*a\n",
    "\n",
    "@schedule\n",
    "def map(f, lst):\n",
    "    return gather(*[f(x) for x in lst])\n",
    "\n",
    "@schedule\n",
    "def num_range(a, b):\n",
    "    return range(a, b)"
   ]
  },
  {
   "cell_type": "code",
   "execution_count": 16,
   "metadata": {
    "collapsed": true,
    "slideshow": {
     "slide_type": "-"
    }
   },
   "outputs": [],
   "source": [
    "wf = sum(map(sqr, num_range(0, 1000)))"
   ]
  },
  {
   "cell_type": "code",
   "execution_count": 17,
   "metadata": {
    "collapsed": false,
    "slideshow": {
     "slide_type": "skip"
    }
   },
   "outputs": [],
   "source": [
    "draw_workflow('callgraph3.png', wf._workflow)"
   ]
  },
  {
   "cell_type": "markdown",
   "metadata": {
    "slideshow": {
     "slide_type": "subslide"
    }
   },
   "source": [
    "![embedded workflows](callgraph3.png)"
   ]
  },
  {
   "cell_type": "code",
   "execution_count": 18,
   "metadata": {
    "collapsed": false,
    "slideshow": {
     "slide_type": "-"
    }
   },
   "outputs": [
    {
     "data": {
      "text/plain": [
       "332833500"
      ]
     },
     "execution_count": 18,
     "metadata": {},
     "output_type": "execute_result"
    }
   ],
   "source": [
    "run_parallel(wf, n_threads=4)"
   ]
  },
  {
   "cell_type": "markdown",
   "metadata": {
    "slideshow": {
     "slide_type": "slide"
    }
   },
   "source": [
    "## Using objects\n",
    "\n",
    "### Golden rule\n",
    "\n",
    "* if you change something, return it"
   ]
  },
  {
   "cell_type": "code",
   "execution_count": 19,
   "metadata": {
    "collapsed": true
   },
   "outputs": [],
   "source": [
    "@schedule\n",
    "class A:\n",
    "    def __init__(self, value):\n",
    "        self.value = value\n",
    "\n",
    "    def multiply(self, factor):\n",
    "        self.value *= factor"
   ]
  },
  {
   "cell_type": "code",
   "execution_count": 20,
   "metadata": {
    "collapsed": true,
    "slideshow": {
     "slide_type": "subslide"
    }
   },
   "outputs": [],
   "source": [
    "a = A(5)\n",
    "a.multiply(10)\n",
    "a.second = 7"
   ]
  },
  {
   "cell_type": "code",
   "execution_count": 21,
   "metadata": {
    "collapsed": false,
    "slideshow": {
     "slide_type": "skip"
    }
   },
   "outputs": [],
   "source": [
    "draw_workflow(\"callgraph4.png\", a._workflow)"
   ]
  },
  {
   "cell_type": "markdown",
   "metadata": {},
   "source": [
    "![oop callgraph](callgraph4.png)"
   ]
  },
  {
   "cell_type": "code",
   "execution_count": 22,
   "metadata": {
    "collapsed": true,
    "slideshow": {
     "slide_type": "-"
    }
   },
   "outputs": [],
   "source": [
    "@schedule\n",
    "class A:\n",
    "    def __init__(self, value):\n",
    "        self.value = value\n",
    "\n",
    "    def multiply(self, factor):\n",
    "        self.value *= factor\n",
    "        return self"
   ]
  },
  {
   "cell_type": "code",
   "execution_count": 23,
   "metadata": {
    "collapsed": true,
    "slideshow": {
     "slide_type": "subslide"
    }
   },
   "outputs": [],
   "source": [
    "a = A(5)\n",
    "a = a.multiply(10)\n",
    "a.second = 7"
   ]
  },
  {
   "cell_type": "code",
   "execution_count": 24,
   "metadata": {
    "collapsed": false,
    "slideshow": {
     "slide_type": "skip"
    }
   },
   "outputs": [],
   "source": [
    "draw_workflow(\"callgraph5.png\", a._workflow)"
   ]
  },
  {
   "cell_type": "markdown",
   "metadata": {
    "slideshow": {
     "slide_type": "-"
    }
   },
   "source": [
    "![another oop callgraph](callgraph5.png)"
   ]
  },
  {
   "cell_type": "code",
   "execution_count": 25,
   "metadata": {
    "collapsed": false,
    "slideshow": {
     "slide_type": "subslide"
    }
   },
   "outputs": [
    {
     "name": "stdout",
     "output_type": "stream",
     "text": [
      "50 7\n"
     ]
    }
   ],
   "source": [
    "result = run_parallel(a, n_threads=4)\n",
    "print(result.value, result.second)"
   ]
  },
  {
   "cell_type": "markdown",
   "metadata": {
    "slideshow": {
     "slide_type": "slide"
    }
   },
   "source": [
    "# Questions / Suggestions"
   ]
  }
 ],
 "metadata": {
  "celltoolbar": "Slideshow",
  "kernelspec": {
   "display_name": "Python 3",
   "language": "python",
   "name": "python3"
  },
  "language_info": {
   "codemirror_mode": {
    "name": "ipython",
    "version": 3
   },
   "file_extension": ".py",
   "mimetype": "text/x-python",
   "name": "python",
   "nbconvert_exporter": "python",
   "pygments_lexer": "ipython3",
   "version": "3.7.3"
  }
 },
 "nbformat": 4,
 "nbformat_minor": 2
}

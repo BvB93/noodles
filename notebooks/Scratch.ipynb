{
 "cells": [
  {
   "cell_type": "code",
   "execution_count": 56,
   "metadata": {
    "collapsed": false
   },
   "outputs": [
    {
     "data": {
      "text/plain": [
       "'3.5.0+ (default, Sep 23 2015, 23:01:34) \\n[GCC 5.2.1 20150911]'"
      ]
     },
     "execution_count": 56,
     "metadata": {},
     "output_type": "execute_result"
    }
   ],
   "source": [
    "import sys\n",
    "import typing\n",
    "from collections import namedtuple\n",
    "from inspect import signature\n",
    "sys.version"
   ]
  },
  {
   "cell_type": "markdown",
   "metadata": {},
   "source": [
    "![Call-graph2](graph-example2.png)"
   ]
  },
  {
   "cell_type": "code",
   "execution_count": 20,
   "metadata": {
    "collapsed": false
   },
   "outputs": [],
   "source": [
    "if \"..\" not in sys.path:\n",
    "    sys.path.append(\"..\")"
   ]
  },
  {
   "cell_type": "code",
   "execution_count": 50,
   "metadata": {
    "collapsed": false
   },
   "outputs": [],
   "source": [
    "from engine.decorator import _pluck_arguments"
   ]
  },
  {
   "cell_type": "code",
   "execution_count": 59,
   "metadata": {
    "collapsed": true
   },
   "outputs": [],
   "source": [
    "class A_orig:\n",
    "    def __init__(self, a):\n",
    "        self.a = a\n",
    "    \n",
    "    def say(self):\n",
    "        print(\"hi {0}\".format(self.a))"
   ]
  },
  {
   "cell_type": "code",
   "execution_count": 60,
   "metadata": {
    "collapsed": false
   },
   "outputs": [],
   "source": [
    "def decorate(cls):\n",
    "    def make_cls(*args, **kwargs):\n",
    "        regular, variadic, keywords = _pluck_arguments(cls, args, kwargs)\n",
    "        print(cls.__name__, regular, variadic, keywords)\n",
    "        return cls(*args, **kwargs)\n",
    "    \n",
    "    return make_cls\n",
    "\n",
    "@decorate\n",
    "class A:\n",
    "    def __init__(self, a):\n",
    "        self.a = a\n",
    "    \n",
    "    def say(self):\n",
    "        print(\"hi {0}\".format(self.a))\n"
   ]
  },
  {
   "cell_type": "code",
   "execution_count": 119,
   "metadata": {
    "collapsed": false
   },
   "outputs": [],
   "source": [
    "def f(a, b=42, *c, e, **d):\n",
    "    pass"
   ]
  },
  {
   "cell_type": "code",
   "execution_count": 120,
   "metadata": {
    "collapsed": false
   },
   "outputs": [],
   "source": [
    "s = signature(f)"
   ]
  },
  {
   "cell_type": "code",
   "execution_count": 121,
   "metadata": {
    "collapsed": false
   },
   "outputs": [],
   "source": [
    "b = s.bind(1, 2, 3, 4, 5, e=10, f=11)\n",
    "b.apply_defaults()"
   ]
  },
  {
   "cell_type": "code",
   "execution_count": 127,
   "metadata": {
    "collapsed": false
   },
   "outputs": [
    {
     "data": {
      "text/plain": [
       "(OrderedDict([('a', 1),\n",
       "              ('b', 2),\n",
       "              ('c', [3, 'a', 5]),\n",
       "              ('e', 10),\n",
       "              ('d', {'f': 11})]),\n",
       " (1, 2, 3, 'a', 5),\n",
       " {'e': 10, 'f': 11})"
      ]
     },
     "execution_count": 127,
     "metadata": {},
     "output_type": "execute_result"
    }
   ],
   "source": [
    "b.arguments,b.args, b.kwargs"
   ]
  },
  {
   "cell_type": "code",
   "execution_count": 126,
   "metadata": {
    "collapsed": false
   },
   "outputs": [],
   "source": [
    "b.arguments['c']=list(b.arguments['c'])\n",
    "b.arguments['c'][1] = 'a'"
   ]
  },
  {
   "cell_type": "code",
   "execution_count": 123,
   "metadata": {
    "collapsed": false
   },
   "outputs": [
    {
     "data": {
      "text/plain": [
       "mappingproxy(OrderedDict([('a', <Parameter \"a\">), ('b', <Parameter \"b=42\">), ('c', <Parameter \"*c\">), ('e', <Parameter \"e\">), ('d', <Parameter \"**d\">)]))"
      ]
     },
     "execution_count": 123,
     "metadata": {},
     "output_type": "execute_result"
    }
   ],
   "source": [
    "b.signature.parameters"
   ]
  },
  {
   "cell_type": "code",
   "execution_count": null,
   "metadata": {
    "collapsed": true
   },
   "outputs": [],
   "source": []
  }
 ],
 "metadata": {
  "kernelspec": {
   "display_name": "Python 3",
   "language": "python",
   "name": "python3"
  },
  "language_info": {
   "codemirror_mode": {
    "name": "ipython",
    "version": 3
   },
   "file_extension": ".py",
   "mimetype": "text/x-python",
   "name": "python",
   "nbconvert_exporter": "python",
   "pygments_lexer": "ipython3",
   "version": "3.5.0+"
  }
 },
 "nbformat": 4,
 "nbformat_minor": 0
}

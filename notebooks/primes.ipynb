{
 "cells": [
  {
   "cell_type": "code",
   "execution_count": 3,
   "metadata": {},
   "outputs": [
    {
     "name": "stdout",
     "output_type": "stream",
     "text": [
      "Requirement already satisfied: cython in /home/johannes/.local/share/workon/noodles/lib/python3.7/site-packages (0.29.10)\n"
     ]
    }
   ],
   "source": [
    "!pip install cython"
   ]
  },
  {
   "cell_type": "code",
   "execution_count": 4,
   "metadata": {
    "collapsed": true
   },
   "outputs": [],
   "source": [
    "%load_ext Cython"
   ]
  },
  {
   "cell_type": "code",
   "execution_count": 5,
   "metadata": {},
   "outputs": [],
   "source": [
    "%%cython\n",
    "\n",
    "from libc.math cimport ceil, sqrt\n",
    "\n",
    "\n",
    "cdef inline int primeQ(int n) nogil:\n",
    "    \"\"\"return a boolean, is the input integer a prime?\"\"\"\n",
    "    if n == 2:\n",
    "        return True\n",
    "    cdef int max_i = <int>ceil(sqrt(n))\n",
    "    cdef int i = 2\n",
    "    while i <= max_i:\n",
    "       if n % i == 0:\n",
    "           return False\n",
    "       i += 1\n",
    "    return True\n",
    "\n",
    "cpdef unsigned long sumPrimes(int n) nogil:\n",
    "    \"\"\"return sum of all primes less than n \"\"\"\n",
    "    cdef unsigned long i = 0\n",
    "    cdef int x\n",
    "    for x in range(2, n):\n",
    "        if primeQ(x):\n",
    "            i += x\n",
    "    return i"
   ]
  },
  {
   "cell_type": "code",
   "execution_count": 6,
   "metadata": {},
   "outputs": [
    {
     "data": {
      "text/plain": [
       "17"
      ]
     },
     "execution_count": 6,
     "metadata": {},
     "output_type": "execute_result"
    }
   ],
   "source": [
    "sumPrimes(10)"
   ]
  },
  {
   "cell_type": "code",
   "execution_count": 7,
   "metadata": {
    "collapsed": true
   },
   "outputs": [],
   "source": [
    "import noodles\n",
    "import time"
   ]
  },
  {
   "cell_type": "code",
   "execution_count": 8,
   "metadata": {},
   "outputs": [
    {
     "name": "stdout",
     "output_type": "stream",
     "text": [
      "121013308\n",
      "454396537\n",
      "986017447\n",
      "1709600813\n",
      "2623031151\n",
      "3709507114\n",
      "5002513514\n",
      "6458901531\n",
      "8093723585\n",
      "9914236195\n",
      "11900563183\n",
      "14071826345\n",
      "16404679972\n",
      "18910286312\n",
      "21588259025\n",
      "24465663438\n",
      "27489818806\n",
      "30689332265\n",
      "34049359802\n",
      "CPU times: user 1.61 s, sys: 5.49 ms, total: 1.62 s\n",
      "Wall time: 1.62 s\n"
     ]
    }
   ],
   "source": [
    "%%time\n",
    "\n",
    "for i in range(50000, 1000000, 50000):\n",
    "    print(sumPrimes(i), flush=True)"
   ]
  },
  {
   "cell_type": "code",
   "execution_count": 9,
   "metadata": {},
   "outputs": [
    {
     "name": "stdout",
     "output_type": "stream",
     "text": [
      "CPU times: user 7.83 ms, sys: 0 ns, total: 7.83 ms\n",
      "Wall time: 7.75 ms\n"
     ]
    }
   ],
   "source": [
    "%%time\n",
    "\n",
    "@noodles.schedule\n",
    "def s_sum_primes(n):\n",
    "    return sumPrimes(n)\n",
    "\n",
    "wf = noodles.gather(*map(s_sum_primes, range(50000, 1000000, 50000)))"
   ]
  },
  {
   "cell_type": "code",
   "execution_count": 10,
   "metadata": {},
   "outputs": [
    {
     "name": "stdout",
     "output_type": "stream",
     "text": [
      "[121013308, 454396537, 986017447, 1709600813, 2623031151, 3709507114, 5002513514, 6458901531, 8093723585, 9914236195, 11900563183, 14071826345, 16404679972, 18910286312, 21588259025, 24465663438, 27489818806, 30689332265, 34049359802]\n",
      "CPU times: user 1.57 s, sys: 3.49 ms, total: 1.58 s\n",
      "Wall time: 1.57 s\n"
     ]
    }
   ],
   "source": [
    "%%time\n",
    "result = noodles.run_parallel(wf, n_threads=10)\n",
    "print(result)"
   ]
  },
  {
   "cell_type": "code",
   "execution_count": null,
   "metadata": {
    "collapsed": true
   },
   "outputs": [],
   "source": []
  }
 ],
 "metadata": {
  "kernelspec": {
   "display_name": "Python 3",
   "language": "python",
   "name": "python3"
  },
  "language_info": {
   "codemirror_mode": {
    "name": "ipython",
    "version": 3
   },
   "file_extension": ".py",
   "mimetype": "text/x-python",
   "name": "python",
   "nbconvert_exporter": "python",
   "pygments_lexer": "ipython3",
   "version": "3.7.3"
  }
 },
 "nbformat": 4,
 "nbformat_minor": 2
}

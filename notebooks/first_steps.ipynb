{
 "cells": [
  {
   "cell_type": "markdown",
   "metadata": {},
   "source": [
    "# First Steps\n",
    "\n",
    "**This tutorial is also available in the form of a Jupyter Notebook. Try it out, and play!**\n",
    "\n",
    "Noodles is there to make your life easier, *in parallel*! The reason why Noodles can be easy and do parallel Python at the same time is its *functional* approach. In one part you'll define a set of functions that you'd like to run with Noodles, in an other part you'll compose these functions into a *workflow graph*. To make this approach work a function should not have any *side effects*. Let's not linger and just start noodling! First we define some functions to use."
   ]
  },
  {
   "cell_type": "code",
   "execution_count": 1,
   "metadata": {
    "collapsed": true
   },
   "outputs": [],
   "source": [
    "from noodles import schedule\n",
    "\n",
    "@schedule\n",
    "def add(x, y):\n",
    "    return x + y\n",
    "\n",
    "@schedule\n",
    "def mul(x,y):\n",
    "    return x * y"
   ]
  },
  {
   "cell_type": "markdown",
   "metadata": {},
   "source": [
    "Now we can create a workflow composing several calls to this function."
   ]
  },
  {
   "cell_type": "code",
   "execution_count": 2,
   "metadata": {
    "collapsed": true
   },
   "outputs": [],
   "source": [
    "a = add(1, 1)\n",
    "b = mul(a, 2)\n",
    "c = add(a, a)\n",
    "d = mul(b, c)"
   ]
  },
  {
   "cell_type": "markdown",
   "metadata": {},
   "source": [
    "That looks easy enough; the funny thing is though, that nothing has been computed yet! Noodles just created the workflow graphs corresponding to the values that still need to be computed. Until such time, we work with the *promise* of a future value. Using some function in `pygraphviz` we can look at the call graphs."
   ]
  },
  {
   "cell_type": "code",
   "execution_count": 8,
   "metadata": {},
   "outputs": [],
   "source": [
    "from noodles.tutorial import get_workflow_graph\n",
    "\n",
    "for i, wf in enumerate([a, b, c, d]):\n",
    "    get_workflow_graph(wf).render(\"wf{}.svg\".format(i))"
   ]
  },
  {
   "cell_type": "code",
   "execution_count": 3,
   "metadata": {
    "collapsed": true
   },
   "outputs": [],
   "source": [
    "from draw_workflow import draw_workflow\n",
    "import sys\n",
    "import os\n",
    "\n",
    "draw_workflow(\"wf1a.png\", a._workflow)\n",
    "draw_workflow(\"wf1b.png\", b._workflow)\n",
    "draw_workflow(\"wf1c.png\", c._workflow)\n",
    "draw_workflow(\"wf1d.png\", d._workflow)\n",
    "\n",
    "err = os.system(\"montage wf1?.png -tile 4x1 -geometry +10+0 wf1-series.png\")"
   ]
  },
  {
   "cell_type": "markdown",
   "metadata": {},
   "source": [
    "![callgraph](wf1-series.png)\n",
    "Now, to compute the result we have to tell Noodles to evaluate the program."
   ]
  },
  {
   "cell_type": "code",
   "execution_count": 4,
   "metadata": {},
   "outputs": [
    {
     "data": {
      "text/plain": [
       "16"
      ]
     },
     "execution_count": 4,
     "metadata": {},
     "output_type": "execute_result"
    }
   ],
   "source": [
    "from noodles import run_parallel, run_single\n",
    "\n",
    "run_parallel(d, n_threads=2)"
   ]
  }
 ],
 "metadata": {
  "kernelspec": {
   "display_name": "Python 3",
   "language": "python",
   "name": "python3"
  },
  "language_info": {
   "codemirror_mode": {
    "name": "ipython",
    "version": 3
   },
   "file_extension": ".py",
   "mimetype": "text/x-python",
   "name": "python",
   "nbconvert_exporter": "python",
   "pygments_lexer": "ipython3",
   "version": "3.6.2"
  }
 },
 "nbformat": 4,
 "nbformat_minor": 1
}
